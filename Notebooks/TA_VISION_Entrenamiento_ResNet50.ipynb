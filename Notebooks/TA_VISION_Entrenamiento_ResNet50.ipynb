{
  "nbformat": 4,
  "nbformat_minor": 5,
  "metadata": {
    "kernelspec": {
      "display_name": "Python 3",
      "language": "python",
      "name": "python3"
    },
    "language_info": {
      "codemirror_mode": {
        "name": "ipython",
        "version": 3
      },
      "file_extension": ".py",
      "mimetype": "text/x-python",
      "name": "python",
      "nbconvert_exporter": "python",
      "pygments_lexer": "ipython3",
      "version": "3.7.10"
    },
    "colab": {
      "name": "TA_VISION_Entrenamiento_ResNet50.ipynb",
      "provenance": [],
      "collapsed_sections": [
        "amazing-voluntary",
        "literary-passing",
        "desirable-sandwich"
      ]
    },
    "widgets": {
      "application/vnd.jupyter.widget-state+json": {
        "ef4c3587b34b4c58b4ed9fe1e4f47e60": {
          "model_module": "@jupyter-widgets/controls",
          "model_name": "HBoxModel",
          "state": {
            "_view_name": "HBoxView",
            "_dom_classes": [],
            "_model_name": "HBoxModel",
            "_view_module": "@jupyter-widgets/controls",
            "_model_module_version": "1.5.0",
            "_view_count": null,
            "_view_module_version": "1.5.0",
            "box_style": "",
            "layout": "IPY_MODEL_7a90720cfc2c4dbc8580e9f5755edc86",
            "_model_module": "@jupyter-widgets/controls",
            "children": [
              "IPY_MODEL_4cf07a2c6e554a5c9c3aacd98c91e10f",
              "IPY_MODEL_3993451781b94267b3bc3b6859f8c99c"
            ]
          }
        },
        "7a90720cfc2c4dbc8580e9f5755edc86": {
          "model_module": "@jupyter-widgets/base",
          "model_name": "LayoutModel",
          "state": {
            "_view_name": "LayoutView",
            "grid_template_rows": null,
            "right": null,
            "justify_content": null,
            "_view_module": "@jupyter-widgets/base",
            "overflow": null,
            "_model_module_version": "1.2.0",
            "_view_count": null,
            "flex_flow": null,
            "width": null,
            "min_width": null,
            "border": null,
            "align_items": null,
            "bottom": null,
            "_model_module": "@jupyter-widgets/base",
            "top": null,
            "grid_column": null,
            "overflow_y": null,
            "overflow_x": null,
            "grid_auto_flow": null,
            "grid_area": null,
            "grid_template_columns": null,
            "flex": null,
            "_model_name": "LayoutModel",
            "justify_items": null,
            "grid_row": null,
            "max_height": null,
            "align_content": null,
            "visibility": null,
            "align_self": null,
            "height": null,
            "min_height": null,
            "padding": null,
            "grid_auto_rows": null,
            "grid_gap": null,
            "max_width": null,
            "order": null,
            "_view_module_version": "1.2.0",
            "grid_template_areas": null,
            "object_position": null,
            "object_fit": null,
            "grid_auto_columns": null,
            "margin": null,
            "display": null,
            "left": null
          }
        },
        "4cf07a2c6e554a5c9c3aacd98c91e10f": {
          "model_module": "@jupyter-widgets/controls",
          "model_name": "FloatProgressModel",
          "state": {
            "_view_name": "ProgressView",
            "style": "IPY_MODEL_26e5d4e4b8ea4edb98973467dd7e1189",
            "_dom_classes": [],
            "description": "100%",
            "_model_name": "FloatProgressModel",
            "bar_style": "success",
            "max": 102530333,
            "_view_module": "@jupyter-widgets/controls",
            "_model_module_version": "1.5.0",
            "value": 102530333,
            "_view_count": null,
            "_view_module_version": "1.5.0",
            "orientation": "horizontal",
            "min": 0,
            "description_tooltip": null,
            "_model_module": "@jupyter-widgets/controls",
            "layout": "IPY_MODEL_eeec2f75758c483da626d824e2e83bf0"
          }
        },
        "3993451781b94267b3bc3b6859f8c99c": {
          "model_module": "@jupyter-widgets/controls",
          "model_name": "HTMLModel",
          "state": {
            "_view_name": "HTMLView",
            "style": "IPY_MODEL_fa5c642c9edc45eda69f00d8576fe064",
            "_dom_classes": [],
            "description": "",
            "_model_name": "HTMLModel",
            "placeholder": "​",
            "_view_module": "@jupyter-widgets/controls",
            "_model_module_version": "1.5.0",
            "value": " 97.8M/97.8M [00:05&lt;00:00, 18.1MB/s]",
            "_view_count": null,
            "_view_module_version": "1.5.0",
            "description_tooltip": null,
            "_model_module": "@jupyter-widgets/controls",
            "layout": "IPY_MODEL_156ea982ca5848c99e92af29637ec100"
          }
        },
        "26e5d4e4b8ea4edb98973467dd7e1189": {
          "model_module": "@jupyter-widgets/controls",
          "model_name": "ProgressStyleModel",
          "state": {
            "_view_name": "StyleView",
            "_model_name": "ProgressStyleModel",
            "description_width": "initial",
            "_view_module": "@jupyter-widgets/base",
            "_model_module_version": "1.5.0",
            "_view_count": null,
            "_view_module_version": "1.2.0",
            "bar_color": null,
            "_model_module": "@jupyter-widgets/controls"
          }
        },
        "eeec2f75758c483da626d824e2e83bf0": {
          "model_module": "@jupyter-widgets/base",
          "model_name": "LayoutModel",
          "state": {
            "_view_name": "LayoutView",
            "grid_template_rows": null,
            "right": null,
            "justify_content": null,
            "_view_module": "@jupyter-widgets/base",
            "overflow": null,
            "_model_module_version": "1.2.0",
            "_view_count": null,
            "flex_flow": null,
            "width": null,
            "min_width": null,
            "border": null,
            "align_items": null,
            "bottom": null,
            "_model_module": "@jupyter-widgets/base",
            "top": null,
            "grid_column": null,
            "overflow_y": null,
            "overflow_x": null,
            "grid_auto_flow": null,
            "grid_area": null,
            "grid_template_columns": null,
            "flex": null,
            "_model_name": "LayoutModel",
            "justify_items": null,
            "grid_row": null,
            "max_height": null,
            "align_content": null,
            "visibility": null,
            "align_self": null,
            "height": null,
            "min_height": null,
            "padding": null,
            "grid_auto_rows": null,
            "grid_gap": null,
            "max_width": null,
            "order": null,
            "_view_module_version": "1.2.0",
            "grid_template_areas": null,
            "object_position": null,
            "object_fit": null,
            "grid_auto_columns": null,
            "margin": null,
            "display": null,
            "left": null
          }
        },
        "fa5c642c9edc45eda69f00d8576fe064": {
          "model_module": "@jupyter-widgets/controls",
          "model_name": "DescriptionStyleModel",
          "state": {
            "_view_name": "StyleView",
            "_model_name": "DescriptionStyleModel",
            "description_width": "",
            "_view_module": "@jupyter-widgets/base",
            "_model_module_version": "1.5.0",
            "_view_count": null,
            "_view_module_version": "1.2.0",
            "_model_module": "@jupyter-widgets/controls"
          }
        },
        "156ea982ca5848c99e92af29637ec100": {
          "model_module": "@jupyter-widgets/base",
          "model_name": "LayoutModel",
          "state": {
            "_view_name": "LayoutView",
            "grid_template_rows": null,
            "right": null,
            "justify_content": null,
            "_view_module": "@jupyter-widgets/base",
            "overflow": null,
            "_model_module_version": "1.2.0",
            "_view_count": null,
            "flex_flow": null,
            "width": null,
            "min_width": null,
            "border": null,
            "align_items": null,
            "bottom": null,
            "_model_module": "@jupyter-widgets/base",
            "top": null,
            "grid_column": null,
            "overflow_y": null,
            "overflow_x": null,
            "grid_auto_flow": null,
            "grid_area": null,
            "grid_template_columns": null,
            "flex": null,
            "_model_name": "LayoutModel",
            "justify_items": null,
            "grid_row": null,
            "max_height": null,
            "align_content": null,
            "visibility": null,
            "align_self": null,
            "height": null,
            "min_height": null,
            "padding": null,
            "grid_auto_rows": null,
            "grid_gap": null,
            "max_width": null,
            "order": null,
            "_view_module_version": "1.2.0",
            "grid_template_areas": null,
            "object_position": null,
            "object_fit": null,
            "grid_auto_columns": null,
            "margin": null,
            "display": null,
            "left": null
          }
        }
      }
    },
    "accelerator": "GPU"
  },
  "cells": [
    {
      "cell_type": "code",
      "metadata": {
        "colab": {
          "base_uri": "https://localhost:8080/"
        },
        "id": "aquatic-surfing",
        "outputId": "8f7a4b8c-78e9-4145-8e72-b908bc9d3504"
      },
      "source": [
        "from matplotlib import pyplot as plt\n",
        "from PIL import Image\n",
        "import torchvision\n",
        "import numpy as np\n",
        "import shutil\n",
        "import random\n",
        "import torch\n",
        "import os\n",
        "\n",
        "%matplotlib inline\n",
        "\n",
        "torch.manual_seed(0)\n",
        "\n",
        "print('Using PyTorch version', torch.__version__)"
      ],
      "id": "aquatic-surfing",
      "execution_count": 1,
      "outputs": [
        {
          "output_type": "stream",
          "text": [
            "Using PyTorch version 1.9.0+cu102\n"
          ],
          "name": "stdout"
        }
      ]
    },
    {
      "cell_type": "code",
      "metadata": {
        "id": "sapphire-blogger"
      },
      "source": [
        "import pandas as pd"
      ],
      "id": "sapphire-blogger",
      "execution_count": 2,
      "outputs": []
    },
    {
      "cell_type": "code",
      "metadata": {
        "id": "understood-saver"
      },
      "source": [
        "import random\n",
        "import glob # borrar ficheros con patrones\n",
        "import shutil #copiar ficheros"
      ],
      "id": "understood-saver",
      "execution_count": 3,
      "outputs": []
    },
    {
      "cell_type": "code",
      "metadata": {
        "id": "secondary-transparency"
      },
      "source": [
        "from sklearn.model_selection import StratifiedShuffleSplit #para realizar el muestre"
      ],
      "id": "secondary-transparency",
      "execution_count": 4,
      "outputs": []
    },
    {
      "cell_type": "code",
      "metadata": {
        "colab": {
          "base_uri": "https://localhost:8080/"
        },
        "id": "arabic-picture",
        "outputId": "e08d5fe7-1301-421b-cae2-080286b82164"
      },
      "source": [
        "!wget --no-check-certificate \\\n",
        "    https://www.recod.ic.unicamp.br/~aurea.soriano/dataset/covid19.zip \\\n",
        "    -O /tmp/covid19.zip"
      ],
      "id": "arabic-picture",
      "execution_count": 5,
      "outputs": [
        {
          "output_type": "stream",
          "text": [
            "--2021-08-08 17:00:09--  https://www.recod.ic.unicamp.br/~aurea.soriano/dataset/covid19.zip\n",
            "Resolving www.recod.ic.unicamp.br (www.recod.ic.unicamp.br)... 143.106.7.142\n",
            "Connecting to www.recod.ic.unicamp.br (www.recod.ic.unicamp.br)|143.106.7.142|:443... connected.\n",
            "HTTP request sent, awaiting response... 302 Moved Temporarily\n",
            "Location: http://intranet.recod.ic.unicamp.br/~aurea.soriano/dataset/covid19.zip [following]\n",
            "--2021-08-08 17:00:10--  http://intranet.recod.ic.unicamp.br/~aurea.soriano/dataset/covid19.zip\n",
            "Resolving intranet.recod.ic.unicamp.br (intranet.recod.ic.unicamp.br)... 143.106.7.151\n",
            "Connecting to intranet.recod.ic.unicamp.br (intranet.recod.ic.unicamp.br)|143.106.7.151|:80... connected.\n",
            "HTTP request sent, awaiting response... 200 OK\n",
            "Length: 780769059 (745M) [application/zip]\n",
            "Saving to: ‘/tmp/covid19.zip’\n",
            "\n",
            "/tmp/covid19.zip    100%[===================>] 744.60M  18.3MB/s    in 42s     \n",
            "\n",
            "2021-08-08 17:00:53 (17.5 MB/s) - ‘/tmp/covid19.zip’ saved [780769059/780769059]\n",
            "\n"
          ],
          "name": "stdout"
        }
      ]
    },
    {
      "cell_type": "code",
      "metadata": {
        "id": "pwRGkYukmm4T"
      },
      "source": [
        "import zipfile\n",
        "\n",
        "local_zip = '/tmp/covid19.zip'\n",
        "zip_ref = zipfile.ZipFile(local_zip, 'r')\n",
        "zip_ref.extractall('/tmp')\n",
        "zip_ref.close()"
      ],
      "id": "pwRGkYukmm4T",
      "execution_count": 6,
      "outputs": []
    },
    {
      "cell_type": "code",
      "metadata": {
        "colab": {
          "base_uri": "https://localhost:8080/"
        },
        "id": "3elrT_3cmiX2",
        "outputId": "75bb24c0-a266-4302-cca6-60bb6296d5e3"
      },
      "source": [
        "#ruta donde se descomprimen los fichereros del dataset\n",
        "os.listdir(\"/tmp/COVID-19_Radiography_Dataset\")"
      ],
      "id": "3elrT_3cmiX2",
      "execution_count": 7,
      "outputs": [
        {
          "output_type": "execute_result",
          "data": {
            "text/plain": [
              "['Viral Pneumonia.metadata.xlsx',\n",
              " 'Normal.metadata.xlsx',\n",
              " 'README.md.txt',\n",
              " 'Normal',\n",
              " 'COVID.metadata.xlsx',\n",
              " 'Lung_Opacity',\n",
              " 'Lung_Opacity.metadata.xlsx',\n",
              " 'Viral Pneumonia',\n",
              " 'COVID']"
            ]
          },
          "metadata": {
            "tags": []
          },
          "execution_count": 7
        }
      ]
    },
    {
      "cell_type": "code",
      "metadata": {
        "id": "burning-state"
      },
      "source": [
        "#removemos los ficheros que no usaremos \n",
        "py_files = glob.glob('/tmp/COVID-19_Radiography_Dataset/*.*')\n",
        "for py_file in py_files:\n",
        "    try:\n",
        "        os.remove(py_file)\n",
        "    except OSError as e:\n",
        "        print(f\"Error:{ e.strerror}\")"
      ],
      "id": "burning-state",
      "execution_count": 8,
      "outputs": []
    },
    {
      "cell_type": "code",
      "metadata": {
        "colab": {
          "base_uri": "https://localhost:8080/"
        },
        "id": "stone-tourism",
        "outputId": "20a06047-ae5d-489d-e05c-48e2449e3758"
      },
      "source": [
        "root_dir    = '/tmp/COVID-19_Radiography_Dataset' #directorio origen\n",
        "\n",
        "os.listdir(root_dir)"
      ],
      "id": "stone-tourism",
      "execution_count": 9,
      "outputs": [
        {
          "output_type": "execute_result",
          "data": {
            "text/plain": [
              "['Normal', 'Lung_Opacity', 'Viral Pneumonia', 'COVID']"
            ]
          },
          "metadata": {
            "tags": []
          },
          "execution_count": 9
        }
      ]
    },
    {
      "cell_type": "code",
      "metadata": {
        "id": "musical-split"
      },
      "source": [
        "class_names = ['normal','opacity', 'viral', 'covid']\n",
        "source_dirs = ['Normal','Lung_Opacity','Viral Pneumonia', 'COVID']"
      ],
      "id": "musical-split",
      "execution_count": 10,
      "outputs": []
    },
    {
      "cell_type": "code",
      "metadata": {
        "id": "intense-acoustic"
      },
      "source": [
        "#se cambia el nombre de las carpetas\n",
        "for i, d in enumerate(source_dirs):\n",
        "    os.rename(os.path.join(root_dir, d), os.path.join(root_dir, class_names[i]))"
      ],
      "id": "intense-acoustic",
      "execution_count": 11,
      "outputs": []
    },
    {
      "cell_type": "code",
      "metadata": {
        "colab": {
          "base_uri": "https://localhost:8080/"
        },
        "id": "foster-suite",
        "outputId": "fc21caa6-af0c-479d-b6e2-bb318a16967d"
      },
      "source": [
        "os.listdir(root_dir)"
      ],
      "id": "foster-suite",
      "execution_count": 12,
      "outputs": [
        {
          "output_type": "execute_result",
          "data": {
            "text/plain": [
              "['normal', 'opacity', 'covid', 'viral']"
            ]
          },
          "metadata": {
            "tags": []
          },
          "execution_count": 12
        }
      ]
    },
    {
      "cell_type": "code",
      "metadata": {
        "id": "efficient-richardson"
      },
      "source": [
        "#dataframe de las imagenes y clases\n",
        "list_files=[]\n",
        "for dir in os.listdir(root_dir):\n",
        "  directory = os.path.join(root_dir,dir) # directorios de las clases\n",
        "  if os.path.isdir(directory):\n",
        "    for img in os.listdir(directory):\n",
        "      list_files.append([os.path.join(dir,img),dir]) #lista de todos los ficheros de cada directorio\n",
        "df = pd.DataFrame(list_files, columns=['id','clase'])"
      ],
      "id": "efficient-richardson",
      "execution_count": 13,
      "outputs": []
    },
    {
      "cell_type": "code",
      "metadata": {
        "colab": {
          "base_uri": "https://localhost:8080/",
          "height": 419
        },
        "id": "representative-render",
        "outputId": "e9e3bee0-b49e-4a89-e299-fcd4bfd3dd65"
      },
      "source": [
        "df"
      ],
      "id": "representative-render",
      "execution_count": 14,
      "outputs": [
        {
          "output_type": "execute_result",
          "data": {
            "text/html": [
              "<div>\n",
              "<style scoped>\n",
              "    .dataframe tbody tr th:only-of-type {\n",
              "        vertical-align: middle;\n",
              "    }\n",
              "\n",
              "    .dataframe tbody tr th {\n",
              "        vertical-align: top;\n",
              "    }\n",
              "\n",
              "    .dataframe thead th {\n",
              "        text-align: right;\n",
              "    }\n",
              "</style>\n",
              "<table border=\"1\" class=\"dataframe\">\n",
              "  <thead>\n",
              "    <tr style=\"text-align: right;\">\n",
              "      <th></th>\n",
              "      <th>id</th>\n",
              "      <th>clase</th>\n",
              "    </tr>\n",
              "  </thead>\n",
              "  <tbody>\n",
              "    <tr>\n",
              "      <th>0</th>\n",
              "      <td>normal/Normal-9311.png</td>\n",
              "      <td>normal</td>\n",
              "    </tr>\n",
              "    <tr>\n",
              "      <th>1</th>\n",
              "      <td>normal/Normal-4942.png</td>\n",
              "      <td>normal</td>\n",
              "    </tr>\n",
              "    <tr>\n",
              "      <th>2</th>\n",
              "      <td>normal/Normal-3656.png</td>\n",
              "      <td>normal</td>\n",
              "    </tr>\n",
              "    <tr>\n",
              "      <th>3</th>\n",
              "      <td>normal/Normal-719.png</td>\n",
              "      <td>normal</td>\n",
              "    </tr>\n",
              "    <tr>\n",
              "      <th>4</th>\n",
              "      <td>normal/Normal-8213.png</td>\n",
              "      <td>normal</td>\n",
              "    </tr>\n",
              "    <tr>\n",
              "      <th>...</th>\n",
              "      <td>...</td>\n",
              "      <td>...</td>\n",
              "    </tr>\n",
              "    <tr>\n",
              "      <th>21160</th>\n",
              "      <td>viral/Viral Pneumonia-1109.png</td>\n",
              "      <td>viral</td>\n",
              "    </tr>\n",
              "    <tr>\n",
              "      <th>21161</th>\n",
              "      <td>viral/Viral Pneumonia-73.png</td>\n",
              "      <td>viral</td>\n",
              "    </tr>\n",
              "    <tr>\n",
              "      <th>21162</th>\n",
              "      <td>viral/Viral Pneumonia-537.png</td>\n",
              "      <td>viral</td>\n",
              "    </tr>\n",
              "    <tr>\n",
              "      <th>21163</th>\n",
              "      <td>viral/Viral Pneumonia-376.png</td>\n",
              "      <td>viral</td>\n",
              "    </tr>\n",
              "    <tr>\n",
              "      <th>21164</th>\n",
              "      <td>viral/Viral Pneumonia-1176.png</td>\n",
              "      <td>viral</td>\n",
              "    </tr>\n",
              "  </tbody>\n",
              "</table>\n",
              "<p>21165 rows × 2 columns</p>\n",
              "</div>"
            ],
            "text/plain": [
              "                                   id   clase\n",
              "0              normal/Normal-9311.png  normal\n",
              "1              normal/Normal-4942.png  normal\n",
              "2              normal/Normal-3656.png  normal\n",
              "3               normal/Normal-719.png  normal\n",
              "4              normal/Normal-8213.png  normal\n",
              "...                               ...     ...\n",
              "21160  viral/Viral Pneumonia-1109.png   viral\n",
              "21161    viral/Viral Pneumonia-73.png   viral\n",
              "21162   viral/Viral Pneumonia-537.png   viral\n",
              "21163   viral/Viral Pneumonia-376.png   viral\n",
              "21164  viral/Viral Pneumonia-1176.png   viral\n",
              "\n",
              "[21165 rows x 2 columns]"
            ]
          },
          "metadata": {
            "tags": []
          },
          "execution_count": 14
        }
      ]
    },
    {
      "cell_type": "code",
      "metadata": {
        "colab": {
          "base_uri": "https://localhost:8080/",
          "height": 204
        },
        "id": "still-summit",
        "outputId": "cf6cfff1-5fa3-44f6-8c86-290027011d10"
      },
      "source": [
        "df.groupby(\"clase\").agg(frequency=(\"clase\", \"count\"))"
      ],
      "id": "still-summit",
      "execution_count": 15,
      "outputs": [
        {
          "output_type": "execute_result",
          "data": {
            "text/html": [
              "<div>\n",
              "<style scoped>\n",
              "    .dataframe tbody tr th:only-of-type {\n",
              "        vertical-align: middle;\n",
              "    }\n",
              "\n",
              "    .dataframe tbody tr th {\n",
              "        vertical-align: top;\n",
              "    }\n",
              "\n",
              "    .dataframe thead th {\n",
              "        text-align: right;\n",
              "    }\n",
              "</style>\n",
              "<table border=\"1\" class=\"dataframe\">\n",
              "  <thead>\n",
              "    <tr style=\"text-align: right;\">\n",
              "      <th></th>\n",
              "      <th>frequency</th>\n",
              "    </tr>\n",
              "    <tr>\n",
              "      <th>clase</th>\n",
              "      <th></th>\n",
              "    </tr>\n",
              "  </thead>\n",
              "  <tbody>\n",
              "    <tr>\n",
              "      <th>covid</th>\n",
              "      <td>3616</td>\n",
              "    </tr>\n",
              "    <tr>\n",
              "      <th>normal</th>\n",
              "      <td>10192</td>\n",
              "    </tr>\n",
              "    <tr>\n",
              "      <th>opacity</th>\n",
              "      <td>6012</td>\n",
              "    </tr>\n",
              "    <tr>\n",
              "      <th>viral</th>\n",
              "      <td>1345</td>\n",
              "    </tr>\n",
              "  </tbody>\n",
              "</table>\n",
              "</div>"
            ],
            "text/plain": [
              "         frequency\n",
              "clase             \n",
              "covid         3616\n",
              "normal       10192\n",
              "opacity       6012\n",
              "viral         1345"
            ]
          },
          "metadata": {
            "tags": []
          },
          "execution_count": 15
        }
      ]
    },
    {
      "cell_type": "code",
      "metadata": {
        "colab": {
          "base_uri": "https://localhost:8080/"
        },
        "id": "formed-permission",
        "outputId": "78b6ee08-f33c-44f1-cffc-f59b52ce7d47"
      },
      "source": [
        "df[\"clase\"].unique()"
      ],
      "id": "formed-permission",
      "execution_count": 16,
      "outputs": [
        {
          "output_type": "execute_result",
          "data": {
            "text/plain": [
              "array(['normal', 'opacity', 'covid', 'viral'], dtype=object)"
            ]
          },
          "metadata": {
            "tags": []
          },
          "execution_count": 16
        }
      ]
    },
    {
      "cell_type": "code",
      "metadata": {
        "id": "affecting-shower"
      },
      "source": [
        "#Haremos un submuestreo a las clases con mas ejemplos que la clase COVID\n",
        "def balance_dataset(focus_class, df):\n",
        "  classes = df[\"clase\"].unique()\n",
        "  classes_df_list = []\n",
        "  focus_class_df = df[df[\"clase\"] == focus_class]\n",
        "  classes_df_list.append(focus_class_df)\n",
        "  count_focus_class = len(focus_class_df)\n",
        "  ##Dividimos por clases\n",
        "  for classe in classes:\n",
        "    class_df = df[df[\"clase\"] == classe]\n",
        "    count_class = len(class_df)\n",
        "    if classe == focus_class:\n",
        "      continue\n",
        "    if count_class > count_focus_class+1000:\n",
        "      class_df = class_df.sample(count_focus_class+1000)\n",
        "    classes_df_list.append(class_df)\n",
        "  df_under = pd.concat(classes_df_list, axis=0) \n",
        "  return df_under\n",
        "\n",
        "\n",
        "df = balance_dataset('covid',df)"
      ],
      "id": "affecting-shower",
      "execution_count": 17,
      "outputs": []
    },
    {
      "cell_type": "code",
      "metadata": {
        "id": "concrete-greece",
        "colab": {
          "base_uri": "https://localhost:8080/",
          "height": 204
        },
        "outputId": "c4d18a4c-c7cc-42c8-c5e1-bfe4221a9597"
      },
      "source": [
        "df.groupby(\"clase\").agg(frequency=(\"clase\", \"count\"))"
      ],
      "id": "concrete-greece",
      "execution_count": 18,
      "outputs": [
        {
          "output_type": "execute_result",
          "data": {
            "text/html": [
              "<div>\n",
              "<style scoped>\n",
              "    .dataframe tbody tr th:only-of-type {\n",
              "        vertical-align: middle;\n",
              "    }\n",
              "\n",
              "    .dataframe tbody tr th {\n",
              "        vertical-align: top;\n",
              "    }\n",
              "\n",
              "    .dataframe thead th {\n",
              "        text-align: right;\n",
              "    }\n",
              "</style>\n",
              "<table border=\"1\" class=\"dataframe\">\n",
              "  <thead>\n",
              "    <tr style=\"text-align: right;\">\n",
              "      <th></th>\n",
              "      <th>frequency</th>\n",
              "    </tr>\n",
              "    <tr>\n",
              "      <th>clase</th>\n",
              "      <th></th>\n",
              "    </tr>\n",
              "  </thead>\n",
              "  <tbody>\n",
              "    <tr>\n",
              "      <th>covid</th>\n",
              "      <td>3616</td>\n",
              "    </tr>\n",
              "    <tr>\n",
              "      <th>normal</th>\n",
              "      <td>4616</td>\n",
              "    </tr>\n",
              "    <tr>\n",
              "      <th>opacity</th>\n",
              "      <td>4616</td>\n",
              "    </tr>\n",
              "    <tr>\n",
              "      <th>viral</th>\n",
              "      <td>1345</td>\n",
              "    </tr>\n",
              "  </tbody>\n",
              "</table>\n",
              "</div>"
            ],
            "text/plain": [
              "         frequency\n",
              "clase             \n",
              "covid         3616\n",
              "normal        4616\n",
              "opacity       4616\n",
              "viral         1345"
            ]
          },
          "metadata": {
            "tags": []
          },
          "execution_count": 18
        }
      ]
    },
    {
      "cell_type": "code",
      "metadata": {
        "colab": {
          "base_uri": "https://localhost:8080/",
          "height": 35
        },
        "id": "periodic-guyana",
        "outputId": "50875e59-bc2c-494c-b6ec-55a374e405b8"
      },
      "source": [
        "root_dir"
      ],
      "id": "periodic-guyana",
      "execution_count": 19,
      "outputs": [
        {
          "output_type": "execute_result",
          "data": {
            "application/vnd.google.colaboratory.intrinsic+json": {
              "type": "string"
            },
            "text/plain": [
              "'/tmp/COVID-19_Radiography_Dataset'"
            ]
          },
          "metadata": {
            "tags": []
          },
          "execution_count": 19
        }
      ]
    },
    {
      "cell_type": "code",
      "metadata": {
        "id": "domestic-rental"
      },
      "source": [
        "os.mkdir(root_dir+\"/train\")\n",
        "os.mkdir(root_dir+\"/test\")\n",
        "\n",
        "\n",
        "os.mkdir(root_dir+\"/train/covid\")\n",
        "os.mkdir(root_dir+\"/test/covid\")\n",
        "\n",
        "os.mkdir(root_dir+\"/train/viral\")\n",
        "os.mkdir(root_dir+\"/test/viral\")\n",
        "\n",
        "os.mkdir(root_dir+\"/train/normal\")\n",
        "os.mkdir(root_dir+\"/test/normal\")\n",
        "\n",
        "os.mkdir(root_dir+\"/train/opacity\")\n",
        "os.mkdir(root_dir+\"/test/opacity\")\n"
      ],
      "id": "domestic-rental",
      "execution_count": 20,
      "outputs": []
    },
    {
      "cell_type": "code",
      "metadata": {
        "id": "reasonable-commander"
      },
      "source": [
        "#creamos la función que hará el split de nuestros conjuntos\n",
        "def split_dataset(df,test_size,random_state = 101):\n",
        "  sss = StratifiedShuffleSplit(n_splits=1, test_size=test_size, random_state=random_state)#se divide de forma stratificada\n",
        "  df = df.reset_index()\n",
        "  for train_index, test_index in sss.split(df['id'], df['clase']):\n",
        "    X_train, X_test = df['id'][train_index], df['id'][test_index]\n",
        "    y_train, y_test = df['clase'][train_index], df['clase'][test_index]\n",
        "  traindf = pd.concat([X_train, y_train], axis=1)\n",
        "  testdf = pd.concat([X_test, y_test], axis=1)\n",
        "  return traindf,testdf"
      ],
      "id": "reasonable-commander",
      "execution_count": 21,
      "outputs": []
    },
    {
      "cell_type": "code",
      "metadata": {
        "id": "finnish-latex"
      },
      "source": [
        "traindf,testdf = split_dataset(df,test_size = 0.10)"
      ],
      "id": "finnish-latex",
      "execution_count": 22,
      "outputs": []
    },
    {
      "cell_type": "code",
      "metadata": {
        "colab": {
          "base_uri": "https://localhost:8080/"
        },
        "id": "consecutive-centre",
        "outputId": "046dcaef-2aca-4f81-e90c-5c4b96618d98"
      },
      "source": [
        "print(traindf['clase'].value_counts())"
      ],
      "id": "consecutive-centre",
      "execution_count": 23,
      "outputs": [
        {
          "output_type": "stream",
          "text": [
            "opacity    4154\n",
            "normal     4154\n",
            "covid      3254\n",
            "viral      1211\n",
            "Name: clase, dtype: int64\n"
          ],
          "name": "stdout"
        }
      ]
    },
    {
      "cell_type": "code",
      "metadata": {
        "colab": {
          "base_uri": "https://localhost:8080/"
        },
        "id": "assured-lyric",
        "outputId": "73deebc0-806a-4a41-d6b0-6e1881014d9a"
      },
      "source": [
        "print(testdf['clase'].value_counts())\n"
      ],
      "id": "assured-lyric",
      "execution_count": 24,
      "outputs": [
        {
          "output_type": "stream",
          "text": [
            "normal     462\n",
            "opacity    462\n",
            "covid      362\n",
            "viral      134\n",
            "Name: clase, dtype: int64\n"
          ],
          "name": "stdout"
        }
      ]
    },
    {
      "cell_type": "code",
      "metadata": {
        "colab": {
          "base_uri": "https://localhost:8080/"
        },
        "id": "collected-radiation",
        "outputId": "c60b5d18-6dde-490f-8b4d-f6abcc16d8b9"
      },
      "source": [
        "#visualizamos que todos nuestros conjuntos tienen imagenes diferentes entre ellos \n",
        "repetidos=pd.merge(traindf,testdf,how='left',on=['id'])\n",
        "print(repetidos['clase_y'].unique())\n"
      ],
      "id": "collected-radiation",
      "execution_count": 25,
      "outputs": [
        {
          "output_type": "stream",
          "text": [
            "[nan]\n"
          ],
          "name": "stdout"
        }
      ]
    },
    {
      "cell_type": "code",
      "metadata": {
        "id": "deluxe-equipment"
      },
      "source": [
        "for i in traindf.index:\n",
        "  shutil.copy(root_dir+\"/\"+traindf['id'][i],  root_dir+\"/train/\"+traindf['clase'][i])"
      ],
      "id": "deluxe-equipment",
      "execution_count": 26,
      "outputs": []
    },
    {
      "cell_type": "code",
      "metadata": {
        "id": "optical-dodge"
      },
      "source": [
        "for i in testdf.index:\n",
        "  shutil.copy(root_dir+\"/\"+testdf['id'][i],  root_dir+\"/test/\"+testdf['clase'][i])"
      ],
      "id": "optical-dodge",
      "execution_count": 27,
      "outputs": []
    },
    {
      "cell_type": "code",
      "metadata": {
        "colab": {
          "base_uri": "https://localhost:8080/"
        },
        "id": "racial-communication",
        "outputId": "6b67d9ab-9924-48ce-cb20-83b310d30efa"
      },
      "source": [
        "#conteo de ficheros en la clase train\n",
        "tmp=0\n",
        "print(\"Cantidad de datos en Train\")\n",
        "for i in traindf[\"clase\"].unique():\n",
        "  train=len(os.listdir(\"/tmp/COVID-19_Radiography_Dataset/train/\"+i))\n",
        "  print(i,str(train))\n",
        "  tmp=tmp+train\n",
        "print(\"Ficheros en Train: \"+str(tmp))"
      ],
      "id": "racial-communication",
      "execution_count": 28,
      "outputs": [
        {
          "output_type": "stream",
          "text": [
            "Cantidad de datos en Train\n",
            "normal 4154\n",
            "covid 3254\n",
            "opacity 4154\n",
            "viral 1211\n",
            "Ficheros en Train: 12773\n"
          ],
          "name": "stdout"
        }
      ]
    },
    {
      "cell_type": "code",
      "metadata": {
        "colab": {
          "base_uri": "https://localhost:8080/"
        },
        "id": "peaceful-discretion",
        "outputId": "c8ff75a6-7788-4263-c13f-238fb4c4f078"
      },
      "source": [
        "#conteo de ficheros en la clase test\n",
        "tmp=0\n",
        "print(\"Cantidad de ficheros en Test\")\n",
        "for i in testdf[\"clase\"].unique():\n",
        "  test=len(os.listdir(\"/tmp/COVID-19_Radiography_Dataset/test/\"+i))\n",
        "  print(i,str(test))\n",
        "  tmp=tmp+test\n",
        "print(\"ficheros en Test \"+str(tmp))"
      ],
      "id": "peaceful-discretion",
      "execution_count": 29,
      "outputs": [
        {
          "output_type": "stream",
          "text": [
            "Cantidad de ficheros en Test\n",
            "viral 134\n",
            "opacity 462\n",
            "normal 462\n",
            "covid 362\n",
            "ficheros en Test 1420\n"
          ],
          "name": "stdout"
        }
      ]
    },
    {
      "cell_type": "markdown",
      "metadata": {
        "id": "amazing-voluntary"
      },
      "source": [
        "# Creating Custom Dataset"
      ],
      "id": "amazing-voluntary"
    },
    {
      "cell_type": "code",
      "metadata": {
        "id": "postal-tumor"
      },
      "source": [
        "class ChestXRayDataset(torch.utils.data.Dataset):\n",
        "    def __init__(self, image_dirs, transform):\n",
        "        def get_images(class_name): #Verificar se o aquivo realmente é imagem 'png'\n",
        "            images = [x for x in os.listdir(image_dirs[class_name]) if x.lower().endswith('png')] \n",
        "            print(f'Found {len(images)} {class_name} examples')\n",
        "            return images\n",
        "        \n",
        "        self.images = {}\n",
        "        self.class_names = ['normal', 'viral', 'covid','opacity']\n",
        "        \n",
        "        for c in self.class_names:\n",
        "            self.images[c] = get_images(c)\n",
        "            \n",
        "        self.image_dirs = image_dirs\n",
        "        self.transform = transform\n",
        "          \n",
        "    def __len__(self):\n",
        "        return sum([len(self.images[c]) for c in self.class_names])\n",
        "    \n",
        "    def __getitem__(self, index):\n",
        "        class_name = random.choice(self.class_names)\n",
        "        index = index%len(self.images[class_name])\n",
        "        image_name = self.images[class_name][index]\n",
        "        image_path = os.path.join(self.image_dirs[class_name], image_name)\n",
        "        image = Image.open(image_path).convert('RGB')\n",
        "        return self.transform(image), self.class_names.index(class_name)"
      ],
      "id": "postal-tumor",
      "execution_count": 30,
      "outputs": []
    },
    {
      "cell_type": "markdown",
      "metadata": {
        "id": "literary-passing"
      },
      "source": [
        "# Image Transformations"
      ],
      "id": "literary-passing"
    },
    {
      "cell_type": "code",
      "metadata": {
        "id": "appointed-grave"
      },
      "source": [
        "train_transform = torchvision.transforms.Compose([\n",
        "    torchvision.transforms.Resize(size = (224, 224)),\n",
        "    torchvision.transforms.RandomHorizontalFlip(),\n",
        "    torchvision.transforms.ToTensor(),\n",
        "    torchvision.transforms.Normalize(mean = [0.485, 0.456, 0.406], std = [0.229, 0.224, 0.225])\n",
        "])"
      ],
      "id": "appointed-grave",
      "execution_count": 31,
      "outputs": []
    },
    {
      "cell_type": "code",
      "metadata": {
        "id": "dutch-russia"
      },
      "source": [
        "test_transform = torchvision.transforms.Compose([\n",
        "    torchvision.transforms.Resize(size = (224, 224)),\n",
        "    torchvision.transforms.ToTensor(),\n",
        "    torchvision.transforms.Normalize([0.485, 0.456, 0.406], [0.229, 0.224, 0.225])\n",
        "])"
      ],
      "id": "dutch-russia",
      "execution_count": 32,
      "outputs": []
    },
    {
      "cell_type": "markdown",
      "metadata": {
        "id": "desirable-sandwich"
      },
      "source": [
        "# Prepare Loader"
      ],
      "id": "desirable-sandwich"
    },
    {
      "cell_type": "code",
      "metadata": {
        "id": "treated-mother"
      },
      "source": [
        "train_dirs = {\n",
        "    'normal': '/tmp/COVID-19_Radiography_Dataset/train/normal',\n",
        "    'viral': '/tmp/COVID-19_Radiography_Dataset/train/viral',\n",
        "    'covid': '/tmp/COVID-19_Radiography_Dataset/train/covid',\n",
        "    'opacity': '/tmp/COVID-19_Radiography_Dataset/train/opacity'\n",
        "}"
      ],
      "id": "treated-mother",
      "execution_count": 33,
      "outputs": []
    },
    {
      "cell_type": "code",
      "metadata": {
        "id": "increased-radiation"
      },
      "source": [
        "test_dirs = {\n",
        "    'normal': '/tmp/COVID-19_Radiography_Dataset/test/normal',\n",
        "    'viral': '/tmp/COVID-19_Radiography_Dataset/test/viral',\n",
        "    'covid': '/tmp/COVID-19_Radiography_Dataset/test/covid',\n",
        "    'opacity': '/tmp/COVID-19_Radiography_Dataset/test/opacity'\n",
        "}"
      ],
      "id": "increased-radiation",
      "execution_count": 34,
      "outputs": []
    },
    {
      "cell_type": "code",
      "metadata": {
        "id": "maritime-meeting"
      },
      "source": [
        ""
      ],
      "id": "maritime-meeting",
      "execution_count": 34,
      "outputs": []
    },
    {
      "cell_type": "code",
      "metadata": {
        "colab": {
          "base_uri": "https://localhost:8080/"
        },
        "id": "mediterranean-musician",
        "outputId": "8b941694-92b2-4913-e79a-0a891d247437"
      },
      "source": [
        "train_dataset = ChestXRayDataset(train_dirs, train_transform)"
      ],
      "id": "mediterranean-musician",
      "execution_count": 35,
      "outputs": [
        {
          "output_type": "stream",
          "text": [
            "Found 4154 normal examples\n",
            "Found 1211 viral examples\n",
            "Found 3254 covid examples\n",
            "Found 4154 opacity examples\n"
          ],
          "name": "stdout"
        }
      ]
    },
    {
      "cell_type": "code",
      "metadata": {
        "colab": {
          "base_uri": "https://localhost:8080/"
        },
        "id": "other-teddy",
        "outputId": "538c9ae3-0c18-473e-ee46-276516bfd6e9"
      },
      "source": [
        "test_dataset = ChestXRayDataset(test_dirs, test_transform)"
      ],
      "id": "other-teddy",
      "execution_count": 36,
      "outputs": [
        {
          "output_type": "stream",
          "text": [
            "Found 462 normal examples\n",
            "Found 134 viral examples\n",
            "Found 362 covid examples\n",
            "Found 462 opacity examples\n"
          ],
          "name": "stdout"
        }
      ]
    },
    {
      "cell_type": "code",
      "metadata": {
        "colab": {
          "base_uri": "https://localhost:8080/"
        },
        "id": "dietary-occasion",
        "outputId": "e9374443-b2b8-4054-edf1-e68a0f48f711"
      },
      "source": [
        "batch_size_train = 6\n",
        "batch_size_test = 6\n",
        "\n",
        "dl_train = torch.utils.data.DataLoader(train_dataset, batch_size = batch_size_train, shuffle = True)\n",
        "dl_test = torch.utils.data.DataLoader(test_dataset, batch_size = batch_size_test, shuffle = True)\n",
        "\n",
        "print('Number of training batches', len(dl_train))\n",
        "print('Number of test batches', len(dl_test))"
      ],
      "id": "dietary-occasion",
      "execution_count": 37,
      "outputs": [
        {
          "output_type": "stream",
          "text": [
            "Number of training batches 2129\n",
            "Number of test batches 237\n"
          ],
          "name": "stdout"
        }
      ]
    },
    {
      "cell_type": "code",
      "metadata": {
        "id": "crazy-programmer"
      },
      "source": [
        "class_names = ['normal','viral','covid','opacity']\n",
        "\n",
        "def show_images(images, labels, preds):\n",
        "    plt.figure(figsize=(16, 9))\n",
        "    for i, image in enumerate(images):\n",
        "        plt.subplot(1, 6, i + 1, xticks = [], yticks = [])\n",
        "        image = image.numpy().transpose((1, 2, 0))\n",
        "        mean  = np.array([0.485, 0.456, 0.406])\n",
        "        std   = np.array([0.229, 0.224, 0.225])\n",
        "        image = image*std + mean\n",
        "        image = np.clip(image, 0., 1.)\n",
        "        plt.imshow(image)\n",
        "        col   = 'green'\n",
        "        if preds[i] != labels[i]:\n",
        "            col = 'red'\n",
        "            \n",
        "        plt.xlabel(f'{class_names[int(labels[i].numpy())]}')\n",
        "        plt.ylabel(f'{class_names[int(preds[i].numpy())]}', color = col)\n",
        "    plt.tight_layout()\n",
        "    plt.show()"
      ],
      "id": "crazy-programmer",
      "execution_count": 38,
      "outputs": []
    },
    {
      "cell_type": "code",
      "metadata": {
        "colab": {
          "base_uri": "https://localhost:8080/",
          "height": 0
        },
        "id": "speaking-beijing",
        "outputId": "89502627-cd8e-47d4-b482-e89c9b96b01f"
      },
      "source": [
        "images, labels = next(iter(dl_train))\n",
        "show_images(images, labels, labels)"
      ],
      "id": "speaking-beijing",
      "execution_count": 39,
      "outputs": [
        {
          "output_type": "display_data",
          "data": {
            "image/png": "[encoded data removed]",
            "text/plain": [
              "<Figure size 1152x648 with 6 Axes>"
            ]
          },
          "metadata": {
            "tags": []
          }
        }
      ]
    },
    {
      "cell_type": "markdown",
      "metadata": {
        "id": "enabling-corruption"
      },
      "source": [
        "# Creating the Model"
      ],
      "id": "enabling-corruption"
    },
    {
      "cell_type": "code",
      "metadata": {
        "colab": {
          "base_uri": "https://localhost:8080/"
        },
        "id": "CA-ZRBM8IR21",
        "outputId": "84bd882e-f07d-41c5-e89a-c6210de7c305"
      },
      "source": [
        "device = ('cuda' if torch.cuda.is_available() else 'cpu')\n",
        "print('Dispositivo disponible:', device)"
      ],
      "id": "CA-ZRBM8IR21",
      "execution_count": 40,
      "outputs": [
        {
          "output_type": "stream",
          "text": [
            "Dispositivo disponible: cuda\n"
          ],
          "name": "stdout"
        }
      ]
    },
    {
      "cell_type": "code",
      "metadata": {
        "colab": {
          "base_uri": "https://localhost:8080/",
          "height": 1000,
          "referenced_widgets": [
            "ef4c3587b34b4c58b4ed9fe1e4f47e60",
            "7a90720cfc2c4dbc8580e9f5755edc86",
            "4cf07a2c6e554a5c9c3aacd98c91e10f",
            "3993451781b94267b3bc3b6859f8c99c",
            "26e5d4e4b8ea4edb98973467dd7e1189",
            "eeec2f75758c483da626d824e2e83bf0",
            "fa5c642c9edc45eda69f00d8576fe064",
            "156ea982ca5848c99e92af29637ec100"
          ]
        },
        "id": "opposite-blackberry",
        "outputId": "aa95fcd6-32a2-4ecb-e648-314a2ceff45c"
      },
      "source": [
        "gnet = torchvision.models.resnet50(pretrained=True)\n",
        "gnet.fc = torch.nn.Linear(in_features = 2048, out_features = 4)\n",
        "#gnet.classifier[1] = torch.nn.Conv2d(512, 4, kernel_size=(1,1), stride=(1,1))\n",
        "print(gnet)"
      ],
      "id": "opposite-blackberry",
      "execution_count": 45,
      "outputs": [
        {
          "output_type": "stream",
          "text": [
            "Downloading: \"https://download.pytorch.org/models/resnet50-0676ba61.pth\" to /root/.cache/torch/hub/checkpoints/resnet50-0676ba61.pth\n"
          ],
          "name": "stderr"
        },
        {
          "output_type": "display_data",
          "data": {
            "application/vnd.jupyter.widget-view+json": {
              "model_id": "ef4c3587b34b4c58b4ed9fe1e4f47e60",
              "version_minor": 0,
              "version_major": 2
            },
            "text/plain": [
              "HBox(children=(FloatProgress(value=0.0, max=102530333.0), HTML(value='')))"
            ]
          },
          "metadata": {
            "tags": []
          }
        },
        {
          "output_type": "stream",
          "text": [
            "\n",
            "ResNet(\n",
            "  (conv1): Conv2d(3, 64, kernel_size=(7, 7), stride=(2, 2), padding=(3, 3), bias=False)\n",
            "  (bn1): BatchNorm2d(64, eps=1e-05, momentum=0.1, affine=True, track_running_stats=True)\n",
            "  (relu): ReLU(inplace=True)\n",
            "  (maxpool): MaxPool2d(kernel_size=3, stride=2, padding=1, dilation=1, ceil_mode=False)\n",
            "  (layer1): Sequential(\n",
            "    (0): Bottleneck(\n",
            "      (conv1): Conv2d(64, 64, kernel_size=(1, 1), stride=(1, 1), bias=False)\n",
            "      (bn1): BatchNorm2d(64, eps=1e-05, momentum=0.1, affine=True, track_running_stats=True)\n",
            "      (conv2): Conv2d(64, 64, kernel_size=(3, 3), stride=(1, 1), padding=(1, 1), bias=False)\n",
            "      (bn2): BatchNorm2d(64, eps=1e-05, momentum=0.1, affine=True, track_running_stats=True)\n",
            "      (conv3): Conv2d(64, 256, kernel_size=(1, 1), stride=(1, 1), bias=False)\n",
            "      (bn3): BatchNorm2d(256, eps=1e-05, momentum=0.1, affine=True, track_running_stats=True)\n",
            "      (relu): ReLU(inplace=True)\n",
            "      (downsample): Sequential(\n",
            "        (0): Conv2d(64, 256, kernel_size=(1, 1), stride=(1, 1), bias=False)\n",
            "        (1): BatchNorm2d(256, eps=1e-05, momentum=0.1, affine=True, track_running_stats=True)\n",
            "      )\n",
            "    )\n",
            "    (1): Bottleneck(\n",
            "      (conv1): Conv2d(256, 64, kernel_size=(1, 1), stride=(1, 1), bias=False)\n",
            "      (bn1): BatchNorm2d(64, eps=1e-05, momentum=0.1, affine=True, track_running_stats=True)\n",
            "      (conv2): Conv2d(64, 64, kernel_size=(3, 3), stride=(1, 1), padding=(1, 1), bias=False)\n",
            "      (bn2): BatchNorm2d(64, eps=1e-05, momentum=0.1, affine=True, track_running_stats=True)\n",
            "      (conv3): Conv2d(64, 256, kernel_size=(1, 1), stride=(1, 1), bias=False)\n",
            "      (bn3): BatchNorm2d(256, eps=1e-05, momentum=0.1, affine=True, track_running_stats=True)\n",
            "      (relu): ReLU(inplace=True)\n",
            "    )\n",
            "    (2): Bottleneck(\n",
            "      (conv1): Conv2d(256, 64, kernel_size=(1, 1), stride=(1, 1), bias=False)\n",
            "      (bn1): BatchNorm2d(64, eps=1e-05, momentum=0.1, affine=True, track_running_stats=True)\n",
            "      (conv2): Conv2d(64, 64, kernel_size=(3, 3), stride=(1, 1), padding=(1, 1), bias=False)\n",
            "      (bn2): BatchNorm2d(64, eps=1e-05, momentum=0.1, affine=True, track_running_stats=True)\n",
            "      (conv3): Conv2d(64, 256, kernel_size=(1, 1), stride=(1, 1), bias=False)\n",
            "      (bn3): BatchNorm2d(256, eps=1e-05, momentum=0.1, affine=True, track_running_stats=True)\n",
            "      (relu): ReLU(inplace=True)\n",
            "    )\n",
            "  )\n",
            "  (layer2): Sequential(\n",
            "    (0): Bottleneck(\n",
            "      (conv1): Conv2d(256, 128, kernel_size=(1, 1), stride=(1, 1), bias=False)\n",
            "      (bn1): BatchNorm2d(128, eps=1e-05, momentum=0.1, affine=True, track_running_stats=True)\n",
            "      (conv2): Conv2d(128, 128, kernel_size=(3, 3), stride=(2, 2), padding=(1, 1), bias=False)\n",
            "      (bn2): BatchNorm2d(128, eps=1e-05, momentum=0.1, affine=True, track_running_stats=True)\n",
            "      (conv3): Conv2d(128, 512, kernel_size=(1, 1), stride=(1, 1), bias=False)\n",
            "      (bn3): BatchNorm2d(512, eps=1e-05, momentum=0.1, affine=True, track_running_stats=True)\n",
            "      (relu): ReLU(inplace=True)\n",
            "      (downsample): Sequential(\n",
            "        (0): Conv2d(256, 512, kernel_size=(1, 1), stride=(2, 2), bias=False)\n",
            "        (1): BatchNorm2d(512, eps=1e-05, momentum=0.1, affine=True, track_running_stats=True)\n",
            "      )\n",
            "    )\n",
            "    (1): Bottleneck(\n",
            "      (conv1): Conv2d(512, 128, kernel_size=(1, 1), stride=(1, 1), bias=False)\n",
            "      (bn1): BatchNorm2d(128, eps=1e-05, momentum=0.1, affine=True, track_running_stats=True)\n",
            "      (conv2): Conv2d(128, 128, kernel_size=(3, 3), stride=(1, 1), padding=(1, 1), bias=False)\n",
            "      (bn2): BatchNorm2d(128, eps=1e-05, momentum=0.1, affine=True, track_running_stats=True)\n",
            "      (conv3): Conv2d(128, 512, kernel_size=(1, 1), stride=(1, 1), bias=False)\n",
            "      (bn3): BatchNorm2d(512, eps=1e-05, momentum=0.1, affine=True, track_running_stats=True)\n",
            "      (relu): ReLU(inplace=True)\n",
            "    )\n",
            "    (2): Bottleneck(\n",
            "      (conv1): Conv2d(512, 128, kernel_size=(1, 1), stride=(1, 1), bias=False)\n",
            "      (bn1): BatchNorm2d(128, eps=1e-05, momentum=0.1, affine=True, track_running_stats=True)\n",
            "      (conv2): Conv2d(128, 128, kernel_size=(3, 3), stride=(1, 1), padding=(1, 1), bias=False)\n",
            "      (bn2): BatchNorm2d(128, eps=1e-05, momentum=0.1, affine=True, track_running_stats=True)\n",
            "      (conv3): Conv2d(128, 512, kernel_size=(1, 1), stride=(1, 1), bias=False)\n",
            "      (bn3): BatchNorm2d(512, eps=1e-05, momentum=0.1, affine=True, track_running_stats=True)\n",
            "      (relu): ReLU(inplace=True)\n",
            "    )\n",
            "    (3): Bottleneck(\n",
            "      (conv1): Conv2d(512, 128, kernel_size=(1, 1), stride=(1, 1), bias=False)\n",
            "      (bn1): BatchNorm2d(128, eps=1e-05, momentum=0.1, affine=True, track_running_stats=True)\n",
            "      (conv2): Conv2d(128, 128, kernel_size=(3, 3), stride=(1, 1), padding=(1, 1), bias=False)\n",
            "      (bn2): BatchNorm2d(128, eps=1e-05, momentum=0.1, affine=True, track_running_stats=True)\n",
            "      (conv3): Conv2d(128, 512, kernel_size=(1, 1), stride=(1, 1), bias=False)\n",
            "      (bn3): BatchNorm2d(512, eps=1e-05, momentum=0.1, affine=True, track_running_stats=True)\n",
            "      (relu): ReLU(inplace=True)\n",
            "    )\n",
            "  )\n",
            "  (layer3): Sequential(\n",
            "    (0): Bottleneck(\n",
            "      (conv1): Conv2d(512, 256, kernel_size=(1, 1), stride=(1, 1), bias=False)\n",
            "      (bn1): BatchNorm2d(256, eps=1e-05, momentum=0.1, affine=True, track_running_stats=True)\n",
            "      (conv2): Conv2d(256, 256, kernel_size=(3, 3), stride=(2, 2), padding=(1, 1), bias=False)\n",
            "      (bn2): BatchNorm2d(256, eps=1e-05, momentum=0.1, affine=True, track_running_stats=True)\n",
            "      (conv3): Conv2d(256, 1024, kernel_size=(1, 1), stride=(1, 1), bias=False)\n",
            "      (bn3): BatchNorm2d(1024, eps=1e-05, momentum=0.1, affine=True, track_running_stats=True)\n",
            "      (relu): ReLU(inplace=True)\n",
            "      (downsample): Sequential(\n",
            "        (0): Conv2d(512, 1024, kernel_size=(1, 1), stride=(2, 2), bias=False)\n",
            "        (1): BatchNorm2d(1024, eps=1e-05, momentum=0.1, affine=True, track_running_stats=True)\n",
            "      )\n",
            "    )\n",
            "    (1): Bottleneck(\n",
            "      (conv1): Conv2d(1024, 256, kernel_size=(1, 1), stride=(1, 1), bias=False)\n",
            "      (bn1): BatchNorm2d(256, eps=1e-05, momentum=0.1, affine=True, track_running_stats=True)\n",
            "      (conv2): Conv2d(256, 256, kernel_size=(3, 3), stride=(1, 1), padding=(1, 1), bias=False)\n",
            "      (bn2): BatchNorm2d(256, eps=1e-05, momentum=0.1, affine=True, track_running_stats=True)\n",
            "      (conv3): Conv2d(256, 1024, kernel_size=(1, 1), stride=(1, 1), bias=False)\n",
            "      (bn3): BatchNorm2d(1024, eps=1e-05, momentum=0.1, affine=True, track_running_stats=True)\n",
            "      (relu): ReLU(inplace=True)\n",
            "    )\n",
            "    (2): Bottleneck(\n",
            "      (conv1): Conv2d(1024, 256, kernel_size=(1, 1), stride=(1, 1), bias=False)\n",
            "      (bn1): BatchNorm2d(256, eps=1e-05, momentum=0.1, affine=True, track_running_stats=True)\n",
            "      (conv2): Conv2d(256, 256, kernel_size=(3, 3), stride=(1, 1), padding=(1, 1), bias=False)\n",
            "      (bn2): BatchNorm2d(256, eps=1e-05, momentum=0.1, affine=True, track_running_stats=True)\n",
            "      (conv3): Conv2d(256, 1024, kernel_size=(1, 1), stride=(1, 1), bias=False)\n",
            "      (bn3): BatchNorm2d(1024, eps=1e-05, momentum=0.1, affine=True, track_running_stats=True)\n",
            "      (relu): ReLU(inplace=True)\n",
            "    )\n",
            "    (3): Bottleneck(\n",
            "      (conv1): Conv2d(1024, 256, kernel_size=(1, 1), stride=(1, 1), bias=False)\n",
            "      (bn1): BatchNorm2d(256, eps=1e-05, momentum=0.1, affine=True, track_running_stats=True)\n",
            "      (conv2): Conv2d(256, 256, kernel_size=(3, 3), stride=(1, 1), padding=(1, 1), bias=False)\n",
            "      (bn2): BatchNorm2d(256, eps=1e-05, momentum=0.1, affine=True, track_running_stats=True)\n",
            "      (conv3): Conv2d(256, 1024, kernel_size=(1, 1), stride=(1, 1), bias=False)\n",
            "      (bn3): BatchNorm2d(1024, eps=1e-05, momentum=0.1, affine=True, track_running_stats=True)\n",
            "      (relu): ReLU(inplace=True)\n",
            "    )\n",
            "    (4): Bottleneck(\n",
            "      (conv1): Conv2d(1024, 256, kernel_size=(1, 1), stride=(1, 1), bias=False)\n",
            "      (bn1): BatchNorm2d(256, eps=1e-05, momentum=0.1, affine=True, track_running_stats=True)\n",
            "      (conv2): Conv2d(256, 256, kernel_size=(3, 3), stride=(1, 1), padding=(1, 1), bias=False)\n",
            "      (bn2): BatchNorm2d(256, eps=1e-05, momentum=0.1, affine=True, track_running_stats=True)\n",
            "      (conv3): Conv2d(256, 1024, kernel_size=(1, 1), stride=(1, 1), bias=False)\n",
            "      (bn3): BatchNorm2d(1024, eps=1e-05, momentum=0.1, affine=True, track_running_stats=True)\n",
            "      (relu): ReLU(inplace=True)\n",
            "    )\n",
            "    (5): Bottleneck(\n",
            "      (conv1): Conv2d(1024, 256, kernel_size=(1, 1), stride=(1, 1), bias=False)\n",
            "      (bn1): BatchNorm2d(256, eps=1e-05, momentum=0.1, affine=True, track_running_stats=True)\n",
            "      (conv2): Conv2d(256, 256, kernel_size=(3, 3), stride=(1, 1), padding=(1, 1), bias=False)\n",
            "      (bn2): BatchNorm2d(256, eps=1e-05, momentum=0.1, affine=True, track_running_stats=True)\n",
            "      (conv3): Conv2d(256, 1024, kernel_size=(1, 1), stride=(1, 1), bias=False)\n",
            "      (bn3): BatchNorm2d(1024, eps=1e-05, momentum=0.1, affine=True, track_running_stats=True)\n",
            "      (relu): ReLU(inplace=True)\n",
            "    )\n",
            "  )\n",
            "  (layer4): Sequential(\n",
            "    (0): Bottleneck(\n",
            "      (conv1): Conv2d(1024, 512, kernel_size=(1, 1), stride=(1, 1), bias=False)\n",
            "      (bn1): BatchNorm2d(512, eps=1e-05, momentum=0.1, affine=True, track_running_stats=True)\n",
            "      (conv2): Conv2d(512, 512, kernel_size=(3, 3), stride=(2, 2), padding=(1, 1), bias=False)\n",
            "      (bn2): BatchNorm2d(512, eps=1e-05, momentum=0.1, affine=True, track_running_stats=True)\n",
            "      (conv3): Conv2d(512, 2048, kernel_size=(1, 1), stride=(1, 1), bias=False)\n",
            "      (bn3): BatchNorm2d(2048, eps=1e-05, momentum=0.1, affine=True, track_running_stats=True)\n",
            "      (relu): ReLU(inplace=True)\n",
            "      (downsample): Sequential(\n",
            "        (0): Conv2d(1024, 2048, kernel_size=(1, 1), stride=(2, 2), bias=False)\n",
            "        (1): BatchNorm2d(2048, eps=1e-05, momentum=0.1, affine=True, track_running_stats=True)\n",
            "      )\n",
            "    )\n",
            "    (1): Bottleneck(\n",
            "      (conv1): Conv2d(2048, 512, kernel_size=(1, 1), stride=(1, 1), bias=False)\n",
            "      (bn1): BatchNorm2d(512, eps=1e-05, momentum=0.1, affine=True, track_running_stats=True)\n",
            "      (conv2): Conv2d(512, 512, kernel_size=(3, 3), stride=(1, 1), padding=(1, 1), bias=False)\n",
            "      (bn2): BatchNorm2d(512, eps=1e-05, momentum=0.1, affine=True, track_running_stats=True)\n",
            "      (conv3): Conv2d(512, 2048, kernel_size=(1, 1), stride=(1, 1), bias=False)\n",
            "      (bn3): BatchNorm2d(2048, eps=1e-05, momentum=0.1, affine=True, track_running_stats=True)\n",
            "      (relu): ReLU(inplace=True)\n",
            "    )\n",
            "    (2): Bottleneck(\n",
            "      (conv1): Conv2d(2048, 512, kernel_size=(1, 1), stride=(1, 1), bias=False)\n",
            "      (bn1): BatchNorm2d(512, eps=1e-05, momentum=0.1, affine=True, track_running_stats=True)\n",
            "      (conv2): Conv2d(512, 512, kernel_size=(3, 3), stride=(1, 1), padding=(1, 1), bias=False)\n",
            "      (bn2): BatchNorm2d(512, eps=1e-05, momentum=0.1, affine=True, track_running_stats=True)\n",
            "      (conv3): Conv2d(512, 2048, kernel_size=(1, 1), stride=(1, 1), bias=False)\n",
            "      (bn3): BatchNorm2d(2048, eps=1e-05, momentum=0.1, affine=True, track_running_stats=True)\n",
            "      (relu): ReLU(inplace=True)\n",
            "    )\n",
            "  )\n",
            "  (avgpool): AdaptiveAvgPool2d(output_size=(1, 1))\n",
            "  (fc): Linear(in_features=2048, out_features=4, bias=True)\n",
            ")\n"
          ],
          "name": "stdout"
        }
      ]
    },
    {
      "cell_type": "code",
      "metadata": {
        "id": "growing-french"
      },
      "source": [
        "#gnet.fc = torch.nn.Linear(in_features = 1024, out_features = 4)\n",
        "gnet = gnet.to(device)\n",
        "loss_fngnet     = torch.nn.CrossEntropyLoss()\n",
        "optimizer_gnet   = torch.optim.Adam(gnet.parameters(), lr = 3e-5)"
      ],
      "id": "growing-french",
      "execution_count": 46,
      "outputs": []
    },
    {
      "cell_type": "code",
      "metadata": {
        "id": "dedicated-moderator"
      },
      "source": [
        "def show_predsgnet():\n",
        "    gnet.eval()\n",
        "    images, labels = next(iter(dl_test))\n",
        "    images = images.to(device)\n",
        "    labels = labels.to(device)\n",
        "    outputs  = gnet(images)\n",
        "    _, preds = torch.max(outputs, 1)\n",
        "    show_images(images.cpu(), labels.cpu(), preds.cpu())"
      ],
      "id": "dedicated-moderator",
      "execution_count": 47,
      "outputs": []
    },
    {
      "cell_type": "code",
      "metadata": {
        "colab": {
          "base_uri": "https://localhost:8080/",
          "height": 210
        },
        "id": "extra-girlfriend",
        "outputId": "63117977-72e9-402b-a043-cc7b205ff1da"
      },
      "source": [
        "show_predsgnet()"
      ],
      "id": "extra-girlfriend",
      "execution_count": 48,
      "outputs": [
        {
          "output_type": "display_data",
          "data": {
            "image/png": "[encoded data removed]",
            "text/plain": [
              "<Figure size 1152x648 with 6 Axes>"
            ]
          },
          "metadata": {
            "tags": []
          }
        }
      ]
    },
    {
      "cell_type": "code",
      "metadata": {
        "id": "HL9YJjiiHo5q"
      },
      "source": [
        "\n",
        "train_losses, test_losses = [], []\n",
        "def train2(epochs):\n",
        "    print('Starting training..')\n",
        "    \n",
        "    rs = '------------------------------------------------------------------'\n",
        "    print('Epoch    Train-Loss   Train-Acc   Val-Loss    Val-Acc   Best')\n",
        "    print(rs)\n",
        "    for e in range(0, epochs):\n",
        "        print('='*20)\n",
        "        print(f'Starting epoch {e + 1}/{epochs}')\n",
        "        print('='*20)\n",
        "\n",
        "        train_loss = 0.\n",
        "        val_loss = 0.\n",
        "\n",
        "        gnet.train() # set model to training phase\n",
        "\n",
        "        for train_step, (images, labels) in enumerate(dl_train):\n",
        "            images = images.to(device)\n",
        "            labels = labels.to(device)\n",
        "            optimizer_gnet.zero_grad()\n",
        "            outputs = gnet(images)\n",
        "            loss = loss_fngnet(outputs, labels)\n",
        "            loss.backward()\n",
        "            optimizer_gnet.step()\n",
        "            train_loss += loss.item()\n",
        "            if train_step % 20 == 0:\n",
        "                print('Evaluating at step', train_step)\n",
        "\n",
        "                accuracy = 0\n",
        "\n",
        "                gnet.eval() # set model to eval phase\n",
        "\n",
        "                for val_step, (images, labels) in enumerate(dl_test):\n",
        "                    images = images.to(device)\n",
        "                    labels = labels.to(device)\n",
        "                    outputs = gnet(images)\n",
        "                    loss = loss_fngnet(outputs, labels)\n",
        "                    val_loss += loss.item()\n",
        "\n",
        "                    _, preds = torch.max(outputs, 1)\n",
        "                    \n",
        "                    accuracy += torch.sum(preds == labels.data)\n",
        "\n",
        "                val_loss /= (val_step + 1)\n",
        "                train_loss /= (train_step + 1)\n",
        "                accuracy = accuracy/len(test_dataset)\n",
        "                print(f'Validation Loss: {val_loss:.4f}, Accuracy: {accuracy:.4f}')\n",
        "                \n",
        "                train_losses.append(train_loss)\n",
        "                test_losses.append(val_loss)\n",
        "\n",
        "                #show_predsgnet()\n",
        "\n",
        "                gnet.train()\n",
        "\n",
        "                if accuracy >= 0.954:\n",
        "                    print('Performance condition satisfied, stopping..')\n",
        "                    return\n",
        "\n",
        "        train_loss /= (train_step + 1)\n",
        "\n",
        "        print(f'Training Loss: {train_loss:.4f}')\n",
        "    print('Training complete..')"
      ],
      "id": "HL9YJjiiHo5q",
      "execution_count": 50,
      "outputs": []
    },
    {
      "cell_type": "code",
      "metadata": {
        "colab": {
          "base_uri": "https://localhost:8080/"
        },
        "id": "synthetic-territory",
        "outputId": "5dcbae5e-977e-4101-ab66-942bd6b6b3e5"
      },
      "source": [
        "%%time\n",
        "\n",
        "train2(epochs=1)"
      ],
      "id": "synthetic-territory",
      "execution_count": 51,
      "outputs": [
        {
          "output_type": "stream",
          "text": [
            "Starting training..\n",
            "Epoch    Train-Loss   Train-Acc   Val-Loss    Val-Acc   Best\n",
            "------------------------------------------------------------------\n",
            "====================\n",
            "Starting epoch 1/1\n",
            "====================\n",
            "Evaluating at step 0\n",
            "Validation Loss: 1.4765, Accuracy: 0.1923\n",
            "Evaluating at step 20\n",
            "Validation Loss: 1.1284, Accuracy: 0.6092\n",
            "Evaluating at step 40\n",
            "Validation Loss: 0.8637, Accuracy: 0.7479\n",
            "Evaluating at step 60\n",
            "Validation Loss: 0.6493, Accuracy: 0.7880\n",
            "Evaluating at step 80\n",
            "Validation Loss: 0.5459, Accuracy: 0.8451\n",
            "Evaluating at step 100\n",
            "Validation Loss: 0.4870, Accuracy: 0.8430\n",
            "Evaluating at step 120\n",
            "Validation Loss: 0.4449, Accuracy: 0.8556\n",
            "Evaluating at step 140\n",
            "Validation Loss: 0.4622, Accuracy: 0.8394\n",
            "Evaluating at step 160\n",
            "Validation Loss: 0.3853, Accuracy: 0.8739\n",
            "Evaluating at step 180\n",
            "Validation Loss: 0.3503, Accuracy: 0.8817\n",
            "Evaluating at step 200\n",
            "Validation Loss: 0.3972, Accuracy: 0.8556\n",
            "Evaluating at step 220\n",
            "Validation Loss: 0.3600, Accuracy: 0.8817\n",
            "Evaluating at step 240\n",
            "Validation Loss: 0.2946, Accuracy: 0.9028\n",
            "Evaluating at step 260\n",
            "Validation Loss: 0.3254, Accuracy: 0.8810\n",
            "Evaluating at step 280\n",
            "Validation Loss: 0.3013, Accuracy: 0.8958\n",
            "Evaluating at step 300\n",
            "Validation Loss: 0.3378, Accuracy: 0.8676\n",
            "Evaluating at step 320\n",
            "Validation Loss: 0.3500, Accuracy: 0.8683\n",
            "Evaluating at step 340\n",
            "Validation Loss: 0.2467, Accuracy: 0.9134\n",
            "Evaluating at step 360\n",
            "Validation Loss: 0.2631, Accuracy: 0.9063\n",
            "Evaluating at step 380\n",
            "Validation Loss: 0.3116, Accuracy: 0.9077\n",
            "Evaluating at step 400\n",
            "Validation Loss: 0.2692, Accuracy: 0.9176\n",
            "Evaluating at step 420\n",
            "Validation Loss: 0.2658, Accuracy: 0.9134\n",
            "Evaluating at step 440\n",
            "Validation Loss: 0.2917, Accuracy: 0.8923\n",
            "Evaluating at step 460\n",
            "Validation Loss: 0.2581, Accuracy: 0.9099\n",
            "Evaluating at step 480\n",
            "Validation Loss: 0.2606, Accuracy: 0.9141\n",
            "Evaluating at step 500\n",
            "Validation Loss: 0.2357, Accuracy: 0.9148\n",
            "Evaluating at step 520\n",
            "Validation Loss: 0.2213, Accuracy: 0.9254\n",
            "Evaluating at step 540\n",
            "Validation Loss: 0.2569, Accuracy: 0.9169\n",
            "Evaluating at step 560\n",
            "Validation Loss: 0.2195, Accuracy: 0.9275\n",
            "Evaluating at step 580\n",
            "Validation Loss: 0.2021, Accuracy: 0.9366\n",
            "Evaluating at step 600\n",
            "Validation Loss: 0.2274, Accuracy: 0.9310\n",
            "Evaluating at step 620\n",
            "Validation Loss: 0.2893, Accuracy: 0.8958\n",
            "Evaluating at step 640\n",
            "Validation Loss: 0.2251, Accuracy: 0.9359\n",
            "Evaluating at step 660\n",
            "Validation Loss: 0.2380, Accuracy: 0.9176\n",
            "Evaluating at step 680\n",
            "Validation Loss: 0.2523, Accuracy: 0.9106\n",
            "Evaluating at step 700\n",
            "Validation Loss: 0.2304, Accuracy: 0.9218\n",
            "Evaluating at step 720\n",
            "Validation Loss: 0.2313, Accuracy: 0.9239\n",
            "Evaluating at step 740\n",
            "Validation Loss: 0.2304, Accuracy: 0.9183\n",
            "Evaluating at step 760\n",
            "Validation Loss: 0.2046, Accuracy: 0.9366\n",
            "Evaluating at step 780\n",
            "Validation Loss: 0.2387, Accuracy: 0.9190\n",
            "Evaluating at step 800\n",
            "Validation Loss: 0.2448, Accuracy: 0.9162\n",
            "Evaluating at step 820\n",
            "Validation Loss: 0.2521, Accuracy: 0.9113\n",
            "Evaluating at step 840\n",
            "Validation Loss: 0.2076, Accuracy: 0.9254\n",
            "Evaluating at step 860\n",
            "Validation Loss: 0.2426, Accuracy: 0.9113\n",
            "Evaluating at step 880\n",
            "Validation Loss: 0.2180, Accuracy: 0.9254\n",
            "Evaluating at step 900\n",
            "Validation Loss: 0.2400, Accuracy: 0.9134\n",
            "Evaluating at step 920\n",
            "Validation Loss: 0.1894, Accuracy: 0.9394\n",
            "Evaluating at step 940\n",
            "Validation Loss: 0.1872, Accuracy: 0.9373\n",
            "Evaluating at step 960\n",
            "Validation Loss: 0.2225, Accuracy: 0.9204\n",
            "Evaluating at step 980\n",
            "Validation Loss: 0.1850, Accuracy: 0.9373\n",
            "Evaluating at step 1000\n",
            "Validation Loss: 0.2122, Accuracy: 0.9338\n",
            "Evaluating at step 1020\n",
            "Validation Loss: 0.1749, Accuracy: 0.9493\n",
            "Evaluating at step 1040\n",
            "Validation Loss: 0.2200, Accuracy: 0.9232\n",
            "Evaluating at step 1060\n",
            "Validation Loss: 0.1635, Accuracy: 0.9585\n",
            "Performance condition satisfied, stopping..\n",
            "CPU times: user 9min 47s, sys: 29.3 s, total: 10min 17s\n",
            "Wall time: 10min 17s\n"
          ],
          "name": "stdout"
        }
      ]
    },
    {
      "cell_type": "code",
      "metadata": {
        "id": "XDJgaLdFEyM2"
      },
      "source": [
        "import pickle\n",
        "#pickle.dump(train_losses, open('./train_losses_ResNet50.p', 'wb'))\n",
        "#pickle.dump(test_losses, open('./test_losses_ResNet50.p', 'wb'))"
      ],
      "id": "XDJgaLdFEyM2",
      "execution_count": 52,
      "outputs": []
    },
    {
      "cell_type": "code",
      "metadata": {
        "id": "K4Apjm3UJAfc"
      },
      "source": [
        "#train_loss_sq = pickle.load(open('./train_losses_sqN.p', 'rb'))\n",
        "#test_loss_sq = pickle.load(open('./test_losses_sqN.p', 'rb'))"
      ],
      "id": "K4Apjm3UJAfc",
      "execution_count": 53,
      "outputs": []
    },
    {
      "cell_type": "code",
      "metadata": {
        "colab": {
          "base_uri": "https://localhost:8080/",
          "height": 487
        },
        "id": "jCvam-dC5wMi",
        "outputId": "40c394bf-ba45-40fb-ac01-e445d8de8cb6"
      },
      "source": [
        "fig1, axs = plt.subplots(figsize=(8,8))\n",
        "\n",
        "axs.plot(train_losses, 'b-', label='Train loss')\n",
        "axs.plot(test_losses, 'r-', label='Val loss')\n",
        "\n",
        "\n",
        "axs.set_ylim([0, 3])\n",
        "\n",
        "plt.grid()\n",
        "plt.legend()\n",
        "plt.show()"
      ],
      "id": "jCvam-dC5wMi",
      "execution_count": 54,
      "outputs": [
        {
          "output_type": "display_data",
          "data": {
            "image/png": "[encoded data removed]",
            "text/plain": [
              "<Figure size 576x576 with 1 Axes>"
            ]
          },
          "metadata": {
            "tags": [],
            "needs_background": "light"
          }
        }
      ]
    },
    {
      "cell_type": "code",
      "metadata": {
        "colab": {
          "base_uri": "https://localhost:8080/",
          "height": 284
        },
        "id": "VK0OKw-TsWkL",
        "outputId": "680607d1-fd1a-4854-ab7c-e2bb6490fb51"
      },
      "source": [
        "from sklearn.metrics import confusion_matrix\n",
        "\n",
        "# Initialize the prediction and label lists(tensors)\n",
        "predlist=torch.zeros(0,dtype=torch.long)\n",
        "lbllist=torch.zeros(0,dtype=torch.long)\n",
        "\n",
        "gnet.eval()\n",
        "for val_step, (images, labels) in enumerate(dl_test):\n",
        "  images = images.to(device)\n",
        "  labels = labels.to(device)\n",
        "  outputs = gnet(images)\n",
        "\n",
        "  _, preds = torch.max(outputs, 1)\n",
        "  \n",
        "  # Append batch prediction results\n",
        "  predlist=torch.cat([predlist,preds.view(-1).cpu()])\n",
        "  lbllist=torch.cat([lbllist,labels.view(-1).cpu()])\n",
        "\n",
        "conf_mat=confusion_matrix(lbllist.numpy(), predlist.numpy())\n",
        "#print(conf_mat)\n",
        "import seaborn as sns\n",
        "import pandas as pd\n",
        "df_cm = pd.DataFrame(conf_mat, index = class_names,\n",
        "                  columns = class_names)\n",
        "sns.heatmap(df_cm, annot=True,cmap='Blues',fmt=\".0f\")"
      ],
      "id": "VK0OKw-TsWkL",
      "execution_count": 55,
      "outputs": [
        {
          "output_type": "execute_result",
          "data": {
            "text/plain": [
              "<matplotlib.axes._subplots.AxesSubplot at 0x7f19ad197c10>"
            ]
          },
          "metadata": {
            "tags": []
          },
          "execution_count": 55
        },
        {
          "output_type": "display_data",
          "data": {
            "image/png": "[encoded data removed]",
            "text/plain": [
              "<Figure size 432x288 with 2 Axes>"
            ]
          },
          "metadata": {
            "tags": [],
            "needs_background": "light"
          }
        }
      ]
    },
    {
      "cell_type": "code",
      "metadata": {
        "id": "gentle-ireland"
      },
      "source": [
        "torch.save(gnet.state_dict(), '/tmp/COVID-19_Radiography_Dataset/my_gnet_resnet50.pth')"
      ],
      "id": "gentle-ireland",
      "execution_count": 59,
      "outputs": []
    },
    {
      "cell_type": "code",
      "metadata": {
        "colab": {
          "base_uri": "https://localhost:8080/"
        },
        "id": "G2iu5yUMTbbL",
        "outputId": "061956d3-96f8-4f61-a05a-235a4ba247e5"
      },
      "source": [
        "#Cargamos el modelo guardado\n",
        "modelgnet_ = torchvision.models.resnet50(pretrained=True)\n",
        "modelgnet_.fc = torch.nn.Linear(in_features = 2048, out_features = 4)\n",
        "modelgnet_.load_state_dict(torch.load('/tmp/COVID-19_Radiography_Dataset/my_gnet_resnet50.pth'))"
      ],
      "id": "G2iu5yUMTbbL",
      "execution_count": 63,
      "outputs": [
        {
          "output_type": "execute_result",
          "data": {
            "text/plain": [
              "<All keys matched successfully>"
            ]
          },
          "metadata": {
            "tags": []
          },
          "execution_count": 63
        }
      ]
    },
    {
      "cell_type": "code",
      "metadata": {
        "id": "C4r5zuLmV65z"
      },
      "source": [
        "import torchvision.transforms as T\n",
        "def transformar_imagen(name):\n",
        "  '''\n",
        "  Pre procesamiento de la imagen\n",
        "  '''\n",
        "  image = Image.open(name).convert('RGB')\n",
        "\n",
        "  \n",
        "  transf = T.Compose([T.Resize(size = (224, 224)),\n",
        "                      #T.CenterCrop(224),\n",
        "                      T.ToTensor(), # entre 0 y 1\n",
        "                      T.Normalize([0.485,0.456,0.406],[0.229,0.224,0.225])]) # medias y desviacion estandar (Welford's method)\n",
        "  #image = Image.open(name)\n",
        "  # Tamaño (3,224,224) => (1, 3, 224, 224)\n",
        "  return transf(image).unsqueeze(0) # tensor singleton"
      ],
      "id": "C4r5zuLmV65z",
      "execution_count": 64,
      "outputs": []
    },
    {
      "cell_type": "code",
      "metadata": {
        "id": "ngEZrcFhVj66"
      },
      "source": [
        "def prediccion2(network, name):\n",
        "  '''\n",
        "  Predicción con grado de confidencia\n",
        "  '''\n",
        "  tensor = transformar_imagen(name)\n",
        "  network.eval()\n",
        "  output = network(tensor)\n",
        "  #output = F.softmax(pred, dim=-1)\n",
        "  _, pred = torch.max(output,1)\n",
        "  #index = str(val.item())\n",
        "  show_images(tensor, pred, pred)\n",
        "  return pred\n",
        "  "
      ],
      "id": "ngEZrcFhVj66",
      "execution_count": 65,
      "outputs": []
    }
  ]
}
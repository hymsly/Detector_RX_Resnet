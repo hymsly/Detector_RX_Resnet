{
  "nbformat": 4,
  "nbformat_minor": 5,
  "metadata": {
    "kernelspec": {
      "display_name": "Python 3",
      "language": "python",
      "name": "python3"
    },
    "language_info": {
      "codemirror_mode": {
        "name": "ipython",
        "version": 3
      },
      "file_extension": ".py",
      "mimetype": "text/x-python",
      "name": "python",
      "nbconvert_exporter": "python",
      "pygments_lexer": "ipython3",
      "version": "3.7.10"
    },
    "colab": {
      "name": "Estratificado_COVID_RX_VGG_RESNET18.ipynb",
      "provenance": [],
      "collapsed_sections": []
    },
    "accelerator": "GPU"
  },
  "cells": [
    {
      "cell_type": "code",
      "metadata": {
        "colab": {
          "base_uri": "https://localhost:8080/"
        },
        "id": "aquatic-surfing",
        "outputId": "2c520a0d-0354-4c7a-d30a-227050d8c94a"
      },
      "source": [
        "from matplotlib import pyplot as plt\n",
        "from PIL import Image\n",
        "import torchvision\n",
        "import numpy as np\n",
        "import shutil\n",
        "import random\n",
        "import torch\n",
        "import os\n",
        "\n",
        "%matplotlib inline\n",
        "\n",
        "torch.manual_seed(0)\n",
        "\n",
        "print('Using PyTorch version', torch.__version__)"
      ],
      "id": "aquatic-surfing",
      "execution_count": null,
      "outputs": [
        {
          "output_type": "stream",
          "text": [
            "Using PyTorch version 1.9.0+cu102\n"
          ],
          "name": "stdout"
        }
      ]
    },
    {
      "cell_type": "code",
      "metadata": {
        "id": "sapphire-blogger"
      },
      "source": [
        "import pandas as pd"
      ],
      "id": "sapphire-blogger",
      "execution_count": null,
      "outputs": []
    },
    {
      "cell_type": "code",
      "metadata": {
        "id": "understood-saver"
      },
      "source": [
        "import random\n",
        "import glob # borrar ficheros con patrones\n",
        "import shutil #copiar ficheros"
      ],
      "id": "understood-saver",
      "execution_count": null,
      "outputs": []
    },
    {
      "cell_type": "code",
      "metadata": {
        "id": "secondary-transparency"
      },
      "source": [
        "from sklearn.model_selection import StratifiedShuffleSplit #para realizar el muestre"
      ],
      "id": "secondary-transparency",
      "execution_count": null,
      "outputs": []
    },
    {
      "cell_type": "code",
      "metadata": {
        "colab": {
          "base_uri": "https://localhost:8080/"
        },
        "id": "arabic-picture",
        "outputId": "ea695de6-4090-43fe-c18f-86fb67537cd1"
      },
      "source": [
        "!wget --no-check-certificate \\\n",
        "    https://www.recod.ic.unicamp.br/~aurea.soriano/dataset/covid19.zip \\\n",
        "    -O /tmp/covid19.zip"
      ],
      "id": "arabic-picture",
      "execution_count": null,
      "outputs": [
        {
          "output_type": "stream",
          "text": [
            "--2021-08-08 03:02:41--  https://www.recod.ic.unicamp.br/~aurea.soriano/dataset/covid19.zip\n",
            "Resolving www.recod.ic.unicamp.br (www.recod.ic.unicamp.br)... 143.106.7.142\n",
            "Connecting to www.recod.ic.unicamp.br (www.recod.ic.unicamp.br)|143.106.7.142|:443... connected.\n",
            "HTTP request sent, awaiting response... 302 Moved Temporarily\n",
            "Location: http://intranet.recod.ic.unicamp.br/~aurea.soriano/dataset/covid19.zip [following]\n",
            "--2021-08-08 03:02:43--  http://intranet.recod.ic.unicamp.br/~aurea.soriano/dataset/covid19.zip\n",
            "Resolving intranet.recod.ic.unicamp.br (intranet.recod.ic.unicamp.br)... 143.106.7.151\n",
            "Connecting to intranet.recod.ic.unicamp.br (intranet.recod.ic.unicamp.br)|143.106.7.151|:80... connected.\n",
            "HTTP request sent, awaiting response... 200 OK\n",
            "Length: 780769059 (745M) [application/zip]\n",
            "Saving to: ‘/tmp/covid19.zip’\n",
            "\n",
            "/tmp/covid19.zip    100%[===================>] 744.60M  17.7MB/s    in 43s     \n",
            "\n",
            "2021-08-08 03:03:26 (17.2 MB/s) - ‘/tmp/covid19.zip’ saved [780769059/780769059]\n",
            "\n"
          ],
          "name": "stdout"
        }
      ]
    },
    {
      "cell_type": "code",
      "metadata": {
        "id": "pwRGkYukmm4T"
      },
      "source": [
        "import zipfile\n",
        "\n",
        "local_zip = '/tmp/covid19.zip'\n",
        "zip_ref = zipfile.ZipFile(local_zip, 'r')\n",
        "zip_ref.extractall('/tmp')\n",
        "zip_ref.close()"
      ],
      "id": "pwRGkYukmm4T",
      "execution_count": null,
      "outputs": []
    },
    {
      "cell_type": "code",
      "metadata": {
        "colab": {
          "base_uri": "https://localhost:8080/"
        },
        "id": "3elrT_3cmiX2",
        "outputId": "bb9be5f6-f6ea-4613-a9b8-71a6b9a53449"
      },
      "source": [
        "#ruta donde se descomprimen los fichereros del dataset\n",
        "os.listdir(\"/tmp/COVID-19_Radiography_Dataset\")"
      ],
      "id": "3elrT_3cmiX2",
      "execution_count": null,
      "outputs": [
        {
          "output_type": "execute_result",
          "data": {
            "text/plain": [
              "['Viral Pneumonia.metadata.xlsx',\n",
              " 'Normal.metadata.xlsx',\n",
              " 'README.md.txt',\n",
              " 'Normal',\n",
              " 'COVID.metadata.xlsx',\n",
              " 'Lung_Opacity',\n",
              " 'Lung_Opacity.metadata.xlsx',\n",
              " 'Viral Pneumonia',\n",
              " 'COVID']"
            ]
          },
          "metadata": {
            "tags": []
          },
          "execution_count": 8
        }
      ]
    },
    {
      "cell_type": "code",
      "metadata": {
        "id": "burning-state"
      },
      "source": [
        "#removemos los ficheros que no usaremos \n",
        "py_files = glob.glob('/tmp/COVID-19_Radiography_Dataset/*.*')\n",
        "for py_file in py_files:\n",
        "    try:\n",
        "        os.remove(py_file)\n",
        "    except OSError as e:\n",
        "        print(f\"Error:{ e.strerror}\")"
      ],
      "id": "burning-state",
      "execution_count": null,
      "outputs": []
    },
    {
      "cell_type": "code",
      "metadata": {
        "colab": {
          "base_uri": "https://localhost:8080/"
        },
        "id": "stone-tourism",
        "outputId": "a30646ea-d032-4d91-e0c6-715215f3a270"
      },
      "source": [
        "root_dir    = '/tmp/COVID-19_Radiography_Dataset' #directorio origen\n",
        "\n",
        "os.listdir(root_dir)"
      ],
      "id": "stone-tourism",
      "execution_count": null,
      "outputs": [
        {
          "output_type": "execute_result",
          "data": {
            "text/plain": [
              "['Normal', 'Lung_Opacity', 'Viral Pneumonia', 'COVID']"
            ]
          },
          "metadata": {
            "tags": []
          },
          "execution_count": 10
        }
      ]
    },
    {
      "cell_type": "code",
      "metadata": {
        "id": "musical-split"
      },
      "source": [
        "class_names = ['normal','opacity', 'viral', 'covid']\n",
        "source_dirs = ['Normal','Lung_Opacity','Viral Pneumonia', 'COVID']"
      ],
      "id": "musical-split",
      "execution_count": null,
      "outputs": []
    },
    {
      "cell_type": "code",
      "metadata": {
        "id": "intense-acoustic"
      },
      "source": [
        "#se cambia el nombre de las carpetas\n",
        "for i, d in enumerate(source_dirs):\n",
        "    os.rename(os.path.join(root_dir, d), os.path.join(root_dir, class_names[i]))"
      ],
      "id": "intense-acoustic",
      "execution_count": null,
      "outputs": []
    },
    {
      "cell_type": "code",
      "metadata": {
        "colab": {
          "base_uri": "https://localhost:8080/"
        },
        "id": "foster-suite",
        "outputId": "8a42c3f8-a1cc-4ebb-9e6f-6c92899705bf"
      },
      "source": [
        "os.listdir(root_dir)"
      ],
      "id": "foster-suite",
      "execution_count": null,
      "outputs": [
        {
          "output_type": "execute_result",
          "data": {
            "text/plain": [
              "['normal', 'opacity', 'covid', 'viral']"
            ]
          },
          "metadata": {
            "tags": []
          },
          "execution_count": 13
        }
      ]
    },
    {
      "cell_type": "code",
      "metadata": {
        "id": "efficient-richardson"
      },
      "source": [
        "#dataframe de las imagenes y clases\n",
        "list_files=[]\n",
        "for dir in os.listdir(root_dir):\n",
        "  directory = os.path.join(root_dir,dir) # directorios de las clases\n",
        "  if os.path.isdir(directory):\n",
        "    for img in os.listdir(directory):\n",
        "      list_files.append([os.path.join(dir,img),dir]) #lista de todos los ficheros de cada directorio\n",
        "df = pd.DataFrame(list_files, columns=['id','clase'])"
      ],
      "id": "efficient-richardson",
      "execution_count": null,
      "outputs": []
    },
    {
      "cell_type": "code",
      "metadata": {
        "colab": {
          "base_uri": "https://localhost:8080/",
          "height": 417
        },
        "id": "representative-render",
        "outputId": "da527e49-f8b2-4396-873f-dbbb50c70dd0"
      },
      "source": [
        "df"
      ],
      "id": "representative-render",
      "execution_count": null,
      "outputs": [
        {
          "output_type": "execute_result",
          "data": {
            "text/html": [
              "<div>\n",
              "<style scoped>\n",
              "    .dataframe tbody tr th:only-of-type {\n",
              "        vertical-align: middle;\n",
              "    }\n",
              "\n",
              "    .dataframe tbody tr th {\n",
              "        vertical-align: top;\n",
              "    }\n",
              "\n",
              "    .dataframe thead th {\n",
              "        text-align: right;\n",
              "    }\n",
              "</style>\n",
              "<table border=\"1\" class=\"dataframe\">\n",
              "  <thead>\n",
              "    <tr style=\"text-align: right;\">\n",
              "      <th></th>\n",
              "      <th>id</th>\n",
              "      <th>clase</th>\n",
              "    </tr>\n",
              "  </thead>\n",
              "  <tbody>\n",
              "    <tr>\n",
              "      <th>0</th>\n",
              "      <td>normal/Normal-9311.png</td>\n",
              "      <td>normal</td>\n",
              "    </tr>\n",
              "    <tr>\n",
              "      <th>1</th>\n",
              "      <td>normal/Normal-4942.png</td>\n",
              "      <td>normal</td>\n",
              "    </tr>\n",
              "    <tr>\n",
              "      <th>2</th>\n",
              "      <td>normal/Normal-3656.png</td>\n",
              "      <td>normal</td>\n",
              "    </tr>\n",
              "    <tr>\n",
              "      <th>3</th>\n",
              "      <td>normal/Normal-719.png</td>\n",
              "      <td>normal</td>\n",
              "    </tr>\n",
              "    <tr>\n",
              "      <th>4</th>\n",
              "      <td>normal/Normal-8213.png</td>\n",
              "      <td>normal</td>\n",
              "    </tr>\n",
              "    <tr>\n",
              "      <th>...</th>\n",
              "      <td>...</td>\n",
              "      <td>...</td>\n",
              "    </tr>\n",
              "    <tr>\n",
              "      <th>21160</th>\n",
              "      <td>viral/Viral Pneumonia-1109.png</td>\n",
              "      <td>viral</td>\n",
              "    </tr>\n",
              "    <tr>\n",
              "      <th>21161</th>\n",
              "      <td>viral/Viral Pneumonia-73.png</td>\n",
              "      <td>viral</td>\n",
              "    </tr>\n",
              "    <tr>\n",
              "      <th>21162</th>\n",
              "      <td>viral/Viral Pneumonia-537.png</td>\n",
              "      <td>viral</td>\n",
              "    </tr>\n",
              "    <tr>\n",
              "      <th>21163</th>\n",
              "      <td>viral/Viral Pneumonia-376.png</td>\n",
              "      <td>viral</td>\n",
              "    </tr>\n",
              "    <tr>\n",
              "      <th>21164</th>\n",
              "      <td>viral/Viral Pneumonia-1176.png</td>\n",
              "      <td>viral</td>\n",
              "    </tr>\n",
              "  </tbody>\n",
              "</table>\n",
              "<p>21165 rows × 2 columns</p>\n",
              "</div>"
            ],
            "text/plain": [
              "                                   id   clase\n",
              "0              normal/Normal-9311.png  normal\n",
              "1              normal/Normal-4942.png  normal\n",
              "2              normal/Normal-3656.png  normal\n",
              "3               normal/Normal-719.png  normal\n",
              "4              normal/Normal-8213.png  normal\n",
              "...                               ...     ...\n",
              "21160  viral/Viral Pneumonia-1109.png   viral\n",
              "21161    viral/Viral Pneumonia-73.png   viral\n",
              "21162   viral/Viral Pneumonia-537.png   viral\n",
              "21163   viral/Viral Pneumonia-376.png   viral\n",
              "21164  viral/Viral Pneumonia-1176.png   viral\n",
              "\n",
              "[21165 rows x 2 columns]"
            ]
          },
          "metadata": {
            "tags": []
          },
          "execution_count": 15
        }
      ]
    },
    {
      "cell_type": "code",
      "metadata": {
        "colab": {
          "base_uri": "https://localhost:8080/",
          "height": 203
        },
        "id": "still-summit",
        "outputId": "787f2696-0816-41ff-c3f0-4567b6a5c3b0"
      },
      "source": [
        "df.groupby(\"clase\").agg(frequency=(\"clase\", \"count\"))"
      ],
      "id": "still-summit",
      "execution_count": null,
      "outputs": [
        {
          "output_type": "execute_result",
          "data": {
            "text/html": [
              "<div>\n",
              "<style scoped>\n",
              "    .dataframe tbody tr th:only-of-type {\n",
              "        vertical-align: middle;\n",
              "    }\n",
              "\n",
              "    .dataframe tbody tr th {\n",
              "        vertical-align: top;\n",
              "    }\n",
              "\n",
              "    .dataframe thead th {\n",
              "        text-align: right;\n",
              "    }\n",
              "</style>\n",
              "<table border=\"1\" class=\"dataframe\">\n",
              "  <thead>\n",
              "    <tr style=\"text-align: right;\">\n",
              "      <th></th>\n",
              "      <th>frequency</th>\n",
              "    </tr>\n",
              "    <tr>\n",
              "      <th>clase</th>\n",
              "      <th></th>\n",
              "    </tr>\n",
              "  </thead>\n",
              "  <tbody>\n",
              "    <tr>\n",
              "      <th>covid</th>\n",
              "      <td>3616</td>\n",
              "    </tr>\n",
              "    <tr>\n",
              "      <th>normal</th>\n",
              "      <td>10192</td>\n",
              "    </tr>\n",
              "    <tr>\n",
              "      <th>opacity</th>\n",
              "      <td>6012</td>\n",
              "    </tr>\n",
              "    <tr>\n",
              "      <th>viral</th>\n",
              "      <td>1345</td>\n",
              "    </tr>\n",
              "  </tbody>\n",
              "</table>\n",
              "</div>"
            ],
            "text/plain": [
              "         frequency\n",
              "clase             \n",
              "covid         3616\n",
              "normal       10192\n",
              "opacity       6012\n",
              "viral         1345"
            ]
          },
          "metadata": {
            "tags": []
          },
          "execution_count": 16
        }
      ]
    },
    {
      "cell_type": "code",
      "metadata": {
        "colab": {
          "base_uri": "https://localhost:8080/"
        },
        "id": "formed-permission",
        "outputId": "0c4fce33-165b-4594-daf9-196d5899bb8c"
      },
      "source": [
        "df[\"clase\"].unique()"
      ],
      "id": "formed-permission",
      "execution_count": null,
      "outputs": [
        {
          "output_type": "execute_result",
          "data": {
            "text/plain": [
              "array(['normal', 'opacity', 'covid', 'viral'], dtype=object)"
            ]
          },
          "metadata": {
            "tags": []
          },
          "execution_count": 17
        }
      ]
    },
    {
      "cell_type": "code",
      "metadata": {
        "id": "affecting-shower"
      },
      "source": [
        "#Haremos un submuestreo a las clases con mas ejemplos que la clase COVID\n",
        "def balance_dataset(focus_class, df):\n",
        "  classes = df[\"clase\"].unique()\n",
        "  classes_df_list = []\n",
        "  focus_class_df = df[df[\"clase\"] == focus_class]\n",
        "  classes_df_list.append(focus_class_df)\n",
        "  count_focus_class = len(focus_class_df)\n",
        "  ##Dividimos por clases\n",
        "  for classe in classes:\n",
        "    class_df = df[df[\"clase\"] == classe]\n",
        "    count_class = len(class_df)\n",
        "    if classe == focus_class:\n",
        "      continue\n",
        "    if count_class > count_focus_class+1000:\n",
        "      class_df = class_df.sample(count_focus_class+1000)\n",
        "    classes_df_list.append(class_df)\n",
        "  df_under = pd.concat(classes_df_list, axis=0) \n",
        "  return df_under\n",
        "\n",
        "\n",
        "df = balance_dataset('covid',df)"
      ],
      "id": "affecting-shower",
      "execution_count": null,
      "outputs": []
    },
    {
      "cell_type": "code",
      "metadata": {
        "id": "concrete-greece",
        "colab": {
          "base_uri": "https://localhost:8080/",
          "height": 203
        },
        "outputId": "5af555c0-f876-45e8-bda5-66feb71dc02d"
      },
      "source": [
        "df.groupby(\"clase\").agg(frequency=(\"clase\", \"count\"))"
      ],
      "id": "concrete-greece",
      "execution_count": null,
      "outputs": [
        {
          "output_type": "execute_result",
          "data": {
            "text/html": [
              "<div>\n",
              "<style scoped>\n",
              "    .dataframe tbody tr th:only-of-type {\n",
              "        vertical-align: middle;\n",
              "    }\n",
              "\n",
              "    .dataframe tbody tr th {\n",
              "        vertical-align: top;\n",
              "    }\n",
              "\n",
              "    .dataframe thead th {\n",
              "        text-align: right;\n",
              "    }\n",
              "</style>\n",
              "<table border=\"1\" class=\"dataframe\">\n",
              "  <thead>\n",
              "    <tr style=\"text-align: right;\">\n",
              "      <th></th>\n",
              "      <th>frequency</th>\n",
              "    </tr>\n",
              "    <tr>\n",
              "      <th>clase</th>\n",
              "      <th></th>\n",
              "    </tr>\n",
              "  </thead>\n",
              "  <tbody>\n",
              "    <tr>\n",
              "      <th>covid</th>\n",
              "      <td>3616</td>\n",
              "    </tr>\n",
              "    <tr>\n",
              "      <th>normal</th>\n",
              "      <td>4616</td>\n",
              "    </tr>\n",
              "    <tr>\n",
              "      <th>opacity</th>\n",
              "      <td>4616</td>\n",
              "    </tr>\n",
              "    <tr>\n",
              "      <th>viral</th>\n",
              "      <td>1345</td>\n",
              "    </tr>\n",
              "  </tbody>\n",
              "</table>\n",
              "</div>"
            ],
            "text/plain": [
              "         frequency\n",
              "clase             \n",
              "covid         3616\n",
              "normal        4616\n",
              "opacity       4616\n",
              "viral         1345"
            ]
          },
          "metadata": {
            "tags": []
          },
          "execution_count": 19
        }
      ]
    },
    {
      "cell_type": "code",
      "metadata": {
        "colab": {
          "base_uri": "https://localhost:8080/",
          "height": 35
        },
        "id": "periodic-guyana",
        "outputId": "83ac2390-9bd3-4769-8aba-10e2cf1141f5"
      },
      "source": [
        "root_dir"
      ],
      "id": "periodic-guyana",
      "execution_count": null,
      "outputs": [
        {
          "output_type": "execute_result",
          "data": {
            "application/vnd.google.colaboratory.intrinsic+json": {
              "type": "string"
            },
            "text/plain": [
              "'/tmp/COVID-19_Radiography_Dataset'"
            ]
          },
          "metadata": {
            "tags": []
          },
          "execution_count": 20
        }
      ]
    },
    {
      "cell_type": "code",
      "metadata": {
        "id": "domestic-rental"
      },
      "source": [
        "os.mkdir(root_dir+\"/train\")\n",
        "os.mkdir(root_dir+\"/test\")\n",
        "\n",
        "\n",
        "os.mkdir(root_dir+\"/train/covid\")\n",
        "os.mkdir(root_dir+\"/test/covid\")\n",
        "\n",
        "os.mkdir(root_dir+\"/train/viral\")\n",
        "os.mkdir(root_dir+\"/test/viral\")\n",
        "\n",
        "os.mkdir(root_dir+\"/train/normal\")\n",
        "os.mkdir(root_dir+\"/test/normal\")\n",
        "\n",
        "os.mkdir(root_dir+\"/train/opacity\")\n",
        "os.mkdir(root_dir+\"/test/opacity\")\n"
      ],
      "id": "domestic-rental",
      "execution_count": null,
      "outputs": []
    },
    {
      "cell_type": "code",
      "metadata": {
        "id": "reasonable-commander"
      },
      "source": [
        "#creamos la función que hará el split de nuestros conjuntos\n",
        "def split_dataset(df,test_size,random_state = 101):\n",
        "  sss = StratifiedShuffleSplit(n_splits=1, test_size=test_size, random_state=random_state)#se divide de forma stratificada\n",
        "  df = df.reset_index()\n",
        "  for train_index, test_index in sss.split(df['id'], df['clase']):\n",
        "    X_train, X_test = df['id'][train_index], df['id'][test_index]\n",
        "    y_train, y_test = df['clase'][train_index], df['clase'][test_index]\n",
        "  traindf = pd.concat([X_train, y_train], axis=1)\n",
        "  testdf = pd.concat([X_test, y_test], axis=1)\n",
        "  return traindf,testdf"
      ],
      "id": "reasonable-commander",
      "execution_count": null,
      "outputs": []
    },
    {
      "cell_type": "code",
      "metadata": {
        "id": "finnish-latex"
      },
      "source": [
        "traindf,testdf = split_dataset(df,test_size = 0.10)"
      ],
      "id": "finnish-latex",
      "execution_count": null,
      "outputs": []
    },
    {
      "cell_type": "code",
      "metadata": {
        "colab": {
          "base_uri": "https://localhost:8080/"
        },
        "id": "consecutive-centre",
        "outputId": "72ecdb39-7b51-45a7-ff17-42e84344dfc4"
      },
      "source": [
        "print(traindf['clase'].value_counts())"
      ],
      "id": "consecutive-centre",
      "execution_count": null,
      "outputs": [
        {
          "output_type": "stream",
          "text": [
            "normal     4154\n",
            "opacity    4154\n",
            "covid      3254\n",
            "viral      1211\n",
            "Name: clase, dtype: int64\n"
          ],
          "name": "stdout"
        }
      ]
    },
    {
      "cell_type": "code",
      "metadata": {
        "colab": {
          "base_uri": "https://localhost:8080/"
        },
        "id": "assured-lyric",
        "outputId": "085f613e-b404-4df5-ef45-0748ac0e2470"
      },
      "source": [
        "print(testdf['clase'].value_counts())\n"
      ],
      "id": "assured-lyric",
      "execution_count": null,
      "outputs": [
        {
          "output_type": "stream",
          "text": [
            "normal     462\n",
            "opacity    462\n",
            "covid      362\n",
            "viral      134\n",
            "Name: clase, dtype: int64\n"
          ],
          "name": "stdout"
        }
      ]
    },
    {
      "cell_type": "code",
      "metadata": {
        "colab": {
          "base_uri": "https://localhost:8080/"
        },
        "id": "collected-radiation",
        "outputId": "51287226-79d1-4239-f298-362545ce8b61"
      },
      "source": [
        "#visualizamos que todos nuestros conjuntos tienen imagenes diferentes entre ellos \n",
        "repetidos=pd.merge(traindf,testdf,how='left',on=['id'])\n",
        "print(repetidos['clase_y'].unique())\n"
      ],
      "id": "collected-radiation",
      "execution_count": null,
      "outputs": [
        {
          "output_type": "stream",
          "text": [
            "[nan]\n"
          ],
          "name": "stdout"
        }
      ]
    },
    {
      "cell_type": "code",
      "metadata": {
        "id": "deluxe-equipment"
      },
      "source": [
        "for i in traindf.index:\n",
        "  shutil.copy(root_dir+\"/\"+traindf['id'][i],  root_dir+\"/train/\"+traindf['clase'][i])"
      ],
      "id": "deluxe-equipment",
      "execution_count": null,
      "outputs": []
    },
    {
      "cell_type": "code",
      "metadata": {
        "id": "optical-dodge"
      },
      "source": [
        "for i in testdf.index:\n",
        "  shutil.copy(root_dir+\"/\"+testdf['id'][i],  root_dir+\"/test/\"+testdf['clase'][i])"
      ],
      "id": "optical-dodge",
      "execution_count": null,
      "outputs": []
    },
    {
      "cell_type": "code",
      "metadata": {
        "colab": {
          "base_uri": "https://localhost:8080/"
        },
        "id": "racial-communication",
        "outputId": "25aedba0-0766-43f5-846c-1377dbe7d590"
      },
      "source": [
        "#conteo de ficheros en la clase train\n",
        "tmp=0\n",
        "print(\"Cantidad de datos en Train\")\n",
        "for i in traindf[\"clase\"].unique():\n",
        "  train=len(os.listdir(\"/tmp/COVID-19_Radiography_Dataset/train/\"+i))\n",
        "  print(i,str(train))\n",
        "  tmp=tmp+train\n",
        "print(\"Ficheros en Train: \"+str(tmp))"
      ],
      "id": "racial-communication",
      "execution_count": null,
      "outputs": [
        {
          "output_type": "stream",
          "text": [
            "Cantidad de datos en Train\n",
            "normal 4154\n",
            "covid 3254\n",
            "opacity 4154\n",
            "viral 1211\n",
            "Ficheros en Train: 12773\n"
          ],
          "name": "stdout"
        }
      ]
    },
    {
      "cell_type": "code",
      "metadata": {
        "colab": {
          "base_uri": "https://localhost:8080/"
        },
        "id": "peaceful-discretion",
        "outputId": "f0ca49ea-2b81-43d9-bceb-86fd66838642"
      },
      "source": [
        "#conteo de ficheros en la clase test\n",
        "tmp=0\n",
        "print(\"Cantidad de ficheros en Test\")\n",
        "for i in testdf[\"clase\"].unique():\n",
        "  test=len(os.listdir(\"/tmp/COVID-19_Radiography_Dataset/test/\"+i))\n",
        "  print(i,str(test))\n",
        "  tmp=tmp+test\n",
        "print(\"ficheros en Test \"+str(tmp))"
      ],
      "id": "peaceful-discretion",
      "execution_count": null,
      "outputs": [
        {
          "output_type": "stream",
          "text": [
            "Cantidad de ficheros en Test\n",
            "viral 134\n",
            "opacity 462\n",
            "normal 462\n",
            "covid 362\n",
            "ficheros en Test 1420\n"
          ],
          "name": "stdout"
        }
      ]
    },
    {
      "cell_type": "markdown",
      "metadata": {
        "id": "amazing-voluntary"
      },
      "source": [
        "# Creating Custom Dataset"
      ],
      "id": "amazing-voluntary"
    },
    {
      "cell_type": "code",
      "metadata": {
        "id": "postal-tumor"
      },
      "source": [
        "class ChestXRayDataset(torch.utils.data.Dataset):\n",
        "    def __init__(self, image_dirs, transform):\n",
        "        def get_images(class_name): #Verificar se o aquivo realmente é imagem 'png'\n",
        "            images = [x for x in os.listdir(image_dirs[class_name]) if x.lower().endswith('png')] \n",
        "            print(f'Found {len(images)} {class_name} examples')\n",
        "            return images\n",
        "        \n",
        "        self.images = {}\n",
        "        self.class_names = ['normal', 'viral', 'covid','opacity']\n",
        "        \n",
        "        for c in self.class_names:\n",
        "            self.images[c] = get_images(c)\n",
        "            \n",
        "        self.image_dirs = image_dirs\n",
        "        self.transform = transform\n",
        "          \n",
        "    def __len__(self):\n",
        "        return sum([len(self.images[c]) for c in self.class_names])\n",
        "    \n",
        "    def __getitem__(self, index):\n",
        "        class_name = random.choice(self.class_names)\n",
        "        index = index%len(self.images[class_name])\n",
        "        image_name = self.images[class_name][index]\n",
        "        image_path = os.path.join(self.image_dirs[class_name], image_name)\n",
        "        image = Image.open(image_path).convert('RGB')\n",
        "        return self.transform(image), self.class_names.index(class_name)"
      ],
      "id": "postal-tumor",
      "execution_count": null,
      "outputs": []
    },
    {
      "cell_type": "markdown",
      "metadata": {
        "id": "literary-passing"
      },
      "source": [
        "# Image Transformations"
      ],
      "id": "literary-passing"
    },
    {
      "cell_type": "code",
      "metadata": {
        "id": "appointed-grave"
      },
      "source": [
        "train_transform = torchvision.transforms.Compose([\n",
        "    torchvision.transforms.Resize(size = (224, 224)),\n",
        "    torchvision.transforms.RandomHorizontalFlip(),\n",
        "    torchvision.transforms.ToTensor(),\n",
        "    torchvision.transforms.Normalize(mean = [0.485, 0.456, 0.406], std = [0.229, 0.224, 0.225])\n",
        "])"
      ],
      "id": "appointed-grave",
      "execution_count": null,
      "outputs": []
    },
    {
      "cell_type": "code",
      "metadata": {
        "id": "dutch-russia"
      },
      "source": [
        "test_transform = torchvision.transforms.Compose([\n",
        "    torchvision.transforms.Resize(size = (224, 224)),\n",
        "    torchvision.transforms.ToTensor(),\n",
        "    torchvision.transforms.Normalize([0.485, 0.456, 0.406], [0.229, 0.224, 0.225])\n",
        "])"
      ],
      "id": "dutch-russia",
      "execution_count": null,
      "outputs": []
    },
    {
      "cell_type": "markdown",
      "metadata": {
        "id": "desirable-sandwich"
      },
      "source": [
        "# Prepare Loader"
      ],
      "id": "desirable-sandwich"
    },
    {
      "cell_type": "code",
      "metadata": {
        "id": "treated-mother"
      },
      "source": [
        "train_dirs = {\n",
        "    'normal': '/tmp/COVID-19_Radiography_Dataset/train/normal',\n",
        "    'viral': '/tmp/COVID-19_Radiography_Dataset/train/viral',\n",
        "    'covid': '/tmp/COVID-19_Radiography_Dataset/train/covid',\n",
        "    'opacity': '/tmp/COVID-19_Radiography_Dataset/train/opacity'\n",
        "}"
      ],
      "id": "treated-mother",
      "execution_count": null,
      "outputs": []
    },
    {
      "cell_type": "code",
      "metadata": {
        "id": "increased-radiation"
      },
      "source": [
        "test_dirs = {\n",
        "    'normal': '/tmp/COVID-19_Radiography_Dataset/test/normal',\n",
        "    'viral': '/tmp/COVID-19_Radiography_Dataset/test/viral',\n",
        "    'covid': '/tmp/COVID-19_Radiography_Dataset/test/covid',\n",
        "    'opacity': '/tmp/COVID-19_Radiography_Dataset/test/opacity'\n",
        "}"
      ],
      "id": "increased-radiation",
      "execution_count": null,
      "outputs": []
    },
    {
      "cell_type": "code",
      "metadata": {
        "id": "maritime-meeting"
      },
      "source": [
        ""
      ],
      "id": "maritime-meeting",
      "execution_count": null,
      "outputs": []
    },
    {
      "cell_type": "code",
      "metadata": {
        "colab": {
          "base_uri": "https://localhost:8080/"
        },
        "id": "mediterranean-musician",
        "outputId": "c01cdf8d-2aaa-47a8-b0a9-c72c950647e6"
      },
      "source": [
        "train_dataset = ChestXRayDataset(train_dirs, train_transform)"
      ],
      "id": "mediterranean-musician",
      "execution_count": null,
      "outputs": [
        {
          "output_type": "stream",
          "text": [
            "Found 4154 normal examples\n",
            "Found 1211 viral examples\n",
            "Found 3254 covid examples\n",
            "Found 4154 opacity examples\n"
          ],
          "name": "stdout"
        }
      ]
    },
    {
      "cell_type": "code",
      "metadata": {
        "colab": {
          "base_uri": "https://localhost:8080/"
        },
        "id": "other-teddy",
        "outputId": "e1870b68-ba65-4199-be8d-901a729d9acc"
      },
      "source": [
        "test_dataset = ChestXRayDataset(test_dirs, test_transform)"
      ],
      "id": "other-teddy",
      "execution_count": null,
      "outputs": [
        {
          "output_type": "stream",
          "text": [
            "Found 462 normal examples\n",
            "Found 134 viral examples\n",
            "Found 362 covid examples\n",
            "Found 462 opacity examples\n"
          ],
          "name": "stdout"
        }
      ]
    },
    {
      "cell_type": "code",
      "metadata": {
        "colab": {
          "base_uri": "https://localhost:8080/"
        },
        "id": "dietary-occasion",
        "outputId": "d77f46e5-27e4-453a-cead-2d6fde1ebf1d"
      },
      "source": [
        "batch_size_train = 6\n",
        "batch_size_test = 6\n",
        "\n",
        "dl_train = torch.utils.data.DataLoader(train_dataset, batch_size = batch_size_train, shuffle = True)\n",
        "dl_test = torch.utils.data.DataLoader(test_dataset, batch_size = batch_size_test, shuffle = True)\n",
        "\n",
        "print('Number of training batches', len(dl_train))\n",
        "print('Number of test batches', len(dl_test))"
      ],
      "id": "dietary-occasion",
      "execution_count": null,
      "outputs": [
        {
          "output_type": "stream",
          "text": [
            "Number of training batches 2129\n",
            "Number of test batches 237\n"
          ],
          "name": "stdout"
        }
      ]
    },
    {
      "cell_type": "code",
      "metadata": {
        "id": "crazy-programmer"
      },
      "source": [
        "class_names = ['normal','viral','covid','opacity']\n",
        "\n",
        "def show_images(images, labels, preds):\n",
        "    plt.figure(figsize=(16, 9))\n",
        "    for i, image in enumerate(images):\n",
        "        plt.subplot(1, 6, i + 1, xticks = [], yticks = [])\n",
        "        image = image.numpy().transpose((1, 2, 0))\n",
        "        mean  = np.array([0.485, 0.456, 0.406])\n",
        "        std   = np.array([0.229, 0.224, 0.225])\n",
        "        image = image*std + mean\n",
        "        image = np.clip(image, 0., 1.)\n",
        "        plt.imshow(image)\n",
        "        col   = 'green'\n",
        "        if preds[i] != labels[i]:\n",
        "            col = 'red'\n",
        "            \n",
        "        plt.xlabel(f'{class_names[int(labels[i].numpy())]}')\n",
        "        plt.ylabel(f'{class_names[int(preds[i].numpy())]}', color = col)\n",
        "    plt.tight_layout()\n",
        "    plt.show()"
      ],
      "id": "crazy-programmer",
      "execution_count": null,
      "outputs": []
    },
    {
      "cell_type": "code",
      "metadata": {
        "colab": {
          "base_uri": "https://localhost:8080/",
          "height": 205
        },
        "id": "speaking-beijing",
        "outputId": "5e5e03a4-17fa-4dee-a8bf-832cd7c5da62"
      },
      "source": [
        "images, labels = next(iter(dl_train))\n",
        "show_images(images, labels, labels)"
      ],
      "id": "speaking-beijing",
      "execution_count": null,
      "outputs": [
        {
          "output_type": "display_data",
          "data": {
            "image/png": "[encoded data removed]",
            "text/plain": [
              "<Figure size 1152x648 with 6 Axes>"
            ]
          },
          "metadata": {
            "tags": []
          }
        }
      ]
    },
    {
      "cell_type": "markdown",
      "metadata": {
        "id": "enabling-corruption"
      },
      "source": [
        "# Creating the Model"
      ],
      "id": "enabling-corruption"
    },
    {
      "cell_type": "code",
      "metadata": {
        "colab": {
          "base_uri": "https://localhost:8080/"
        },
        "id": "CA-ZRBM8IR21",
        "outputId": "df351b78-4c72-48cb-f1e8-7bcf5d4846c9"
      },
      "source": [
        "device = ('cuda' if torch.cuda.is_available() else 'cpu')\n",
        "print('Dispositivo disponible:', device)"
      ],
      "id": "CA-ZRBM8IR21",
      "execution_count": null,
      "outputs": [
        {
          "output_type": "stream",
          "text": [
            "Dispositivo disponible: cuda\n"
          ],
          "name": "stdout"
        }
      ]
    },
    {
      "cell_type": "code",
      "metadata": {
        "colab": {
          "base_uri": "https://localhost:8080/"
        },
        "id": "opposite-blackberry",
        "outputId": "dc43e109-bd6c-48bf-bc6e-b90262f62018"
      },
      "source": [
        "model_resnet18 = torchvision.models.resnet18(pretrained=True)\n",
        "\n",
        "print(model_resnet18)"
      ],
      "id": "opposite-blackberry",
      "execution_count": null,
      "outputs": [
        {
          "output_type": "stream",
          "text": [
            "ResNet(\n",
            "  (conv1): Conv2d(3, 64, kernel_size=(7, 7), stride=(2, 2), padding=(3, 3), bias=False)\n",
            "  (bn1): BatchNorm2d(64, eps=1e-05, momentum=0.1, affine=True, track_running_stats=True)\n",
            "  (relu): ReLU(inplace=True)\n",
            "  (maxpool): MaxPool2d(kernel_size=3, stride=2, padding=1, dilation=1, ceil_mode=False)\n",
            "  (layer1): Sequential(\n",
            "    (0): BasicBlock(\n",
            "      (conv1): Conv2d(64, 64, kernel_size=(3, 3), stride=(1, 1), padding=(1, 1), bias=False)\n",
            "      (bn1): BatchNorm2d(64, eps=1e-05, momentum=0.1, affine=True, track_running_stats=True)\n",
            "      (relu): ReLU(inplace=True)\n",
            "      (conv2): Conv2d(64, 64, kernel_size=(3, 3), stride=(1, 1), padding=(1, 1), bias=False)\n",
            "      (bn2): BatchNorm2d(64, eps=1e-05, momentum=0.1, affine=True, track_running_stats=True)\n",
            "    )\n",
            "    (1): BasicBlock(\n",
            "      (conv1): Conv2d(64, 64, kernel_size=(3, 3), stride=(1, 1), padding=(1, 1), bias=False)\n",
            "      (bn1): BatchNorm2d(64, eps=1e-05, momentum=0.1, affine=True, track_running_stats=True)\n",
            "      (relu): ReLU(inplace=True)\n",
            "      (conv2): Conv2d(64, 64, kernel_size=(3, 3), stride=(1, 1), padding=(1, 1), bias=False)\n",
            "      (bn2): BatchNorm2d(64, eps=1e-05, momentum=0.1, affine=True, track_running_stats=True)\n",
            "    )\n",
            "  )\n",
            "  (layer2): Sequential(\n",
            "    (0): BasicBlock(\n",
            "      (conv1): Conv2d(64, 128, kernel_size=(3, 3), stride=(2, 2), padding=(1, 1), bias=False)\n",
            "      (bn1): BatchNorm2d(128, eps=1e-05, momentum=0.1, affine=True, track_running_stats=True)\n",
            "      (relu): ReLU(inplace=True)\n",
            "      (conv2): Conv2d(128, 128, kernel_size=(3, 3), stride=(1, 1), padding=(1, 1), bias=False)\n",
            "      (bn2): BatchNorm2d(128, eps=1e-05, momentum=0.1, affine=True, track_running_stats=True)\n",
            "      (downsample): Sequential(\n",
            "        (0): Conv2d(64, 128, kernel_size=(1, 1), stride=(2, 2), bias=False)\n",
            "        (1): BatchNorm2d(128, eps=1e-05, momentum=0.1, affine=True, track_running_stats=True)\n",
            "      )\n",
            "    )\n",
            "    (1): BasicBlock(\n",
            "      (conv1): Conv2d(128, 128, kernel_size=(3, 3), stride=(1, 1), padding=(1, 1), bias=False)\n",
            "      (bn1): BatchNorm2d(128, eps=1e-05, momentum=0.1, affine=True, track_running_stats=True)\n",
            "      (relu): ReLU(inplace=True)\n",
            "      (conv2): Conv2d(128, 128, kernel_size=(3, 3), stride=(1, 1), padding=(1, 1), bias=False)\n",
            "      (bn2): BatchNorm2d(128, eps=1e-05, momentum=0.1, affine=True, track_running_stats=True)\n",
            "    )\n",
            "  )\n",
            "  (layer3): Sequential(\n",
            "    (0): BasicBlock(\n",
            "      (conv1): Conv2d(128, 256, kernel_size=(3, 3), stride=(2, 2), padding=(1, 1), bias=False)\n",
            "      (bn1): BatchNorm2d(256, eps=1e-05, momentum=0.1, affine=True, track_running_stats=True)\n",
            "      (relu): ReLU(inplace=True)\n",
            "      (conv2): Conv2d(256, 256, kernel_size=(3, 3), stride=(1, 1), padding=(1, 1), bias=False)\n",
            "      (bn2): BatchNorm2d(256, eps=1e-05, momentum=0.1, affine=True, track_running_stats=True)\n",
            "      (downsample): Sequential(\n",
            "        (0): Conv2d(128, 256, kernel_size=(1, 1), stride=(2, 2), bias=False)\n",
            "        (1): BatchNorm2d(256, eps=1e-05, momentum=0.1, affine=True, track_running_stats=True)\n",
            "      )\n",
            "    )\n",
            "    (1): BasicBlock(\n",
            "      (conv1): Conv2d(256, 256, kernel_size=(3, 3), stride=(1, 1), padding=(1, 1), bias=False)\n",
            "      (bn1): BatchNorm2d(256, eps=1e-05, momentum=0.1, affine=True, track_running_stats=True)\n",
            "      (relu): ReLU(inplace=True)\n",
            "      (conv2): Conv2d(256, 256, kernel_size=(3, 3), stride=(1, 1), padding=(1, 1), bias=False)\n",
            "      (bn2): BatchNorm2d(256, eps=1e-05, momentum=0.1, affine=True, track_running_stats=True)\n",
            "    )\n",
            "  )\n",
            "  (layer4): Sequential(\n",
            "    (0): BasicBlock(\n",
            "      (conv1): Conv2d(256, 512, kernel_size=(3, 3), stride=(2, 2), padding=(1, 1), bias=False)\n",
            "      (bn1): BatchNorm2d(512, eps=1e-05, momentum=0.1, affine=True, track_running_stats=True)\n",
            "      (relu): ReLU(inplace=True)\n",
            "      (conv2): Conv2d(512, 512, kernel_size=(3, 3), stride=(1, 1), padding=(1, 1), bias=False)\n",
            "      (bn2): BatchNorm2d(512, eps=1e-05, momentum=0.1, affine=True, track_running_stats=True)\n",
            "      (downsample): Sequential(\n",
            "        (0): Conv2d(256, 512, kernel_size=(1, 1), stride=(2, 2), bias=False)\n",
            "        (1): BatchNorm2d(512, eps=1e-05, momentum=0.1, affine=True, track_running_stats=True)\n",
            "      )\n",
            "    )\n",
            "    (1): BasicBlock(\n",
            "      (conv1): Conv2d(512, 512, kernel_size=(3, 3), stride=(1, 1), padding=(1, 1), bias=False)\n",
            "      (bn1): BatchNorm2d(512, eps=1e-05, momentum=0.1, affine=True, track_running_stats=True)\n",
            "      (relu): ReLU(inplace=True)\n",
            "      (conv2): Conv2d(512, 512, kernel_size=(3, 3), stride=(1, 1), padding=(1, 1), bias=False)\n",
            "      (bn2): BatchNorm2d(512, eps=1e-05, momentum=0.1, affine=True, track_running_stats=True)\n",
            "    )\n",
            "  )\n",
            "  (avgpool): AdaptiveAvgPool2d(output_size=(1, 1))\n",
            "  (fc): Linear(in_features=512, out_features=1000, bias=True)\n",
            ")\n"
          ],
          "name": "stdout"
        }
      ]
    },
    {
      "cell_type": "code",
      "metadata": {
        "id": "growing-french"
      },
      "source": [
        "model_resnet18.fc = torch.nn.Linear(in_features = 512, out_features = 4)\n",
        "model_resnet18 = model_resnet18.to(device)\n",
        "loss_fnresnet18     = torch.nn.CrossEntropyLoss()\n",
        "optimizer_resnet18   = torch.optim.Adam(model_resnet18.parameters(), lr = 3e-5)"
      ],
      "id": "growing-french",
      "execution_count": null,
      "outputs": []
    },
    {
      "cell_type": "code",
      "metadata": {
        "id": "dedicated-moderator"
      },
      "source": [
        "def show_predsgnet():\n",
        "    model_resnet18.eval()\n",
        "    images, labels = next(iter(dl_test))\n",
        "    images = images.to(device)\n",
        "    labels = labels.to(device)\n",
        "    outputs  = model_resnet18(images)\n",
        "    _, preds = torch.max(outputs, 1)\n",
        "    show_images(images.cpu(), labels.cpu(), preds.cpu())"
      ],
      "id": "dedicated-moderator",
      "execution_count": null,
      "outputs": []
    },
    {
      "cell_type": "code",
      "metadata": {
        "colab": {
          "base_uri": "https://localhost:8080/",
          "height": 205
        },
        "id": "extra-girlfriend",
        "outputId": "5845a4e5-c8bc-44a3-9bf3-0cc980f98fd7"
      },
      "source": [
        "show_predsgnet()"
      ],
      "id": "extra-girlfriend",
      "execution_count": null,
      "outputs": [
        {
          "output_type": "display_data",
          "data": {
            "image/png": "[encoded data removed]",
            "text/plain": [
              "<Figure size 1152x648 with 6 Axes>"
            ]
          },
          "metadata": {
            "tags": []
          }
        }
      ]
    },
    {
      "cell_type": "code",
      "metadata": {
        "id": "HL9YJjiiHo5q"
      },
      "source": [
        "history = { 'train_loss': [], 'val_loss': []}\n",
        "\n",
        "def train2(epochs):\n",
        "    print('Starting training..')\n",
        "    train_losses, test_losses = [], []\n",
        "    rs = '------------------------------------------------------------------'\n",
        "    print('Epoch    Train-Loss   Train-Acc   Val-Loss    Val-Acc   Best')\n",
        "    print(rs)\n",
        "    for e in range(0, epochs):\n",
        "        print('='*20)\n",
        "        print(f'Starting epoch {e + 1}/{epochs}')\n",
        "        print('='*20)\n",
        "\n",
        "        train_loss = 0.\n",
        "        val_loss = 0.\n",
        "\n",
        "        model_resnet18.train() # set model to training phase\n",
        "\n",
        "        for train_step, (images, labels) in enumerate(dl_train):\n",
        "            images = images.to(device)\n",
        "            labels = labels.to(device)\n",
        "            optimizer_resnet18.zero_grad()\n",
        "            outputs = model_resnet18(images)\n",
        "            loss = loss_fnresnet18(outputs, labels)\n",
        "            loss.backward()\n",
        "            optimizer_resnet18.step()\n",
        "            train_loss += loss.item()\n",
        "            if train_step % 20 == 0:\n",
        "                print('Evaluating at step', train_step)\n",
        "\n",
        "                accuracy = 0\n",
        "\n",
        "                model_resnet18.eval() # set model to eval phase\n",
        "\n",
        "                for val_step, (images, labels) in enumerate(dl_test):\n",
        "                    images = images.to(device)\n",
        "                    labels = labels.to(device)\n",
        "                    outputs = model_resnet18(images)\n",
        "                    loss = loss_fnresnet18(outputs, labels)\n",
        "                    val_loss += loss.item()\n",
        "\n",
        "                    _, preds = torch.max(outputs, 1)\n",
        "                    \n",
        "                    accuracy += torch.sum(preds == labels.data)\n",
        "\n",
        "                val_loss /= (val_step + 1)\n",
        "                train_loss /= (train_step + 1)\n",
        "                accuracy = accuracy/len(test_dataset)\n",
        "                print(f'Validation Loss: {val_loss:.4f}, Accuracy: {accuracy:.4f}')\n",
        "                \n",
        "                history['train_loss'].append(train_loss)\n",
        "                history['val_loss'].append(val_loss)\n",
        "                #train_losses.append(train_loss/len(dl_train))\n",
        "                #test_losses.append(val_loss/len(dl_test))\n",
        "\n",
        "                #show_predsgnet()\n",
        "\n",
        "                model_resnet18.train()\n",
        "\n",
        "                if accuracy >= 0.95:\n",
        "                    print('Performance condition satisfied, stopping..')\n",
        "                    return\n",
        "\n",
        "        train_loss /= (train_step + 1)\n",
        "\n",
        "        print(f'Training Loss: {train_loss:.4f}')\n",
        "    print('Training complete..')"
      ],
      "id": "HL9YJjiiHo5q",
      "execution_count": null,
      "outputs": []
    },
    {
      "cell_type": "code",
      "metadata": {
        "colab": {
          "base_uri": "https://localhost:8080/"
        },
        "id": "synthetic-territory",
        "outputId": "e961aa2a-243c-412b-c45d-36856528988e"
      },
      "source": [
        "%%time\n",
        "\n",
        "train2(epochs=3)"
      ],
      "id": "synthetic-territory",
      "execution_count": null,
      "outputs": [
        {
          "output_type": "stream",
          "text": [
            "Starting training..\n",
            "Epoch    Train-Loss   Train-Acc   Val-Loss    Val-Acc   Best\n",
            "------------------------------------------------------------------\n",
            "====================\n",
            "Starting epoch 1/3\n",
            "====================\n",
            "Evaluating at step 0\n",
            "Validation Loss: 1.4524, Accuracy: 0.2937\n",
            "Evaluating at step 20\n",
            "Validation Loss: 1.0961, Accuracy: 0.5380\n",
            "Evaluating at step 40\n",
            "Validation Loss: 0.8768, Accuracy: 0.6275\n",
            "Evaluating at step 60\n",
            "Validation Loss: 0.7185, Accuracy: 0.7042\n",
            "Evaluating at step 80\n",
            "Validation Loss: 0.5667, Accuracy: 0.7866\n",
            "Evaluating at step 100\n",
            "Validation Loss: 0.5270, Accuracy: 0.8056\n",
            "Evaluating at step 120\n",
            "Validation Loss: 0.4844, Accuracy: 0.8373\n",
            "Evaluating at step 140\n",
            "Validation Loss: 0.4743, Accuracy: 0.8387\n",
            "Evaluating at step 160\n",
            "Validation Loss: 0.4091, Accuracy: 0.8472\n",
            "Evaluating at step 180\n",
            "Validation Loss: 0.4026, Accuracy: 0.8662\n",
            "Evaluating at step 200\n",
            "Validation Loss: 0.3922, Accuracy: 0.8563\n",
            "Evaluating at step 220\n",
            "Validation Loss: 0.3515, Accuracy: 0.8859\n",
            "Evaluating at step 240\n",
            "Validation Loss: 0.3393, Accuracy: 0.8810\n",
            "Evaluating at step 260\n",
            "Validation Loss: 0.3158, Accuracy: 0.8817\n",
            "Evaluating at step 280\n",
            "Validation Loss: 0.3121, Accuracy: 0.8944\n",
            "Evaluating at step 300\n",
            "Validation Loss: 0.3020, Accuracy: 0.8979\n",
            "Evaluating at step 320\n",
            "Validation Loss: 0.3155, Accuracy: 0.8958\n",
            "Evaluating at step 340\n",
            "Validation Loss: 0.3221, Accuracy: 0.8831\n",
            "Evaluating at step 360\n",
            "Validation Loss: 0.2986, Accuracy: 0.8803\n",
            "Evaluating at step 380\n",
            "Validation Loss: 0.2781, Accuracy: 0.9007\n",
            "Evaluating at step 400\n",
            "Validation Loss: 0.2673, Accuracy: 0.8965\n",
            "Evaluating at step 420\n",
            "Validation Loss: 0.2724, Accuracy: 0.8986\n",
            "Evaluating at step 440\n",
            "Validation Loss: 0.2495, Accuracy: 0.9056\n",
            "Evaluating at step 460\n",
            "Validation Loss: 0.2480, Accuracy: 0.9092\n",
            "Evaluating at step 480\n",
            "Validation Loss: 0.2444, Accuracy: 0.9120\n",
            "Evaluating at step 500\n",
            "Validation Loss: 0.2557, Accuracy: 0.9070\n",
            "Evaluating at step 520\n",
            "Validation Loss: 0.2495, Accuracy: 0.9092\n",
            "Evaluating at step 540\n",
            "Validation Loss: 0.2327, Accuracy: 0.9176\n",
            "Evaluating at step 560\n",
            "Validation Loss: 0.2591, Accuracy: 0.9056\n",
            "Evaluating at step 580\n",
            "Validation Loss: 0.2622, Accuracy: 0.8986\n",
            "Evaluating at step 600\n",
            "Validation Loss: 0.2236, Accuracy: 0.9190\n",
            "Evaluating at step 620\n",
            "Validation Loss: 0.2598, Accuracy: 0.9077\n",
            "Evaluating at step 640\n",
            "Validation Loss: 0.2102, Accuracy: 0.9239\n",
            "Evaluating at step 660\n",
            "Validation Loss: 0.2537, Accuracy: 0.9063\n",
            "Evaluating at step 680\n",
            "Validation Loss: 0.2465, Accuracy: 0.9225\n",
            "Evaluating at step 700\n",
            "Validation Loss: 0.2170, Accuracy: 0.9359\n",
            "Evaluating at step 720\n",
            "Validation Loss: 0.2059, Accuracy: 0.9352\n",
            "Evaluating at step 740\n",
            "Validation Loss: 0.2198, Accuracy: 0.9303\n",
            "Evaluating at step 760\n",
            "Validation Loss: 0.2059, Accuracy: 0.9331\n",
            "Evaluating at step 780\n",
            "Validation Loss: 0.2023, Accuracy: 0.9275\n",
            "Evaluating at step 800\n",
            "Validation Loss: 0.2091, Accuracy: 0.9310\n",
            "Evaluating at step 820\n",
            "Validation Loss: 0.1861, Accuracy: 0.9338\n",
            "Evaluating at step 840\n",
            "Validation Loss: 0.1945, Accuracy: 0.9289\n",
            "Evaluating at step 860\n",
            "Validation Loss: 0.2332, Accuracy: 0.9204\n",
            "Evaluating at step 880\n",
            "Validation Loss: 0.2099, Accuracy: 0.9204\n",
            "Evaluating at step 900\n",
            "Validation Loss: 0.1927, Accuracy: 0.9317\n",
            "Evaluating at step 920\n",
            "Validation Loss: 0.1996, Accuracy: 0.9394\n",
            "Evaluating at step 940\n",
            "Validation Loss: 0.1853, Accuracy: 0.9401\n",
            "Evaluating at step 960\n",
            "Validation Loss: 0.2399, Accuracy: 0.9246\n",
            "Evaluating at step 980\n",
            "Validation Loss: 0.1884, Accuracy: 0.9303\n",
            "Evaluating at step 1000\n",
            "Validation Loss: 0.2074, Accuracy: 0.9239\n",
            "Evaluating at step 1020\n",
            "Validation Loss: 0.2094, Accuracy: 0.9282\n",
            "Evaluating at step 1040\n",
            "Validation Loss: 0.1936, Accuracy: 0.9387\n",
            "Evaluating at step 1060\n",
            "Validation Loss: 0.2069, Accuracy: 0.9296\n",
            "Evaluating at step 1080\n",
            "Validation Loss: 0.1532, Accuracy: 0.9479\n",
            "Evaluating at step 1100\n",
            "Validation Loss: 0.1679, Accuracy: 0.9444\n",
            "Evaluating at step 1120\n",
            "Validation Loss: 0.1764, Accuracy: 0.9437\n",
            "Evaluating at step 1140\n",
            "Validation Loss: 0.2233, Accuracy: 0.9204\n",
            "Evaluating at step 1160\n",
            "Validation Loss: 0.1913, Accuracy: 0.9359\n",
            "Evaluating at step 1180\n",
            "Validation Loss: 0.2222, Accuracy: 0.9232\n",
            "Evaluating at step 1200\n",
            "Validation Loss: 0.2007, Accuracy: 0.9303\n",
            "Evaluating at step 1220\n",
            "Validation Loss: 0.2063, Accuracy: 0.9190\n",
            "Evaluating at step 1240\n",
            "Validation Loss: 0.1768, Accuracy: 0.9423\n",
            "Evaluating at step 1260\n",
            "Validation Loss: 0.1823, Accuracy: 0.9423\n",
            "Evaluating at step 1280\n",
            "Validation Loss: 0.1911, Accuracy: 0.9331\n",
            "Evaluating at step 1300\n",
            "Validation Loss: 0.1654, Accuracy: 0.9359\n",
            "Evaluating at step 1320\n",
            "Validation Loss: 0.1905, Accuracy: 0.9331\n",
            "Evaluating at step 1340\n",
            "Validation Loss: 0.1892, Accuracy: 0.9387\n",
            "Evaluating at step 1360\n",
            "Validation Loss: 0.1788, Accuracy: 0.9359\n",
            "Evaluating at step 1380\n",
            "Validation Loss: 0.2271, Accuracy: 0.9183\n",
            "Evaluating at step 1400\n",
            "Validation Loss: 0.1915, Accuracy: 0.9254\n",
            "Evaluating at step 1420\n",
            "Validation Loss: 0.1788, Accuracy: 0.9486\n",
            "Evaluating at step 1440\n",
            "Validation Loss: 0.2119, Accuracy: 0.9268\n",
            "Evaluating at step 1460\n",
            "Validation Loss: 0.1963, Accuracy: 0.9303\n",
            "Evaluating at step 1480\n",
            "Validation Loss: 0.2075, Accuracy: 0.9324\n",
            "Evaluating at step 1500\n",
            "Validation Loss: 0.2171, Accuracy: 0.9331\n",
            "Evaluating at step 1520\n",
            "Validation Loss: 0.1596, Accuracy: 0.9479\n",
            "Evaluating at step 1540\n",
            "Validation Loss: 0.2921, Accuracy: 0.8866\n",
            "Evaluating at step 1560\n",
            "Validation Loss: 0.1658, Accuracy: 0.9451\n",
            "Evaluating at step 1580\n",
            "Validation Loss: 0.2296, Accuracy: 0.9162\n",
            "Evaluating at step 1600\n",
            "Validation Loss: 0.1776, Accuracy: 0.9451\n",
            "Evaluating at step 1620\n",
            "Validation Loss: 0.2217, Accuracy: 0.9085\n",
            "Evaluating at step 1640\n",
            "Validation Loss: 0.1732, Accuracy: 0.9430\n",
            "Evaluating at step 1660\n",
            "Validation Loss: 0.1836, Accuracy: 0.9359\n",
            "Evaluating at step 1680\n",
            "Validation Loss: 0.1815, Accuracy: 0.9352\n",
            "Evaluating at step 1700\n",
            "Validation Loss: 0.1531, Accuracy: 0.9458\n",
            "Evaluating at step 1720\n",
            "Validation Loss: 0.1808, Accuracy: 0.9275\n",
            "Evaluating at step 1740\n",
            "Validation Loss: 0.1906, Accuracy: 0.9296\n",
            "Evaluating at step 1760\n",
            "Validation Loss: 0.1682, Accuracy: 0.9458\n",
            "Evaluating at step 1780\n",
            "Validation Loss: 0.1599, Accuracy: 0.9514\n",
            "Performance condition satisfied, stopping..\n",
            "CPU times: user 12min 46s, sys: 11.2 s, total: 12min 57s\n",
            "Wall time: 12min 55s\n"
          ],
          "name": "stdout"
        }
      ]
    },
    {
      "cell_type": "code",
      "metadata": {
        "id": "gentle-ireland"
      },
      "source": [
        "torch.save(model_resnet18.state_dict(), '/tmp/COVID-19_Radiography_Dataset/my_resnet18.pth')"
      ],
      "id": "gentle-ireland",
      "execution_count": null,
      "outputs": []
    },
    {
      "cell_type": "code",
      "metadata": {
        "colab": {
          "base_uri": "https://localhost:8080/",
          "height": 530
        },
        "id": "G0KPEHHABy6e",
        "outputId": "710a809b-57e3-49e9-bbe8-6af5ab225257"
      },
      "source": [
        "## Plot performance figure\n",
        "#fig, axes = plt.subplots(1, 1, constrained_layout=True)\n",
        "fig, axs = plt.subplots(figsize=(8,8))\n",
        "\n",
        "plt.plot(history['train_loss'],'b-',label='Train loss')\n",
        "plt.plot(history['val_loss'],'r-',label='Val loss')\n",
        "#axes[0].plot([20*x for x in range(25)],history['train_loss'][:25])\n",
        "plt.title('Validation test')\n",
        "plt.ylabel('loss')\n",
        "plt.xlabel('batch')\n",
        "plt.grid()\n",
        "plt.legend()\n",
        "#axs.set_ylim([0, 3])\n",
        "#axes[0].legend(['train', 'test'], loc='best')"
      ],
      "id": "G0KPEHHABy6e",
      "execution_count": null,
      "outputs": [
        {
          "output_type": "execute_result",
          "data": {
            "text/plain": [
              "<matplotlib.legend.Legend at 0x7f926c060bd0>"
            ]
          },
          "metadata": {
            "tags": []
          },
          "execution_count": 83
        },
        {
          "output_type": "display_data",
          "data": {
            "image/png": "[encoded data removed]",
            "text/plain": [
              "<Figure size 576x576 with 1 Axes>"
            ]
          },
          "metadata": {
            "tags": [],
            "needs_background": "light"
          }
        }
      ]
    },
    {
      "cell_type": "code",
      "metadata": {
        "colab": {
          "base_uri": "https://localhost:8080/",
          "height": 282
        },
        "id": "Jb6tZJgDPGA1",
        "outputId": "f6572d26-cb14-414d-b769-2943534dc98e"
      },
      "source": [
        "from sklearn.metrics import confusion_matrix\n",
        "\n",
        "# Initialize the prediction and label lists(tensors)\n",
        "predlist=torch.zeros(0,dtype=torch.long)\n",
        "lbllist=torch.zeros(0,dtype=torch.long)\n",
        "\n",
        "model_resnet18.eval()\n",
        "for val_step, (images, labels) in enumerate(dl_test):\n",
        "  images = images.to(device)\n",
        "  labels = labels.to(device)\n",
        "  outputs = model_resnet18(images)\n",
        "\n",
        "  _, preds = torch.max(outputs, 1)\n",
        "  \n",
        "  # Append batch prediction results\n",
        "  predlist=torch.cat([predlist,preds.view(-1).cpu()])\n",
        "  lbllist=torch.cat([lbllist,labels.view(-1).cpu()])\n",
        "\n",
        "conf_mat=confusion_matrix(lbllist.numpy(), predlist.numpy())\n",
        "#print(conf_mat)\n",
        "import seaborn as sns\n",
        "import pandas as pd\n",
        "df_cm = pd.DataFrame(conf_mat, index = class_names,\n",
        "                  columns = class_names)\n",
        "sns.heatmap(df_cm, annot=True,cmap='Blues',fmt=\".0f\")"
      ],
      "id": "Jb6tZJgDPGA1",
      "execution_count": null,
      "outputs": [
        {
          "output_type": "execute_result",
          "data": {
            "text/plain": [
              "<matplotlib.axes._subplots.AxesSubplot at 0x7f92603c6150>"
            ]
          },
          "metadata": {
            "tags": []
          },
          "execution_count": 91
        },
        {
          "output_type": "display_data",
          "data": {
            "image/png": "[encoded data removed]",
            "text/plain": [
              "<Figure size 432x288 with 2 Axes>"
            ]
          },
          "metadata": {
            "tags": [],
            "needs_background": "light"
          }
        }
      ]
    },
    {
      "cell_type": "markdown",
      "metadata": {
        "id": "7Kp_CJbdRzuK"
      },
      "source": [
        "VGG"
      ],
      "id": "7Kp_CJbdRzuK"
    },
    {
      "cell_type": "code",
      "metadata": {
        "id": "i6D4bXpQZUNa",
        "colab": {
          "base_uri": "https://localhost:8080/"
        },
        "outputId": "75944bdf-a9b5-4407-fa85-414ebb1814b5"
      },
      "source": [
        "model_VGG = torchvision.models.vgg16()\n",
        "\n",
        "print(model_VGG)"
      ],
      "id": "i6D4bXpQZUNa",
      "execution_count": null,
      "outputs": [
        {
          "output_type": "stream",
          "text": [
            "VGG(\n",
            "  (features): Sequential(\n",
            "    (0): Conv2d(3, 64, kernel_size=(3, 3), stride=(1, 1), padding=(1, 1))\n",
            "    (1): ReLU(inplace=True)\n",
            "    (2): Conv2d(64, 64, kernel_size=(3, 3), stride=(1, 1), padding=(1, 1))\n",
            "    (3): ReLU(inplace=True)\n",
            "    (4): MaxPool2d(kernel_size=2, stride=2, padding=0, dilation=1, ceil_mode=False)\n",
            "    (5): Conv2d(64, 128, kernel_size=(3, 3), stride=(1, 1), padding=(1, 1))\n",
            "    (6): ReLU(inplace=True)\n",
            "    (7): Conv2d(128, 128, kernel_size=(3, 3), stride=(1, 1), padding=(1, 1))\n",
            "    (8): ReLU(inplace=True)\n",
            "    (9): MaxPool2d(kernel_size=2, stride=2, padding=0, dilation=1, ceil_mode=False)\n",
            "    (10): Conv2d(128, 256, kernel_size=(3, 3), stride=(1, 1), padding=(1, 1))\n",
            "    (11): ReLU(inplace=True)\n",
            "    (12): Conv2d(256, 256, kernel_size=(3, 3), stride=(1, 1), padding=(1, 1))\n",
            "    (13): ReLU(inplace=True)\n",
            "    (14): Conv2d(256, 256, kernel_size=(3, 3), stride=(1, 1), padding=(1, 1))\n",
            "    (15): ReLU(inplace=True)\n",
            "    (16): MaxPool2d(kernel_size=2, stride=2, padding=0, dilation=1, ceil_mode=False)\n",
            "    (17): Conv2d(256, 512, kernel_size=(3, 3), stride=(1, 1), padding=(1, 1))\n",
            "    (18): ReLU(inplace=True)\n",
            "    (19): Conv2d(512, 512, kernel_size=(3, 3), stride=(1, 1), padding=(1, 1))\n",
            "    (20): ReLU(inplace=True)\n",
            "    (21): Conv2d(512, 512, kernel_size=(3, 3), stride=(1, 1), padding=(1, 1))\n",
            "    (22): ReLU(inplace=True)\n",
            "    (23): MaxPool2d(kernel_size=2, stride=2, padding=0, dilation=1, ceil_mode=False)\n",
            "    (24): Conv2d(512, 512, kernel_size=(3, 3), stride=(1, 1), padding=(1, 1))\n",
            "    (25): ReLU(inplace=True)\n",
            "    (26): Conv2d(512, 512, kernel_size=(3, 3), stride=(1, 1), padding=(1, 1))\n",
            "    (27): ReLU(inplace=True)\n",
            "    (28): Conv2d(512, 512, kernel_size=(3, 3), stride=(1, 1), padding=(1, 1))\n",
            "    (29): ReLU(inplace=True)\n",
            "    (30): MaxPool2d(kernel_size=2, stride=2, padding=0, dilation=1, ceil_mode=False)\n",
            "  )\n",
            "  (avgpool): AdaptiveAvgPool2d(output_size=(7, 7))\n",
            "  (classifier): Sequential(\n",
            "    (0): Linear(in_features=25088, out_features=4096, bias=True)\n",
            "    (1): ReLU(inplace=True)\n",
            "    (2): Dropout(p=0.5, inplace=False)\n",
            "    (3): Linear(in_features=4096, out_features=4096, bias=True)\n",
            "    (4): ReLU(inplace=True)\n",
            "    (5): Dropout(p=0.5, inplace=False)\n",
            "    (6): Linear(in_features=4096, out_features=1000, bias=True)\n",
            "  )\n",
            ")\n"
          ],
          "name": "stdout"
        }
      ]
    },
    {
      "cell_type": "code",
      "metadata": {
        "id": "-x-Ltd3wR6vj"
      },
      "source": [
        "model_VGG.fc = torch.nn.Linear(in_features = 4096, out_features = 4)\n",
        "model_VGG = model_VGG.to(device)\n",
        "loss_fnVGG     = torch.nn.CrossEntropyLoss()\n",
        "optimizer_VGG   = torch.optim.Adam(model_VGG.parameters(), lr = 3e-5)"
      ],
      "id": "-x-Ltd3wR6vj",
      "execution_count": null,
      "outputs": []
    },
    {
      "cell_type": "code",
      "metadata": {
        "id": "VSZa9d-tSSHS"
      },
      "source": [
        "history = { 'train_loss': [], 'val_loss': []}\n",
        "\n",
        "def train3(epochs):\n",
        "    print('Starting training..')\n",
        "    train_losses, test_losses = [], []\n",
        "    rs = '------------------------------------------------------------------'\n",
        "    print('Epoch    Train-Loss   Train-Acc   Val-Loss    Val-Acc   Best')\n",
        "    print(rs)\n",
        "    for e in range(0, epochs):\n",
        "        print('='*20)\n",
        "        print(f'Starting epoch {e + 1}/{epochs}')\n",
        "        print('='*20)\n",
        "\n",
        "        train_loss = 0.\n",
        "        val_loss = 0.\n",
        "\n",
        "        model_VGG.train() # set model to training phase\n",
        "\n",
        "        for train_step, (images, labels) in enumerate(dl_train):\n",
        "            images = images.to(device)\n",
        "            labels = labels.to(device)\n",
        "            optimizer_VGG.zero_grad()\n",
        "            outputs = model_VGG(images)\n",
        "            loss = loss_fnVGG(outputs, labels)\n",
        "            loss.backward()\n",
        "            optimizer_VGG.step()\n",
        "            train_loss += loss.item()\n",
        "            if train_step % 20 == 0:\n",
        "                print('Evaluating at step', train_step)\n",
        "\n",
        "                accuracy = 0\n",
        "\n",
        "                model_VGG.eval() # set model to eval phase\n",
        "\n",
        "                for val_step, (images, labels) in enumerate(dl_test):\n",
        "                    images = images.to(device)\n",
        "                    labels = labels.to(device)\n",
        "                    outputs = model_VGG(images)\n",
        "                    loss = loss_fnVGG(outputs, labels)\n",
        "                    val_loss += loss.item()\n",
        "\n",
        "                    _, preds = torch.max(outputs, 1)\n",
        "                    \n",
        "                    accuracy += torch.sum(preds == labels.data)\n",
        "\n",
        "                val_loss /= (val_step + 1)\n",
        "                train_loss /= (train_step + 1)\n",
        "                accuracy = accuracy/len(test_dataset)\n",
        "                print(f'Validation Loss: {val_loss:.4f}, Accuracy: {accuracy:.4f}')\n",
        "                \n",
        "                history['train_loss'].append(train_loss)\n",
        "                history['val_loss'].append(val_loss)\n",
        "                #train_losses.append(train_loss/len(dl_train))\n",
        "                #test_losses.append(val_loss/len(dl_test))\n",
        "\n",
        "                #show_predsgnet()\n",
        "\n",
        "                model_VGG.train()\n",
        "\n",
        "                if accuracy >= 0.95:\n",
        "                    print('Performance condition satisfied, stopping..')\n",
        "                    return\n",
        "\n",
        "        train_loss /= (train_step + 1)\n",
        "\n",
        "        print(f'Training Loss: {train_loss:.4f}')\n",
        "    print('Training complete..')"
      ],
      "id": "VSZa9d-tSSHS",
      "execution_count": null,
      "outputs": []
    },
    {
      "cell_type": "code",
      "metadata": {
        "colab": {
          "base_uri": "https://localhost:8080/"
        },
        "id": "COXnYZpMShFV",
        "outputId": "4af1bb46-f946-431f-a951-9a0dec188e2f"
      },
      "source": [
        "%%time\n",
        "\n",
        "train3(epochs=3)"
      ],
      "id": "COXnYZpMShFV",
      "execution_count": null,
      "outputs": [
        {
          "output_type": "stream",
          "text": [
            "Starting training..\n",
            "Epoch    Train-Loss   Train-Acc   Val-Loss    Val-Acc   Best\n",
            "------------------------------------------------------------------\n",
            "====================\n",
            "Starting epoch 1/3\n",
            "====================\n"
          ],
          "name": "stdout"
        },
        {
          "output_type": "stream",
          "text": [
            "/usr/local/lib/python3.7/dist-packages/torch/nn/functional.py:718: UserWarning: Named tensors and all their associated APIs are an experimental feature and subject to change. Please do not use them for anything important until they are released as stable. (Triggered internally at  /pytorch/c10/core/TensorImpl.h:1156.)\n",
            "  return torch.max_pool2d(input, kernel_size, stride, padding, dilation, ceil_mode)\n"
          ],
          "name": "stderr"
        },
        {
          "output_type": "stream",
          "text": [
            "Evaluating at step 0\n",
            "Validation Loss: 6.7595, Accuracy: 0.2106\n",
            "Evaluating at step 20\n",
            "Validation Loss: 1.9827, Accuracy: 0.2570\n",
            "Evaluating at step 40\n",
            "Validation Loss: 1.4352, Accuracy: 0.3535\n",
            "Evaluating at step 60\n",
            "Validation Loss: 1.3291, Accuracy: 0.4507\n",
            "Evaluating at step 80\n",
            "Validation Loss: 1.1882, Accuracy: 0.4408\n",
            "Evaluating at step 100\n",
            "Validation Loss: 1.2254, Accuracy: 0.4479\n",
            "Evaluating at step 120\n",
            "Validation Loss: 1.1246, Accuracy: 0.5000\n",
            "Evaluating at step 140\n",
            "Validation Loss: 1.0091, Accuracy: 0.5944\n",
            "Evaluating at step 160\n",
            "Validation Loss: 1.1246, Accuracy: 0.5331\n",
            "Evaluating at step 180\n",
            "Validation Loss: 1.1455, Accuracy: 0.4310\n",
            "Evaluating at step 200\n",
            "Validation Loss: 1.1701, Accuracy: 0.5204\n",
            "Evaluating at step 220\n",
            "Validation Loss: 1.1117, Accuracy: 0.4796\n",
            "Evaluating at step 240\n",
            "Validation Loss: 0.9763, Accuracy: 0.5972\n",
            "Evaluating at step 260\n",
            "Validation Loss: 0.9305, Accuracy: 0.5866\n",
            "Evaluating at step 280\n",
            "Validation Loss: 1.1374, Accuracy: 0.4915\n",
            "Evaluating at step 300\n",
            "Validation Loss: 1.0308, Accuracy: 0.5761\n",
            "Evaluating at step 320\n",
            "Validation Loss: 1.0025, Accuracy: 0.6268\n",
            "Evaluating at step 340\n",
            "Validation Loss: 0.9338, Accuracy: 0.5923\n",
            "Evaluating at step 360\n",
            "Validation Loss: 0.9158, Accuracy: 0.5831\n",
            "Evaluating at step 380\n",
            "Validation Loss: 0.9810, Accuracy: 0.6000\n",
            "Evaluating at step 400\n",
            "Validation Loss: 0.9074, Accuracy: 0.5944\n",
            "Evaluating at step 420\n",
            "Validation Loss: 0.9027, Accuracy: 0.6366\n",
            "Evaluating at step 440\n",
            "Validation Loss: 0.8705, Accuracy: 0.6352\n",
            "Evaluating at step 460\n",
            "Validation Loss: 0.9321, Accuracy: 0.5768\n",
            "Evaluating at step 480\n",
            "Validation Loss: 0.9136, Accuracy: 0.6479\n",
            "Evaluating at step 500\n",
            "Validation Loss: 1.0555, Accuracy: 0.6042\n",
            "Evaluating at step 520\n",
            "Validation Loss: 0.9341, Accuracy: 0.6077\n",
            "Evaluating at step 540\n",
            "Validation Loss: 0.9354, Accuracy: 0.5937\n",
            "Evaluating at step 560\n",
            "Validation Loss: 0.8467, Accuracy: 0.6246\n",
            "Evaluating at step 580\n",
            "Validation Loss: 0.8381, Accuracy: 0.6197\n",
            "Evaluating at step 600\n",
            "Validation Loss: 0.8270, Accuracy: 0.6704\n",
            "Evaluating at step 620\n",
            "Validation Loss: 0.8104, Accuracy: 0.6507\n",
            "Evaluating at step 640\n",
            "Validation Loss: 0.8530, Accuracy: 0.6345\n",
            "Evaluating at step 660\n",
            "Validation Loss: 0.8107, Accuracy: 0.6577\n",
            "Evaluating at step 680\n",
            "Validation Loss: 0.8083, Accuracy: 0.6493\n",
            "Evaluating at step 700\n",
            "Validation Loss: 0.7404, Accuracy: 0.6901\n",
            "Evaluating at step 720\n",
            "Validation Loss: 0.7353, Accuracy: 0.6908\n",
            "Evaluating at step 740\n",
            "Validation Loss: 0.8527, Accuracy: 0.6345\n",
            "Evaluating at step 760\n",
            "Validation Loss: 0.8187, Accuracy: 0.6380\n",
            "Evaluating at step 780\n",
            "Validation Loss: 0.8224, Accuracy: 0.6662\n",
            "Evaluating at step 800\n",
            "Validation Loss: 0.8247, Accuracy: 0.6211\n",
            "Evaluating at step 820\n",
            "Validation Loss: 0.8498, Accuracy: 0.6317\n",
            "Evaluating at step 840\n",
            "Validation Loss: 0.9136, Accuracy: 0.6423\n",
            "Evaluating at step 860\n",
            "Validation Loss: 0.7927, Accuracy: 0.6866\n",
            "Evaluating at step 880\n",
            "Validation Loss: 0.8313, Accuracy: 0.6197\n",
            "Evaluating at step 900\n",
            "Validation Loss: 0.8588, Accuracy: 0.6268\n",
            "Evaluating at step 920\n",
            "Validation Loss: 0.7433, Accuracy: 0.6894\n",
            "Evaluating at step 940\n",
            "Validation Loss: 0.7350, Accuracy: 0.6993\n",
            "Evaluating at step 960\n",
            "Validation Loss: 0.7299, Accuracy: 0.6810\n",
            "Evaluating at step 980\n",
            "Validation Loss: 0.7221, Accuracy: 0.7007\n",
            "Evaluating at step 1000\n",
            "Validation Loss: 0.8900, Accuracy: 0.6169\n",
            "Evaluating at step 1020\n",
            "Validation Loss: 0.7643, Accuracy: 0.6986\n",
            "Evaluating at step 1040\n",
            "Validation Loss: 0.8085, Accuracy: 0.6451\n",
            "Evaluating at step 1060\n",
            "Validation Loss: 0.9387, Accuracy: 0.6204\n",
            "Evaluating at step 1080\n",
            "Validation Loss: 0.7582, Accuracy: 0.6972\n",
            "Evaluating at step 1100\n",
            "Validation Loss: 0.8311, Accuracy: 0.6845\n",
            "Evaluating at step 1120\n",
            "Validation Loss: 0.7579, Accuracy: 0.7056\n",
            "Evaluating at step 1140\n",
            "Validation Loss: 0.7534, Accuracy: 0.7268\n",
            "Evaluating at step 1160\n",
            "Validation Loss: 0.6976, Accuracy: 0.7444\n",
            "Evaluating at step 1180\n",
            "Validation Loss: 0.7552, Accuracy: 0.7014\n",
            "Evaluating at step 1200\n",
            "Validation Loss: 0.8605, Accuracy: 0.6493\n",
            "Evaluating at step 1220\n",
            "Validation Loss: 0.8009, Accuracy: 0.7190\n",
            "Evaluating at step 1240\n",
            "Validation Loss: 0.7504, Accuracy: 0.6965\n",
            "Evaluating at step 1260\n",
            "Validation Loss: 0.7176, Accuracy: 0.7056\n",
            "Evaluating at step 1280\n",
            "Validation Loss: 0.7275, Accuracy: 0.6937\n",
            "Evaluating at step 1300\n",
            "Validation Loss: 0.6620, Accuracy: 0.7345\n",
            "Evaluating at step 1320\n",
            "Validation Loss: 0.7415, Accuracy: 0.6944\n",
            "Evaluating at step 1340\n",
            "Validation Loss: 0.8653, Accuracy: 0.6676\n",
            "Evaluating at step 1360\n",
            "Validation Loss: 0.6946, Accuracy: 0.7296\n",
            "Evaluating at step 1380\n",
            "Validation Loss: 0.6804, Accuracy: 0.7169\n",
            "Evaluating at step 1400\n",
            "Validation Loss: 0.6594, Accuracy: 0.7324\n",
            "Evaluating at step 1420\n",
            "Validation Loss: 0.7348, Accuracy: 0.7028\n",
            "Evaluating at step 1440\n",
            "Validation Loss: 0.6669, Accuracy: 0.7310\n",
            "Evaluating at step 1460\n",
            "Validation Loss: 0.6204, Accuracy: 0.7570\n",
            "Evaluating at step 1480\n",
            "Validation Loss: 0.5763, Accuracy: 0.7859\n",
            "Evaluating at step 1500\n",
            "Validation Loss: 0.6729, Accuracy: 0.7275\n",
            "Evaluating at step 1520\n",
            "Validation Loss: 0.6917, Accuracy: 0.7197\n",
            "Evaluating at step 1540\n",
            "Validation Loss: 0.6270, Accuracy: 0.7352\n",
            "Evaluating at step 1560\n",
            "Validation Loss: 0.6203, Accuracy: 0.7662\n",
            "Evaluating at step 1580\n",
            "Validation Loss: 0.6773, Accuracy: 0.7218\n",
            "Evaluating at step 1600\n",
            "Validation Loss: 0.7027, Accuracy: 0.7063\n",
            "Evaluating at step 1620\n",
            "Validation Loss: 0.6711, Accuracy: 0.7225\n",
            "Evaluating at step 1640\n",
            "Validation Loss: 0.7289, Accuracy: 0.6817\n",
            "Evaluating at step 1660\n",
            "Validation Loss: 0.6733, Accuracy: 0.7465\n",
            "Evaluating at step 1680\n",
            "Validation Loss: 0.7443, Accuracy: 0.6915\n",
            "Evaluating at step 1700\n",
            "Validation Loss: 0.6072, Accuracy: 0.7577\n",
            "Evaluating at step 1720\n",
            "Validation Loss: 0.6022, Accuracy: 0.7479\n",
            "Evaluating at step 1740\n",
            "Validation Loss: 0.6106, Accuracy: 0.7662\n",
            "Evaluating at step 1760\n",
            "Validation Loss: 0.6684, Accuracy: 0.7542\n",
            "Evaluating at step 1780\n",
            "Validation Loss: 0.6545, Accuracy: 0.7521\n",
            "Evaluating at step 1800\n",
            "Validation Loss: 0.5561, Accuracy: 0.7915\n",
            "Evaluating at step 1820\n",
            "Validation Loss: 0.5690, Accuracy: 0.7852\n",
            "Evaluating at step 1840\n",
            "Validation Loss: 0.5960, Accuracy: 0.7676\n",
            "Evaluating at step 1860\n",
            "Validation Loss: 0.6783, Accuracy: 0.7472\n",
            "Evaluating at step 1880\n",
            "Validation Loss: 0.6357, Accuracy: 0.7507\n",
            "Evaluating at step 1900\n",
            "Validation Loss: 0.7120, Accuracy: 0.7254\n",
            "Evaluating at step 1920\n",
            "Validation Loss: 0.6243, Accuracy: 0.7641\n",
            "Evaluating at step 1940\n",
            "Validation Loss: 0.5685, Accuracy: 0.7824\n",
            "Evaluating at step 1960\n",
            "Validation Loss: 0.5653, Accuracy: 0.7845\n",
            "Evaluating at step 1980\n",
            "Validation Loss: 0.6197, Accuracy: 0.7599\n",
            "Evaluating at step 2000\n",
            "Validation Loss: 0.5815, Accuracy: 0.7831\n",
            "Evaluating at step 2020\n",
            "Validation Loss: 0.7659, Accuracy: 0.6845\n",
            "Evaluating at step 2040\n",
            "Validation Loss: 0.5803, Accuracy: 0.7845\n",
            "Evaluating at step 2060\n",
            "Validation Loss: 0.5455, Accuracy: 0.7930\n",
            "Evaluating at step 2080\n",
            "Validation Loss: 0.5628, Accuracy: 0.7894\n",
            "Evaluating at step 2100\n",
            "Validation Loss: 0.5159, Accuracy: 0.8021\n",
            "Evaluating at step 2120\n",
            "Validation Loss: 0.5463, Accuracy: 0.7817\n",
            "Training Loss: 0.0023\n",
            "====================\n",
            "Starting epoch 2/3\n",
            "====================\n",
            "Evaluating at step 0\n",
            "Validation Loss: 0.5408, Accuracy: 0.7803\n",
            "Evaluating at step 20\n",
            "Validation Loss: 0.5319, Accuracy: 0.8021\n",
            "Evaluating at step 40\n",
            "Validation Loss: 0.5702, Accuracy: 0.7965\n",
            "Evaluating at step 60\n",
            "Validation Loss: 0.5523, Accuracy: 0.7993\n",
            "Evaluating at step 80\n",
            "Validation Loss: 0.6215, Accuracy: 0.7627\n",
            "Evaluating at step 100\n",
            "Validation Loss: 0.5689, Accuracy: 0.7824\n",
            "Evaluating at step 120\n",
            "Validation Loss: 0.5708, Accuracy: 0.7796\n",
            "Evaluating at step 140\n",
            "Validation Loss: 0.6640, Accuracy: 0.7430\n",
            "Evaluating at step 160\n",
            "Validation Loss: 0.5640, Accuracy: 0.7866\n",
            "Evaluating at step 180\n",
            "Validation Loss: 0.5290, Accuracy: 0.8042\n",
            "Evaluating at step 200\n",
            "Validation Loss: 0.5928, Accuracy: 0.7739\n",
            "Evaluating at step 220\n",
            "Validation Loss: 0.6451, Accuracy: 0.7528\n",
            "Evaluating at step 240\n",
            "Validation Loss: 0.4936, Accuracy: 0.8197\n",
            "Evaluating at step 260\n",
            "Validation Loss: 0.5115, Accuracy: 0.8092\n",
            "Evaluating at step 280\n",
            "Validation Loss: 0.5020, Accuracy: 0.8127\n",
            "Evaluating at step 300\n",
            "Validation Loss: 0.6238, Accuracy: 0.7725\n",
            "Evaluating at step 320\n",
            "Validation Loss: 0.5265, Accuracy: 0.7761\n",
            "Evaluating at step 340\n",
            "Validation Loss: 0.5216, Accuracy: 0.7958\n",
            "Evaluating at step 360\n",
            "Validation Loss: 0.6061, Accuracy: 0.7866\n",
            "Evaluating at step 380\n",
            "Validation Loss: 0.5163, Accuracy: 0.8134\n",
            "Evaluating at step 400\n",
            "Validation Loss: 0.5290, Accuracy: 0.7944\n",
            "Evaluating at step 420\n",
            "Validation Loss: 0.4748, Accuracy: 0.8239\n",
            "Evaluating at step 440\n",
            "Validation Loss: 0.6126, Accuracy: 0.7718\n",
            "Evaluating at step 460\n",
            "Validation Loss: 0.5762, Accuracy: 0.7958\n",
            "Evaluating at step 480\n",
            "Validation Loss: 0.4914, Accuracy: 0.8211\n",
            "Evaluating at step 500\n",
            "Validation Loss: 0.5298, Accuracy: 0.8035\n",
            "Evaluating at step 520\n",
            "Validation Loss: 0.5238, Accuracy: 0.8063\n",
            "Evaluating at step 540\n",
            "Validation Loss: 0.5350, Accuracy: 0.7796\n",
            "Evaluating at step 560\n",
            "Validation Loss: 0.4912, Accuracy: 0.8120\n",
            "Evaluating at step 580\n",
            "Validation Loss: 0.5999, Accuracy: 0.7824\n",
            "Evaluating at step 600\n",
            "Validation Loss: 0.5370, Accuracy: 0.8007\n",
            "Evaluating at step 620\n",
            "Validation Loss: 0.5565, Accuracy: 0.7838\n",
            "Evaluating at step 640\n",
            "Validation Loss: 0.4713, Accuracy: 0.8324\n",
            "Evaluating at step 660\n",
            "Validation Loss: 0.4360, Accuracy: 0.8394\n",
            "Evaluating at step 680\n",
            "Validation Loss: 0.4446, Accuracy: 0.8521\n",
            "Evaluating at step 700\n",
            "Validation Loss: 0.5014, Accuracy: 0.8092\n",
            "Evaluating at step 720\n",
            "Validation Loss: 0.4439, Accuracy: 0.8317\n",
            "Evaluating at step 740\n",
            "Validation Loss: 0.5288, Accuracy: 0.7993\n",
            "Evaluating at step 760\n",
            "Validation Loss: 0.5167, Accuracy: 0.7993\n",
            "Evaluating at step 780\n",
            "Validation Loss: 0.5008, Accuracy: 0.8141\n",
            "Evaluating at step 800\n",
            "Validation Loss: 0.5235, Accuracy: 0.8014\n",
            "Evaluating at step 820\n",
            "Validation Loss: 0.4714, Accuracy: 0.8225\n",
            "Evaluating at step 840\n",
            "Validation Loss: 0.6760, Accuracy: 0.7852\n",
            "Evaluating at step 860\n",
            "Validation Loss: 0.5211, Accuracy: 0.8085\n",
            "Evaluating at step 880\n",
            "Validation Loss: 0.4707, Accuracy: 0.8225\n",
            "Evaluating at step 900\n",
            "Validation Loss: 0.4840, Accuracy: 0.8169\n",
            "Evaluating at step 920\n",
            "Validation Loss: 0.4436, Accuracy: 0.8246\n",
            "Evaluating at step 940\n",
            "Validation Loss: 0.4292, Accuracy: 0.8465\n",
            "Evaluating at step 960\n",
            "Validation Loss: 0.4464, Accuracy: 0.8423\n",
            "Evaluating at step 980\n",
            "Validation Loss: 0.4033, Accuracy: 0.8528\n",
            "Evaluating at step 1000\n",
            "Validation Loss: 0.4289, Accuracy: 0.8458\n",
            "Evaluating at step 1020\n",
            "Validation Loss: 0.4960, Accuracy: 0.8035\n",
            "Evaluating at step 1040\n",
            "Validation Loss: 0.4693, Accuracy: 0.8141\n",
            "Evaluating at step 1060\n",
            "Validation Loss: 0.4660, Accuracy: 0.8451\n",
            "Evaluating at step 1080\n",
            "Validation Loss: 0.4728, Accuracy: 0.8317\n",
            "Evaluating at step 1100\n",
            "Validation Loss: 0.4866, Accuracy: 0.8077\n",
            "Evaluating at step 1120\n",
            "Validation Loss: 0.4798, Accuracy: 0.8239\n",
            "Evaluating at step 1140\n",
            "Validation Loss: 0.4751, Accuracy: 0.8268\n",
            "Evaluating at step 1160\n",
            "Validation Loss: 0.4303, Accuracy: 0.8317\n",
            "Evaluating at step 1180\n",
            "Validation Loss: 0.4250, Accuracy: 0.8430\n",
            "Evaluating at step 1200\n",
            "Validation Loss: 0.4346, Accuracy: 0.8345\n",
            "Evaluating at step 1220\n",
            "Validation Loss: 0.5323, Accuracy: 0.8099\n",
            "Evaluating at step 1240\n",
            "Validation Loss: 0.4079, Accuracy: 0.8415\n",
            "Evaluating at step 1260\n",
            "Validation Loss: 0.4484, Accuracy: 0.8401\n",
            "Evaluating at step 1280\n",
            "Validation Loss: 0.5157, Accuracy: 0.8225\n",
            "Evaluating at step 1300\n",
            "Validation Loss: 0.4405, Accuracy: 0.8345\n",
            "Evaluating at step 1320\n",
            "Validation Loss: 0.4725, Accuracy: 0.8239\n",
            "Evaluating at step 1340\n",
            "Validation Loss: 0.3740, Accuracy: 0.8627\n",
            "Evaluating at step 1360\n",
            "Validation Loss: 0.4814, Accuracy: 0.8120\n",
            "Evaluating at step 1380\n",
            "Validation Loss: 0.5234, Accuracy: 0.7951\n",
            "Evaluating at step 1400\n",
            "Validation Loss: 0.3916, Accuracy: 0.8521\n",
            "Evaluating at step 1420\n",
            "Validation Loss: 0.4440, Accuracy: 0.8451\n",
            "Evaluating at step 1440\n",
            "Validation Loss: 0.4182, Accuracy: 0.8345\n",
            "Evaluating at step 1460\n",
            "Validation Loss: 0.4824, Accuracy: 0.8324\n",
            "Evaluating at step 1480\n",
            "Validation Loss: 0.5513, Accuracy: 0.7845\n",
            "Evaluating at step 1500\n",
            "Validation Loss: 0.4888, Accuracy: 0.8204\n",
            "Evaluating at step 1520\n",
            "Validation Loss: 0.4526, Accuracy: 0.8268\n",
            "Evaluating at step 1540\n",
            "Validation Loss: 0.3821, Accuracy: 0.8641\n",
            "Evaluating at step 1560\n",
            "Validation Loss: 0.4464, Accuracy: 0.8254\n",
            "Evaluating at step 1580\n",
            "Validation Loss: 0.3836, Accuracy: 0.8542\n",
            "Evaluating at step 1600\n",
            "Validation Loss: 0.4299, Accuracy: 0.8373\n",
            "Evaluating at step 1620\n",
            "Validation Loss: 0.6028, Accuracy: 0.7627\n",
            "Evaluating at step 1640\n",
            "Validation Loss: 0.5863, Accuracy: 0.7704\n",
            "Evaluating at step 1660\n",
            "Validation Loss: 0.4661, Accuracy: 0.8254\n",
            "Evaluating at step 1680\n",
            "Validation Loss: 0.4306, Accuracy: 0.8387\n",
            "Evaluating at step 1700\n",
            "Validation Loss: 0.4301, Accuracy: 0.8401\n",
            "Evaluating at step 1720\n",
            "Validation Loss: 0.3832, Accuracy: 0.8493\n",
            "Evaluating at step 1740\n",
            "Validation Loss: 0.4094, Accuracy: 0.8423\n",
            "Evaluating at step 1760\n",
            "Validation Loss: 0.4000, Accuracy: 0.8451\n",
            "Evaluating at step 1780\n",
            "Validation Loss: 0.4967, Accuracy: 0.8176\n",
            "Evaluating at step 1800\n",
            "Validation Loss: 0.4243, Accuracy: 0.8331\n",
            "Evaluating at step 1820\n",
            "Validation Loss: 0.4577, Accuracy: 0.8282\n",
            "Evaluating at step 1840\n",
            "Validation Loss: 0.3827, Accuracy: 0.8507\n",
            "Evaluating at step 1860\n",
            "Validation Loss: 0.4346, Accuracy: 0.8211\n",
            "Evaluating at step 1880\n",
            "Validation Loss: 0.4080, Accuracy: 0.8486\n",
            "Evaluating at step 1900\n",
            "Validation Loss: 0.4338, Accuracy: 0.8352\n",
            "Evaluating at step 1920\n",
            "Validation Loss: 0.3994, Accuracy: 0.8486\n",
            "Evaluating at step 1940\n",
            "Validation Loss: 0.3396, Accuracy: 0.8739\n",
            "Evaluating at step 1960\n",
            "Validation Loss: 0.3808, Accuracy: 0.8514\n",
            "Evaluating at step 1980\n",
            "Validation Loss: 0.4020, Accuracy: 0.8577\n",
            "Evaluating at step 2000\n",
            "Validation Loss: 0.4970, Accuracy: 0.7979\n",
            "Evaluating at step 2020\n",
            "Validation Loss: 0.3718, Accuracy: 0.8430\n",
            "Evaluating at step 2040\n",
            "Validation Loss: 0.3482, Accuracy: 0.8655\n",
            "Evaluating at step 2060\n",
            "Validation Loss: 0.4371, Accuracy: 0.8373\n",
            "Evaluating at step 2080\n",
            "Validation Loss: 0.4175, Accuracy: 0.8359\n",
            "Evaluating at step 2100\n",
            "Validation Loss: 0.4065, Accuracy: 0.8486\n",
            "Evaluating at step 2120\n",
            "Validation Loss: 0.4087, Accuracy: 0.8542\n",
            "Training Loss: 0.0012\n",
            "====================\n",
            "Starting epoch 3/3\n",
            "====================\n",
            "Evaluating at step 0\n",
            "Validation Loss: 0.4354, Accuracy: 0.8415\n",
            "Evaluating at step 20\n",
            "Validation Loss: 0.3859, Accuracy: 0.8585\n",
            "Evaluating at step 40\n",
            "Validation Loss: 0.4951, Accuracy: 0.7993\n",
            "Evaluating at step 60\n",
            "Validation Loss: 0.3998, Accuracy: 0.8606\n",
            "Evaluating at step 80\n",
            "Validation Loss: 0.4165, Accuracy: 0.8556\n",
            "Evaluating at step 100\n",
            "Validation Loss: 0.4801, Accuracy: 0.8092\n",
            "Evaluating at step 120\n",
            "Validation Loss: 0.3816, Accuracy: 0.8739\n",
            "Evaluating at step 140\n",
            "Validation Loss: 0.3625, Accuracy: 0.8697\n",
            "Evaluating at step 160\n",
            "Validation Loss: 0.5279, Accuracy: 0.7972\n",
            "Evaluating at step 180\n",
            "Validation Loss: 0.5219, Accuracy: 0.7993\n",
            "Evaluating at step 200\n",
            "Validation Loss: 0.3513, Accuracy: 0.8761\n",
            "Evaluating at step 220\n",
            "Validation Loss: 0.3463, Accuracy: 0.8704\n",
            "Evaluating at step 240\n",
            "Validation Loss: 0.3780, Accuracy: 0.8634\n",
            "Evaluating at step 260\n",
            "Validation Loss: 0.3865, Accuracy: 0.8479\n",
            "Evaluating at step 280\n",
            "Validation Loss: 0.3638, Accuracy: 0.8746\n",
            "Evaluating at step 300\n",
            "Validation Loss: 0.3188, Accuracy: 0.8866\n",
            "Evaluating at step 320\n",
            "Validation Loss: 0.3760, Accuracy: 0.8556\n",
            "Evaluating at step 340\n",
            "Validation Loss: 0.3435, Accuracy: 0.8810\n",
            "Evaluating at step 360\n",
            "Validation Loss: 0.3659, Accuracy: 0.8577\n",
            "Evaluating at step 380\n",
            "Validation Loss: 0.3765, Accuracy: 0.8592\n",
            "Evaluating at step 400\n",
            "Validation Loss: 0.3923, Accuracy: 0.8465\n",
            "Evaluating at step 420\n",
            "Validation Loss: 0.4093, Accuracy: 0.8408\n",
            "Evaluating at step 440\n",
            "Validation Loss: 0.3737, Accuracy: 0.8627\n",
            "Evaluating at step 460\n",
            "Validation Loss: 0.3954, Accuracy: 0.8563\n",
            "Evaluating at step 480\n",
            "Validation Loss: 0.3723, Accuracy: 0.8521\n",
            "Evaluating at step 500\n",
            "Validation Loss: 0.3598, Accuracy: 0.8556\n",
            "Evaluating at step 520\n",
            "Validation Loss: 0.3686, Accuracy: 0.8472\n",
            "Evaluating at step 540\n",
            "Validation Loss: 0.4207, Accuracy: 0.8500\n",
            "Evaluating at step 560\n",
            "Validation Loss: 0.3421, Accuracy: 0.8669\n",
            "Evaluating at step 580\n",
            "Validation Loss: 0.3404, Accuracy: 0.8775\n",
            "Evaluating at step 600\n",
            "Validation Loss: 0.3383, Accuracy: 0.8732\n",
            "Evaluating at step 620\n",
            "Validation Loss: 0.3323, Accuracy: 0.8754\n",
            "Evaluating at step 640\n",
            "Validation Loss: 0.3618, Accuracy: 0.8606\n",
            "Evaluating at step 660\n",
            "Validation Loss: 0.4495, Accuracy: 0.8190\n",
            "Evaluating at step 680\n",
            "Validation Loss: 0.3814, Accuracy: 0.8563\n",
            "Evaluating at step 700\n",
            "Validation Loss: 0.4130, Accuracy: 0.8493\n",
            "Evaluating at step 720\n",
            "Validation Loss: 0.3633, Accuracy: 0.8641\n",
            "Evaluating at step 740\n",
            "Validation Loss: 0.3826, Accuracy: 0.8521\n",
            "Evaluating at step 760\n",
            "Validation Loss: 0.3645, Accuracy: 0.8704\n",
            "Evaluating at step 780\n",
            "Validation Loss: 0.3232, Accuracy: 0.8803\n",
            "Evaluating at step 800\n",
            "Validation Loss: 0.3639, Accuracy: 0.8620\n",
            "Evaluating at step 820\n",
            "Validation Loss: 0.3777, Accuracy: 0.8676\n",
            "Evaluating at step 840\n",
            "Validation Loss: 0.3642, Accuracy: 0.8718\n",
            "Evaluating at step 860\n",
            "Validation Loss: 0.4004, Accuracy: 0.8577\n",
            "Evaluating at step 880\n",
            "Validation Loss: 0.4654, Accuracy: 0.8415\n",
            "Evaluating at step 900\n",
            "Validation Loss: 0.3641, Accuracy: 0.8606\n",
            "Evaluating at step 920\n",
            "Validation Loss: 0.3866, Accuracy: 0.8528\n",
            "Evaluating at step 940\n",
            "Validation Loss: 0.3832, Accuracy: 0.8592\n",
            "Evaluating at step 960\n",
            "Validation Loss: 0.3554, Accuracy: 0.8655\n",
            "Evaluating at step 980\n",
            "Validation Loss: 0.3385, Accuracy: 0.8754\n",
            "Evaluating at step 1000\n",
            "Validation Loss: 0.4140, Accuracy: 0.8479\n",
            "Evaluating at step 1020\n",
            "Validation Loss: 0.4270, Accuracy: 0.8387\n",
            "Evaluating at step 1040\n",
            "Validation Loss: 0.3738, Accuracy: 0.8472\n",
            "Evaluating at step 1060\n",
            "Validation Loss: 0.3285, Accuracy: 0.8669\n",
            "Evaluating at step 1080\n",
            "Validation Loss: 0.3705, Accuracy: 0.8577\n",
            "Evaluating at step 1100\n",
            "Validation Loss: 0.3741, Accuracy: 0.8486\n",
            "Evaluating at step 1120\n",
            "Validation Loss: 0.3441, Accuracy: 0.8725\n",
            "Evaluating at step 1140\n",
            "Validation Loss: 0.4066, Accuracy: 0.8549\n",
            "Evaluating at step 1160\n",
            "Validation Loss: 0.3902, Accuracy: 0.8521\n",
            "Evaluating at step 1180\n",
            "Validation Loss: 0.3616, Accuracy: 0.8556\n",
            "Evaluating at step 1200\n",
            "Validation Loss: 0.3773, Accuracy: 0.8563\n",
            "Evaluating at step 1220\n",
            "Validation Loss: 0.3407, Accuracy: 0.8676\n",
            "Evaluating at step 1240\n",
            "Validation Loss: 0.3613, Accuracy: 0.8627\n",
            "Evaluating at step 1260\n",
            "Validation Loss: 0.3600, Accuracy: 0.8634\n",
            "Evaluating at step 1280\n",
            "Validation Loss: 0.3489, Accuracy: 0.8606\n",
            "Evaluating at step 1300\n",
            "Validation Loss: 0.3717, Accuracy: 0.8521\n",
            "Evaluating at step 1320\n",
            "Validation Loss: 0.3803, Accuracy: 0.8563\n",
            "Evaluating at step 1340\n",
            "Validation Loss: 0.3464, Accuracy: 0.8620\n",
            "Evaluating at step 1360\n",
            "Validation Loss: 0.3738, Accuracy: 0.8585\n",
            "Evaluating at step 1380\n",
            "Validation Loss: 0.4080, Accuracy: 0.8380\n",
            "Evaluating at step 1400\n",
            "Validation Loss: 0.3619, Accuracy: 0.8732\n",
            "Evaluating at step 1420\n",
            "Validation Loss: 0.3673, Accuracy: 0.8592\n",
            "Evaluating at step 1440\n",
            "Validation Loss: 0.3088, Accuracy: 0.8824\n",
            "Evaluating at step 1460\n",
            "Validation Loss: 0.3396, Accuracy: 0.8761\n",
            "Evaluating at step 1480\n",
            "Validation Loss: 0.3482, Accuracy: 0.8683\n",
            "Evaluating at step 1500\n",
            "Validation Loss: 0.4379, Accuracy: 0.8387\n",
            "Evaluating at step 1520\n",
            "Validation Loss: 0.3208, Accuracy: 0.8732\n",
            "Evaluating at step 1540\n",
            "Validation Loss: 0.3708, Accuracy: 0.8634\n",
            "Evaluating at step 1560\n",
            "Validation Loss: 0.4131, Accuracy: 0.8408\n",
            "Evaluating at step 1580\n",
            "Validation Loss: 0.3303, Accuracy: 0.8901\n",
            "Evaluating at step 1600\n",
            "Validation Loss: 0.3837, Accuracy: 0.8585\n",
            "Evaluating at step 1620\n",
            "Validation Loss: 0.3172, Accuracy: 0.8831\n",
            "Evaluating at step 1640\n",
            "Validation Loss: 0.3303, Accuracy: 0.8676\n",
            "Evaluating at step 1660\n",
            "Validation Loss: 0.3691, Accuracy: 0.8577\n",
            "Evaluating at step 1680\n",
            "Validation Loss: 0.3587, Accuracy: 0.8556\n",
            "Evaluating at step 1700\n",
            "Validation Loss: 0.3340, Accuracy: 0.8754\n",
            "Evaluating at step 1720\n",
            "Validation Loss: 0.3401, Accuracy: 0.8754\n",
            "Evaluating at step 1740\n",
            "Validation Loss: 0.3678, Accuracy: 0.8570\n",
            "Evaluating at step 1760\n",
            "Validation Loss: 0.3739, Accuracy: 0.8549\n",
            "Evaluating at step 1780\n",
            "Validation Loss: 0.3654, Accuracy: 0.8570\n",
            "Evaluating at step 1800\n",
            "Validation Loss: 0.3240, Accuracy: 0.8810\n",
            "Evaluating at step 1820\n",
            "Validation Loss: 0.3313, Accuracy: 0.8761\n",
            "Evaluating at step 1840\n",
            "Validation Loss: 0.3407, Accuracy: 0.8761\n",
            "Evaluating at step 1860\n",
            "Validation Loss: 0.2868, Accuracy: 0.8965\n",
            "Evaluating at step 1880\n",
            "Validation Loss: 0.3344, Accuracy: 0.8746\n",
            "Evaluating at step 1900\n",
            "Validation Loss: 0.3119, Accuracy: 0.8831\n",
            "Evaluating at step 1920\n",
            "Validation Loss: 0.3097, Accuracy: 0.8824\n",
            "Evaluating at step 1940\n",
            "Validation Loss: 0.3339, Accuracy: 0.8606\n",
            "Evaluating at step 1960\n",
            "Validation Loss: 0.3699, Accuracy: 0.8648\n",
            "Evaluating at step 1980\n",
            "Validation Loss: 0.3765, Accuracy: 0.8514\n",
            "Evaluating at step 2000\n",
            "Validation Loss: 0.3201, Accuracy: 0.8852\n",
            "Evaluating at step 2020\n",
            "Validation Loss: 0.3161, Accuracy: 0.8817\n",
            "Evaluating at step 2040\n",
            "Validation Loss: 0.3140, Accuracy: 0.8732\n",
            "Evaluating at step 2060\n",
            "Validation Loss: 0.2972, Accuracy: 0.8859\n",
            "Evaluating at step 2080\n",
            "Validation Loss: 0.3234, Accuracy: 0.8704\n",
            "Evaluating at step 2100\n",
            "Validation Loss: 0.4000, Accuracy: 0.8528\n",
            "Evaluating at step 2120\n",
            "Validation Loss: 0.3796, Accuracy: 0.8662\n",
            "Training Loss: 0.0017\n",
            "Training complete..\n",
            "CPU times: user 1h 34min 14s, sys: 3min 3s, total: 1h 37min 18s\n",
            "Wall time: 1h 37min 31s\n"
          ],
          "name": "stdout"
        }
      ]
    },
    {
      "cell_type": "code",
      "metadata": {
        "id": "-TB3ubAvSqM9"
      },
      "source": [
        "torch.save(model_VGG.state_dict(), '/tmp/COVID-19_Radiography_Dataset/my_VGG.pth')"
      ],
      "id": "-TB3ubAvSqM9",
      "execution_count": null,
      "outputs": []
    },
    {
      "cell_type": "code",
      "metadata": {
        "colab": {
          "base_uri": "https://localhost:8080/",
          "height": 530
        },
        "id": "bz5sTq-rGv7Y",
        "outputId": "2fcc7ba7-7445-47c0-fb94-4b9ee9ac8b31"
      },
      "source": [
        "## Plot performance figure\n",
        "#fig, axes = plt.subplots(1, 1, constrained_layout=True)\n",
        "fig, axs = plt.subplots(figsize=(8,8))\n",
        "\n",
        "plt.plot(history['train_loss'][:100],'b-',label='Train loss')\n",
        "plt.plot(history['val_loss'][:100],'r-',label='Val loss')\n",
        "#axes[0].plot([20*x for x in range(25)],history['train_loss'][:25])\n",
        "plt.title('Validation test')\n",
        "plt.ylabel('loss')\n",
        "plt.xlabel('step')\n",
        "plt.grid()\n",
        "plt.legend()\n",
        "#axs.set_ylim([0, 3])\n",
        "#axes[0].legend(['train', 'test'], loc='best')"
      ],
      "id": "bz5sTq-rGv7Y",
      "execution_count": null,
      "outputs": [
        {
          "output_type": "execute_result",
          "data": {
            "text/plain": [
              "<matplotlib.legend.Legend at 0x7ff0e1b9d750>"
            ]
          },
          "metadata": {
            "tags": []
          },
          "execution_count": 49
        },
        {
          "output_type": "display_data",
          "data": {
            "image/png": "[encoded data removed]",
            "text/plain": [
              "<Figure size 576x576 with 1 Axes>"
            ]
          },
          "metadata": {
            "tags": [],
            "needs_background": "light"
          }
        }
      ]
    },
    {
      "cell_type": "code",
      "metadata": {
        "colab": {
          "base_uri": "https://localhost:8080/",
          "height": 282
        },
        "id": "tX18Isd6GzyZ",
        "outputId": "c48913a3-3732-47ed-93b5-c8eb712ef6a2"
      },
      "source": [
        "from sklearn.metrics import confusion_matrix\n",
        "\n",
        "# Initialize the prediction and label lists(tensors)\n",
        "predlist=torch.zeros(0,dtype=torch.long)\n",
        "lbllist=torch.zeros(0,dtype=torch.long)\n",
        "\n",
        "model_VGG.eval()\n",
        "for val_step, (images, labels) in enumerate(dl_test):\n",
        "  images = images.to(device)\n",
        "  labels = labels.to(device)\n",
        "  outputs = model_VGG(images)\n",
        "\n",
        "  _, preds = torch.max(outputs, 1)\n",
        "  \n",
        "  # Append batch prediction results\n",
        "  predlist=torch.cat([predlist,preds.view(-1).cpu()])\n",
        "  lbllist=torch.cat([lbllist,labels.view(-1).cpu()])\n",
        "\n",
        "conf_mat=confusion_matrix(lbllist.numpy(), predlist.numpy())\n",
        "#print(conf_mat)\n",
        "import seaborn as sns\n",
        "import pandas as pd\n",
        "df_cm = pd.DataFrame(conf_mat, index = class_names,\n",
        "                  columns = class_names)\n",
        "sns.heatmap(df_cm, annot=True,cmap='Blues',fmt=\".0f\")"
      ],
      "id": "tX18Isd6GzyZ",
      "execution_count": null,
      "outputs": [
        {
          "output_type": "execute_result",
          "data": {
            "text/plain": [
              "<matplotlib.axes._subplots.AxesSubplot at 0x7ff0e1a792d0>"
            ]
          },
          "metadata": {
            "tags": []
          },
          "execution_count": 50
        },
        {
          "output_type": "display_data",
          "data": {
            "image/png": "[encoded data removed]",
            "text/plain": [
              "<Figure size 432x288 with 2 Axes>"
            ]
          },
          "metadata": {
            "tags": [],
            "needs_background": "light"
          }
        }
      ]
    },
    {
      "cell_type": "code",
      "metadata": {
        "colab": {
          "base_uri": "https://localhost:8080/",
          "height": 417
        },
        "id": "Q8YK-jKtHDjf",
        "outputId": "c29fd0fb-01d7-4cfc-dbf9-f42533389ca8"
      },
      "source": [
        "pd.DataFrame(lbllist.numpy(),predlist.numpy())"
      ],
      "id": "Q8YK-jKtHDjf",
      "execution_count": null,
      "outputs": [
        {
          "output_type": "execute_result",
          "data": {
            "text/html": [
              "<div>\n",
              "<style scoped>\n",
              "    .dataframe tbody tr th:only-of-type {\n",
              "        vertical-align: middle;\n",
              "    }\n",
              "\n",
              "    .dataframe tbody tr th {\n",
              "        vertical-align: top;\n",
              "    }\n",
              "\n",
              "    .dataframe thead th {\n",
              "        text-align: right;\n",
              "    }\n",
              "</style>\n",
              "<table border=\"1\" class=\"dataframe\">\n",
              "  <thead>\n",
              "    <tr style=\"text-align: right;\">\n",
              "      <th></th>\n",
              "      <th>0</th>\n",
              "    </tr>\n",
              "  </thead>\n",
              "  <tbody>\n",
              "    <tr>\n",
              "      <th>1</th>\n",
              "      <td>1</td>\n",
              "    </tr>\n",
              "    <tr>\n",
              "      <th>1</th>\n",
              "      <td>1</td>\n",
              "    </tr>\n",
              "    <tr>\n",
              "      <th>2</th>\n",
              "      <td>2</td>\n",
              "    </tr>\n",
              "    <tr>\n",
              "      <th>3</th>\n",
              "      <td>2</td>\n",
              "    </tr>\n",
              "    <tr>\n",
              "      <th>0</th>\n",
              "      <td>0</td>\n",
              "    </tr>\n",
              "    <tr>\n",
              "      <th>...</th>\n",
              "      <td>...</td>\n",
              "    </tr>\n",
              "    <tr>\n",
              "      <th>3</th>\n",
              "      <td>3</td>\n",
              "    </tr>\n",
              "    <tr>\n",
              "      <th>0</th>\n",
              "      <td>0</td>\n",
              "    </tr>\n",
              "    <tr>\n",
              "      <th>0</th>\n",
              "      <td>0</td>\n",
              "    </tr>\n",
              "    <tr>\n",
              "      <th>1</th>\n",
              "      <td>1</td>\n",
              "    </tr>\n",
              "    <tr>\n",
              "      <th>0</th>\n",
              "      <td>0</td>\n",
              "    </tr>\n",
              "  </tbody>\n",
              "</table>\n",
              "<p>1420 rows × 1 columns</p>\n",
              "</div>"
            ],
            "text/plain": [
              "    0\n",
              "1   1\n",
              "1   1\n",
              "2   2\n",
              "3   2\n",
              "0   0\n",
              ".. ..\n",
              "3   3\n",
              "0   0\n",
              "0   0\n",
              "1   1\n",
              "0   0\n",
              "\n",
              "[1420 rows x 1 columns]"
            ]
          },
          "metadata": {
            "tags": []
          },
          "execution_count": 55
        }
      ]
    },
    {
      "cell_type": "code",
      "metadata": {
        "colab": {
          "base_uri": "https://localhost:8080/"
        },
        "id": "Z6ZBM4FiHI5K",
        "outputId": "2550ddd3-0805-4b6b-8568-0d4241bcd920"
      },
      "source": [
        "from sklearn.metrics import precision_score\n",
        "precision_score(lbllist.numpy(),predlist.numpy(),average=None)"
      ],
      "id": "Z6ZBM4FiHI5K",
      "execution_count": null,
      "outputs": [
        {
          "output_type": "execute_result",
          "data": {
            "text/plain": [
              "array([0.79701493, 0.94535519, 0.87305699, 0.86786787])"
            ]
          },
          "metadata": {
            "tags": []
          },
          "execution_count": 57
        }
      ]
    },
    {
      "cell_type": "code",
      "metadata": {
        "colab": {
          "base_uri": "https://localhost:8080/"
        },
        "id": "aUNqgbuVHwZy",
        "outputId": "085e3d64-a822-401e-f099-a1650852fc24"
      },
      "source": [
        "from sklearn.metrics import accuracy_score\n",
        "accuracy_score(lbllist.numpy(),predlist.numpy())"
      ],
      "id": "aUNqgbuVHwZy",
      "execution_count": null,
      "outputs": [
        {
          "output_type": "execute_result",
          "data": {
            "text/plain": [
              "0.8725352112676056"
            ]
          },
          "metadata": {
            "tags": []
          },
          "execution_count": 59
        }
      ]
    },
    {
      "cell_type": "code",
      "metadata": {
        "colab": {
          "base_uri": "https://localhost:8080/"
        },
        "id": "YDwKni_UIbgm",
        "outputId": "44f27e7e-9669-4ea0-cd75-8d14ef9715b7"
      },
      "source": [
        "from sklearn.metrics import classification_report\n",
        "print(classification_report(lbllist.numpy(),predlist.numpy(), target_names=class_names))"
      ],
      "id": "YDwKni_UIbgm",
      "execution_count": null,
      "outputs": [
        {
          "output_type": "stream",
          "text": [
            "              precision    recall  f1-score   support\n",
            "\n",
            "      normal       0.80      0.79      0.79       337\n",
            "       viral       0.95      0.97      0.96       358\n",
            "       covid       0.87      0.90      0.88       376\n",
            "     opacity       0.87      0.83      0.85       349\n",
            "\n",
            "    accuracy                           0.87      1420\n",
            "   macro avg       0.87      0.87      0.87      1420\n",
            "weighted avg       0.87      0.87      0.87      1420\n",
            "\n"
          ],
          "name": "stdout"
        }
      ]
    },
    {
      "cell_type": "code",
      "metadata": {
        "id": "dTFJXh6KIrNK"
      },
      "source": [
        ""
      ],
      "id": "dTFJXh6KIrNK",
      "execution_count": null,
      "outputs": []
    }
  ]
}
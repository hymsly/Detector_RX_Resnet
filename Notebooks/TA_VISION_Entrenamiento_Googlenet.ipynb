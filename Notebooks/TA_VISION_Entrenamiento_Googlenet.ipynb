{
  "nbformat": 4,
  "nbformat_minor": 5,
  "metadata": {
    "kernelspec": {
      "display_name": "Python 3",
      "language": "python",
      "name": "python3"
    },
    "language_info": {
      "codemirror_mode": {
        "name": "ipython",
        "version": 3
      },
      "file_extension": ".py",
      "mimetype": "text/x-python",
      "name": "python",
      "nbconvert_exporter": "python",
      "pygments_lexer": "ipython3",
      "version": "3.7.10"
    },
    "colab": {
      "name": "TA_VISION_Entrenamiento_Googlenet.ipynb",
      "provenance": [],
      "collapsed_sections": []
    },
    "widgets": {
      "application/vnd.jupyter.widget-state+json": {
        "7aaaaf1996874360ae5995f63bfed952": {
          "model_module": "@jupyter-widgets/controls",
          "model_name": "HBoxModel",
          "state": {
            "_view_name": "HBoxView",
            "_dom_classes": [],
            "_model_name": "HBoxModel",
            "_view_module": "@jupyter-widgets/controls",
            "_model_module_version": "1.5.0",
            "_view_count": null,
            "_view_module_version": "1.5.0",
            "box_style": "",
            "layout": "IPY_MODEL_232dda909f554200b3b51d938cc00ef0",
            "_model_module": "@jupyter-widgets/controls",
            "children": [
              "IPY_MODEL_91c97e78cd95472abc1ba59d3eb4818f",
              "IPY_MODEL_30b220dd5a62441181b57948198dcafd"
            ]
          }
        },
        "232dda909f554200b3b51d938cc00ef0": {
          "model_module": "@jupyter-widgets/base",
          "model_name": "LayoutModel",
          "state": {
            "_view_name": "LayoutView",
            "grid_template_rows": null,
            "right": null,
            "justify_content": null,
            "_view_module": "@jupyter-widgets/base",
            "overflow": null,
            "_model_module_version": "1.2.0",
            "_view_count": null,
            "flex_flow": null,
            "width": null,
            "min_width": null,
            "border": null,
            "align_items": null,
            "bottom": null,
            "_model_module": "@jupyter-widgets/base",
            "top": null,
            "grid_column": null,
            "overflow_y": null,
            "overflow_x": null,
            "grid_auto_flow": null,
            "grid_area": null,
            "grid_template_columns": null,
            "flex": null,
            "_model_name": "LayoutModel",
            "justify_items": null,
            "grid_row": null,
            "max_height": null,
            "align_content": null,
            "visibility": null,
            "align_self": null,
            "height": null,
            "min_height": null,
            "padding": null,
            "grid_auto_rows": null,
            "grid_gap": null,
            "max_width": null,
            "order": null,
            "_view_module_version": "1.2.0",
            "grid_template_areas": null,
            "object_position": null,
            "object_fit": null,
            "grid_auto_columns": null,
            "margin": null,
            "display": null,
            "left": null
          }
        },
        "91c97e78cd95472abc1ba59d3eb4818f": {
          "model_module": "@jupyter-widgets/controls",
          "model_name": "FloatProgressModel",
          "state": {
            "_view_name": "ProgressView",
            "style": "IPY_MODEL_c5db1c36ab634f6980c2edcd836e9f9e",
            "_dom_classes": [],
            "description": "100%",
            "_model_name": "FloatProgressModel",
            "bar_style": "success",
            "max": 52147035,
            "_view_module": "@jupyter-widgets/controls",
            "_model_module_version": "1.5.0",
            "value": 52147035,
            "_view_count": null,
            "_view_module_version": "1.5.0",
            "orientation": "horizontal",
            "min": 0,
            "description_tooltip": null,
            "_model_module": "@jupyter-widgets/controls",
            "layout": "IPY_MODEL_aefe03ca388f4ecf93125194dd30cf44"
          }
        },
        "30b220dd5a62441181b57948198dcafd": {
          "model_module": "@jupyter-widgets/controls",
          "model_name": "HTMLModel",
          "state": {
            "_view_name": "HTMLView",
            "style": "IPY_MODEL_8845d69020dd45058639facddab87e1f",
            "_dom_classes": [],
            "description": "",
            "_model_name": "HTMLModel",
            "placeholder": "​",
            "_view_module": "@jupyter-widgets/controls",
            "_model_module_version": "1.5.0",
            "value": " 49.7M/49.7M [00:01&lt;00:00, 31.8MB/s]",
            "_view_count": null,
            "_view_module_version": "1.5.0",
            "description_tooltip": null,
            "_model_module": "@jupyter-widgets/controls",
            "layout": "IPY_MODEL_6948f7476dfd4dd5b94e510e479510a5"
          }
        },
        "c5db1c36ab634f6980c2edcd836e9f9e": {
          "model_module": "@jupyter-widgets/controls",
          "model_name": "ProgressStyleModel",
          "state": {
            "_view_name": "StyleView",
            "_model_name": "ProgressStyleModel",
            "description_width": "initial",
            "_view_module": "@jupyter-widgets/base",
            "_model_module_version": "1.5.0",
            "_view_count": null,
            "_view_module_version": "1.2.0",
            "bar_color": null,
            "_model_module": "@jupyter-widgets/controls"
          }
        },
        "aefe03ca388f4ecf93125194dd30cf44": {
          "model_module": "@jupyter-widgets/base",
          "model_name": "LayoutModel",
          "state": {
            "_view_name": "LayoutView",
            "grid_template_rows": null,
            "right": null,
            "justify_content": null,
            "_view_module": "@jupyter-widgets/base",
            "overflow": null,
            "_model_module_version": "1.2.0",
            "_view_count": null,
            "flex_flow": null,
            "width": null,
            "min_width": null,
            "border": null,
            "align_items": null,
            "bottom": null,
            "_model_module": "@jupyter-widgets/base",
            "top": null,
            "grid_column": null,
            "overflow_y": null,
            "overflow_x": null,
            "grid_auto_flow": null,
            "grid_area": null,
            "grid_template_columns": null,
            "flex": null,
            "_model_name": "LayoutModel",
            "justify_items": null,
            "grid_row": null,
            "max_height": null,
            "align_content": null,
            "visibility": null,
            "align_self": null,
            "height": null,
            "min_height": null,
            "padding": null,
            "grid_auto_rows": null,
            "grid_gap": null,
            "max_width": null,
            "order": null,
            "_view_module_version": "1.2.0",
            "grid_template_areas": null,
            "object_position": null,
            "object_fit": null,
            "grid_auto_columns": null,
            "margin": null,
            "display": null,
            "left": null
          }
        },
        "8845d69020dd45058639facddab87e1f": {
          "model_module": "@jupyter-widgets/controls",
          "model_name": "DescriptionStyleModel",
          "state": {
            "_view_name": "StyleView",
            "_model_name": "DescriptionStyleModel",
            "description_width": "",
            "_view_module": "@jupyter-widgets/base",
            "_model_module_version": "1.5.0",
            "_view_count": null,
            "_view_module_version": "1.2.0",
            "_model_module": "@jupyter-widgets/controls"
          }
        },
        "6948f7476dfd4dd5b94e510e479510a5": {
          "model_module": "@jupyter-widgets/base",
          "model_name": "LayoutModel",
          "state": {
            "_view_name": "LayoutView",
            "grid_template_rows": null,
            "right": null,
            "justify_content": null,
            "_view_module": "@jupyter-widgets/base",
            "overflow": null,
            "_model_module_version": "1.2.0",
            "_view_count": null,
            "flex_flow": null,
            "width": null,
            "min_width": null,
            "border": null,
            "align_items": null,
            "bottom": null,
            "_model_module": "@jupyter-widgets/base",
            "top": null,
            "grid_column": null,
            "overflow_y": null,
            "overflow_x": null,
            "grid_auto_flow": null,
            "grid_area": null,
            "grid_template_columns": null,
            "flex": null,
            "_model_name": "LayoutModel",
            "justify_items": null,
            "grid_row": null,
            "max_height": null,
            "align_content": null,
            "visibility": null,
            "align_self": null,
            "height": null,
            "min_height": null,
            "padding": null,
            "grid_auto_rows": null,
            "grid_gap": null,
            "max_width": null,
            "order": null,
            "_view_module_version": "1.2.0",
            "grid_template_areas": null,
            "object_position": null,
            "object_fit": null,
            "grid_auto_columns": null,
            "margin": null,
            "display": null,
            "left": null
          }
        }
      }
    },
    "accelerator": "GPU"
  },
  "cells": [
    {
      "cell_type": "code",
      "metadata": {
        "colab": {
          "base_uri": "https://localhost:8080/"
        },
        "id": "aquatic-surfing",
        "outputId": "56c5a3d5-ee61-4357-a5c9-05be483a53d9"
      },
      "source": [
        "from matplotlib import pyplot as plt\n",
        "from PIL import Image\n",
        "import torchvision\n",
        "import numpy as np\n",
        "import shutil\n",
        "import random\n",
        "import torch\n",
        "import os\n",
        "\n",
        "%matplotlib inline\n",
        "\n",
        "torch.manual_seed(0)\n",
        "\n",
        "print('Using PyTorch version', torch.__version__)"
      ],
      "id": "aquatic-surfing",
      "execution_count": 1,
      "outputs": [
        {
          "output_type": "stream",
          "text": [
            "Using PyTorch version 1.9.0+cu102\n"
          ],
          "name": "stdout"
        }
      ]
    },
    {
      "cell_type": "code",
      "metadata": {
        "id": "sapphire-blogger"
      },
      "source": [
        "import pandas as pd"
      ],
      "id": "sapphire-blogger",
      "execution_count": 2,
      "outputs": []
    },
    {
      "cell_type": "code",
      "metadata": {
        "id": "understood-saver"
      },
      "source": [
        "import random\n",
        "import glob # borrar ficheros con patrones\n",
        "import shutil #copiar ficheros"
      ],
      "id": "understood-saver",
      "execution_count": 3,
      "outputs": []
    },
    {
      "cell_type": "code",
      "metadata": {
        "id": "secondary-transparency"
      },
      "source": [
        "from sklearn.model_selection import StratifiedShuffleSplit #para realizar el muestre"
      ],
      "id": "secondary-transparency",
      "execution_count": 4,
      "outputs": []
    },
    {
      "cell_type": "code",
      "metadata": {
        "colab": {
          "base_uri": "https://localhost:8080/"
        },
        "id": "arabic-picture",
        "outputId": "372f4597-1426-4a64-e3ee-5be9e15339df"
      },
      "source": [
        "!wget --no-check-certificate \\\n",
        "    https://www.recod.ic.unicamp.br/~aurea.soriano/dataset/covid19.zip \\\n",
        "    -O /tmp/covid19.zip"
      ],
      "id": "arabic-picture",
      "execution_count": 5,
      "outputs": [
        {
          "output_type": "stream",
          "text": [
            "--2021-08-08 00:37:53--  https://www.recod.ic.unicamp.br/~aurea.soriano/dataset/covid19.zip\n",
            "Resolving www.recod.ic.unicamp.br (www.recod.ic.unicamp.br)... 143.106.7.142\n",
            "Connecting to www.recod.ic.unicamp.br (www.recod.ic.unicamp.br)|143.106.7.142|:443... connected.\n",
            "HTTP request sent, awaiting response... 302 Moved Temporarily\n",
            "Location: http://intranet.recod.ic.unicamp.br/~aurea.soriano/dataset/covid19.zip [following]\n",
            "--2021-08-08 00:37:54--  http://intranet.recod.ic.unicamp.br/~aurea.soriano/dataset/covid19.zip\n",
            "Resolving intranet.recod.ic.unicamp.br (intranet.recod.ic.unicamp.br)... 143.106.7.151\n",
            "Connecting to intranet.recod.ic.unicamp.br (intranet.recod.ic.unicamp.br)|143.106.7.151|:80... connected.\n",
            "HTTP request sent, awaiting response... 200 OK\n",
            "Length: 780769059 (745M) [application/zip]\n",
            "Saving to: ‘/tmp/covid19.zip’\n",
            "\n",
            "/tmp/covid19.zip    100%[===================>] 744.60M  8.66MB/s    in 3m 35s  \n",
            "\n",
            "2021-08-08 00:41:30 (3.46 MB/s) - ‘/tmp/covid19.zip’ saved [780769059/780769059]\n",
            "\n"
          ],
          "name": "stdout"
        }
      ]
    },
    {
      "cell_type": "code",
      "metadata": {
        "id": "pwRGkYukmm4T"
      },
      "source": [
        "import zipfile\n",
        "\n",
        "local_zip = '/tmp/covid19.zip'\n",
        "zip_ref = zipfile.ZipFile(local_zip, 'r')\n",
        "zip_ref.extractall('/tmp')\n",
        "zip_ref.close()"
      ],
      "id": "pwRGkYukmm4T",
      "execution_count": 6,
      "outputs": []
    },
    {
      "cell_type": "code",
      "metadata": {
        "colab": {
          "base_uri": "https://localhost:8080/"
        },
        "id": "3elrT_3cmiX2",
        "outputId": "22536211-9445-4490-8ceb-e665e9183516"
      },
      "source": [
        "#ruta donde se descomprimen los fichereros del dataset\n",
        "os.listdir(\"/tmp/COVID-19_Radiography_Dataset\")"
      ],
      "id": "3elrT_3cmiX2",
      "execution_count": 7,
      "outputs": [
        {
          "output_type": "execute_result",
          "data": {
            "text/plain": [
              "['Viral Pneumonia.metadata.xlsx',\n",
              " 'Normal.metadata.xlsx',\n",
              " 'README.md.txt',\n",
              " 'Normal',\n",
              " 'COVID.metadata.xlsx',\n",
              " 'Lung_Opacity',\n",
              " 'Lung_Opacity.metadata.xlsx',\n",
              " 'Viral Pneumonia',\n",
              " 'COVID']"
            ]
          },
          "metadata": {
            "tags": []
          },
          "execution_count": 7
        }
      ]
    },
    {
      "cell_type": "code",
      "metadata": {
        "id": "burning-state"
      },
      "source": [
        "#removemos los ficheros que no usaremos \n",
        "py_files = glob.glob('/tmp/COVID-19_Radiography_Dataset/*.*')\n",
        "for py_file in py_files:\n",
        "    try:\n",
        "        os.remove(py_file)\n",
        "    except OSError as e:\n",
        "        print(f\"Error:{ e.strerror}\")"
      ],
      "id": "burning-state",
      "execution_count": 8,
      "outputs": []
    },
    {
      "cell_type": "code",
      "metadata": {
        "colab": {
          "base_uri": "https://localhost:8080/"
        },
        "id": "stone-tourism",
        "outputId": "cfa84aab-fef0-4790-f19c-ae663cf8b9ab"
      },
      "source": [
        "root_dir    = '/tmp/COVID-19_Radiography_Dataset' #directorio origen\n",
        "\n",
        "os.listdir(root_dir)"
      ],
      "id": "stone-tourism",
      "execution_count": 9,
      "outputs": [
        {
          "output_type": "execute_result",
          "data": {
            "text/plain": [
              "['Normal', 'Lung_Opacity', 'Viral Pneumonia', 'COVID']"
            ]
          },
          "metadata": {
            "tags": []
          },
          "execution_count": 9
        }
      ]
    },
    {
      "cell_type": "code",
      "metadata": {
        "id": "musical-split"
      },
      "source": [
        "class_names = ['normal','opacity', 'viral', 'covid']\n",
        "source_dirs = ['Normal','Lung_Opacity','Viral Pneumonia', 'COVID']"
      ],
      "id": "musical-split",
      "execution_count": 10,
      "outputs": []
    },
    {
      "cell_type": "code",
      "metadata": {
        "id": "intense-acoustic"
      },
      "source": [
        "#se cambia el nombre de las carpetas\n",
        "for i, d in enumerate(source_dirs):\n",
        "    os.rename(os.path.join(root_dir, d), os.path.join(root_dir, class_names[i]))"
      ],
      "id": "intense-acoustic",
      "execution_count": 11,
      "outputs": []
    },
    {
      "cell_type": "code",
      "metadata": {
        "colab": {
          "base_uri": "https://localhost:8080/"
        },
        "id": "foster-suite",
        "outputId": "dc124b14-f306-4b70-b342-b55f56f3b1ba"
      },
      "source": [
        "os.listdir(root_dir)"
      ],
      "id": "foster-suite",
      "execution_count": 12,
      "outputs": [
        {
          "output_type": "execute_result",
          "data": {
            "text/plain": [
              "['normal', 'opacity', 'covid', 'viral']"
            ]
          },
          "metadata": {
            "tags": []
          },
          "execution_count": 12
        }
      ]
    },
    {
      "cell_type": "code",
      "metadata": {
        "id": "efficient-richardson"
      },
      "source": [
        "#dataframe de las imagenes y clases\n",
        "list_files=[]\n",
        "for dir in os.listdir(root_dir):\n",
        "  directory = os.path.join(root_dir,dir) # directorios de las clases\n",
        "  if os.path.isdir(directory):\n",
        "    for img in os.listdir(directory):\n",
        "      list_files.append([os.path.join(dir,img),dir]) #lista de todos los ficheros de cada directorio\n",
        "df = pd.DataFrame(list_files, columns=['id','clase'])"
      ],
      "id": "efficient-richardson",
      "execution_count": 13,
      "outputs": []
    },
    {
      "cell_type": "code",
      "metadata": {
        "colab": {
          "base_uri": "https://localhost:8080/",
          "height": 414
        },
        "id": "representative-render",
        "outputId": "98a45c53-aafa-4d59-954b-1a3819c9ac57"
      },
      "source": [
        "df"
      ],
      "id": "representative-render",
      "execution_count": null,
      "outputs": [
        {
          "output_type": "execute_result",
          "data": {
            "text/html": [
              "<div>\n",
              "<style scoped>\n",
              "    .dataframe tbody tr th:only-of-type {\n",
              "        vertical-align: middle;\n",
              "    }\n",
              "\n",
              "    .dataframe tbody tr th {\n",
              "        vertical-align: top;\n",
              "    }\n",
              "\n",
              "    .dataframe thead th {\n",
              "        text-align: right;\n",
              "    }\n",
              "</style>\n",
              "<table border=\"1\" class=\"dataframe\">\n",
              "  <thead>\n",
              "    <tr style=\"text-align: right;\">\n",
              "      <th></th>\n",
              "      <th>id</th>\n",
              "      <th>clase</th>\n",
              "    </tr>\n",
              "  </thead>\n",
              "  <tbody>\n",
              "    <tr>\n",
              "      <th>0</th>\n",
              "      <td>opacity/Lung_Opacity-4965.png</td>\n",
              "      <td>opacity</td>\n",
              "    </tr>\n",
              "    <tr>\n",
              "      <th>1</th>\n",
              "      <td>opacity/Lung_Opacity-166.png</td>\n",
              "      <td>opacity</td>\n",
              "    </tr>\n",
              "    <tr>\n",
              "      <th>2</th>\n",
              "      <td>opacity/Lung_Opacity-3229.png</td>\n",
              "      <td>opacity</td>\n",
              "    </tr>\n",
              "    <tr>\n",
              "      <th>3</th>\n",
              "      <td>opacity/Lung_Opacity-1.png</td>\n",
              "      <td>opacity</td>\n",
              "    </tr>\n",
              "    <tr>\n",
              "      <th>4</th>\n",
              "      <td>opacity/Lung_Opacity-1440.png</td>\n",
              "      <td>opacity</td>\n",
              "    </tr>\n",
              "    <tr>\n",
              "      <th>...</th>\n",
              "      <td>...</td>\n",
              "      <td>...</td>\n",
              "    </tr>\n",
              "    <tr>\n",
              "      <th>21160</th>\n",
              "      <td>viral/Viral Pneumonia-643.png</td>\n",
              "      <td>viral</td>\n",
              "    </tr>\n",
              "    <tr>\n",
              "      <th>21161</th>\n",
              "      <td>viral/Viral Pneumonia-212.png</td>\n",
              "      <td>viral</td>\n",
              "    </tr>\n",
              "    <tr>\n",
              "      <th>21162</th>\n",
              "      <td>viral/Viral Pneumonia-953.png</td>\n",
              "      <td>viral</td>\n",
              "    </tr>\n",
              "    <tr>\n",
              "      <th>21163</th>\n",
              "      <td>viral/Viral Pneumonia-151.png</td>\n",
              "      <td>viral</td>\n",
              "    </tr>\n",
              "    <tr>\n",
              "      <th>21164</th>\n",
              "      <td>viral/Viral Pneumonia-1259.png</td>\n",
              "      <td>viral</td>\n",
              "    </tr>\n",
              "  </tbody>\n",
              "</table>\n",
              "<p>21165 rows × 2 columns</p>\n",
              "</div>"
            ],
            "text/plain": [
              "                                   id    clase\n",
              "0       opacity/Lung_Opacity-4965.png  opacity\n",
              "1        opacity/Lung_Opacity-166.png  opacity\n",
              "2       opacity/Lung_Opacity-3229.png  opacity\n",
              "3          opacity/Lung_Opacity-1.png  opacity\n",
              "4       opacity/Lung_Opacity-1440.png  opacity\n",
              "...                               ...      ...\n",
              "21160   viral/Viral Pneumonia-643.png    viral\n",
              "21161   viral/Viral Pneumonia-212.png    viral\n",
              "21162   viral/Viral Pneumonia-953.png    viral\n",
              "21163   viral/Viral Pneumonia-151.png    viral\n",
              "21164  viral/Viral Pneumonia-1259.png    viral\n",
              "\n",
              "[21165 rows x 2 columns]"
            ]
          },
          "metadata": {
            "tags": []
          },
          "execution_count": 14
        }
      ]
    },
    {
      "cell_type": "code",
      "metadata": {
        "colab": {
          "base_uri": "https://localhost:8080/",
          "height": 202
        },
        "id": "still-summit",
        "outputId": "3468bdc1-578a-42a0-8faf-c051b322655a"
      },
      "source": [
        "df.groupby(\"clase\").agg(frequency=(\"clase\", \"count\"))"
      ],
      "id": "still-summit",
      "execution_count": 14,
      "outputs": [
        {
          "output_type": "execute_result",
          "data": {
            "text/html": [
              "<div>\n",
              "<style scoped>\n",
              "    .dataframe tbody tr th:only-of-type {\n",
              "        vertical-align: middle;\n",
              "    }\n",
              "\n",
              "    .dataframe tbody tr th {\n",
              "        vertical-align: top;\n",
              "    }\n",
              "\n",
              "    .dataframe thead th {\n",
              "        text-align: right;\n",
              "    }\n",
              "</style>\n",
              "<table border=\"1\" class=\"dataframe\">\n",
              "  <thead>\n",
              "    <tr style=\"text-align: right;\">\n",
              "      <th></th>\n",
              "      <th>frequency</th>\n",
              "    </tr>\n",
              "    <tr>\n",
              "      <th>clase</th>\n",
              "      <th></th>\n",
              "    </tr>\n",
              "  </thead>\n",
              "  <tbody>\n",
              "    <tr>\n",
              "      <th>covid</th>\n",
              "      <td>3616</td>\n",
              "    </tr>\n",
              "    <tr>\n",
              "      <th>normal</th>\n",
              "      <td>10192</td>\n",
              "    </tr>\n",
              "    <tr>\n",
              "      <th>opacity</th>\n",
              "      <td>6012</td>\n",
              "    </tr>\n",
              "    <tr>\n",
              "      <th>viral</th>\n",
              "      <td>1345</td>\n",
              "    </tr>\n",
              "  </tbody>\n",
              "</table>\n",
              "</div>"
            ],
            "text/plain": [
              "         frequency\n",
              "clase             \n",
              "covid         3616\n",
              "normal       10192\n",
              "opacity       6012\n",
              "viral         1345"
            ]
          },
          "metadata": {
            "tags": []
          },
          "execution_count": 14
        }
      ]
    },
    {
      "cell_type": "code",
      "metadata": {
        "colab": {
          "base_uri": "https://localhost:8080/"
        },
        "id": "formed-permission",
        "outputId": "b0a7b16a-350d-485a-cffc-cb6b5118babd"
      },
      "source": [
        "df[\"clase\"].unique()"
      ],
      "id": "formed-permission",
      "execution_count": null,
      "outputs": [
        {
          "output_type": "execute_result",
          "data": {
            "text/plain": [
              "array(['normal', 'opacity', 'covid', 'viral'], dtype=object)"
            ]
          },
          "metadata": {
            "tags": []
          },
          "execution_count": 15
        }
      ]
    },
    {
      "cell_type": "code",
      "metadata": {
        "id": "affecting-shower"
      },
      "source": [
        "#Haremos un submuestreo a las clases con mas ejemplos que la clase COVID\n",
        "def balance_dataset(focus_class, df):\n",
        "  classes = df[\"clase\"].unique()\n",
        "  classes_df_list = []\n",
        "  focus_class_df = df[df[\"clase\"] == focus_class]\n",
        "  classes_df_list.append(focus_class_df)\n",
        "  count_focus_class = len(focus_class_df)\n",
        "  ##Dividimos por clases\n",
        "  for classe in classes:\n",
        "    class_df = df[df[\"clase\"] == classe]\n",
        "    count_class = len(class_df)\n",
        "    if classe == focus_class:\n",
        "      continue\n",
        "    if count_class > count_focus_class+1000:\n",
        "      class_df = class_df.sample(count_focus_class+1000)\n",
        "    classes_df_list.append(class_df)\n",
        "  df_under = pd.concat(classes_df_list, axis=0) \n",
        "  return df_under\n",
        "\n",
        "\n",
        "df = balance_dataset('covid',df)"
      ],
      "id": "affecting-shower",
      "execution_count": 15,
      "outputs": []
    },
    {
      "cell_type": "code",
      "metadata": {
        "id": "concrete-greece",
        "colab": {
          "base_uri": "https://localhost:8080/",
          "height": 202
        },
        "outputId": "58a72a2a-53cf-4711-a865-4d97e36b6bf2"
      },
      "source": [
        "df.groupby(\"clase\").agg(frequency=(\"clase\", \"count\"))"
      ],
      "id": "concrete-greece",
      "execution_count": 16,
      "outputs": [
        {
          "output_type": "execute_result",
          "data": {
            "text/html": [
              "<div>\n",
              "<style scoped>\n",
              "    .dataframe tbody tr th:only-of-type {\n",
              "        vertical-align: middle;\n",
              "    }\n",
              "\n",
              "    .dataframe tbody tr th {\n",
              "        vertical-align: top;\n",
              "    }\n",
              "\n",
              "    .dataframe thead th {\n",
              "        text-align: right;\n",
              "    }\n",
              "</style>\n",
              "<table border=\"1\" class=\"dataframe\">\n",
              "  <thead>\n",
              "    <tr style=\"text-align: right;\">\n",
              "      <th></th>\n",
              "      <th>frequency</th>\n",
              "    </tr>\n",
              "    <tr>\n",
              "      <th>clase</th>\n",
              "      <th></th>\n",
              "    </tr>\n",
              "  </thead>\n",
              "  <tbody>\n",
              "    <tr>\n",
              "      <th>covid</th>\n",
              "      <td>3616</td>\n",
              "    </tr>\n",
              "    <tr>\n",
              "      <th>normal</th>\n",
              "      <td>4616</td>\n",
              "    </tr>\n",
              "    <tr>\n",
              "      <th>opacity</th>\n",
              "      <td>4616</td>\n",
              "    </tr>\n",
              "    <tr>\n",
              "      <th>viral</th>\n",
              "      <td>1345</td>\n",
              "    </tr>\n",
              "  </tbody>\n",
              "</table>\n",
              "</div>"
            ],
            "text/plain": [
              "         frequency\n",
              "clase             \n",
              "covid         3616\n",
              "normal        4616\n",
              "opacity       4616\n",
              "viral         1345"
            ]
          },
          "metadata": {
            "tags": []
          },
          "execution_count": 16
        }
      ]
    },
    {
      "cell_type": "code",
      "metadata": {
        "colab": {
          "base_uri": "https://localhost:8080/",
          "height": 35
        },
        "id": "periodic-guyana",
        "outputId": "5efee7f7-2794-427c-d582-ab56179c4647"
      },
      "source": [
        "root_dir"
      ],
      "id": "periodic-guyana",
      "execution_count": 17,
      "outputs": [
        {
          "output_type": "execute_result",
          "data": {
            "application/vnd.google.colaboratory.intrinsic+json": {
              "type": "string"
            },
            "text/plain": [
              "'/tmp/COVID-19_Radiography_Dataset'"
            ]
          },
          "metadata": {
            "tags": []
          },
          "execution_count": 17
        }
      ]
    },
    {
      "cell_type": "code",
      "metadata": {
        "id": "domestic-rental"
      },
      "source": [
        "os.mkdir(root_dir+\"/train\")\n",
        "os.mkdir(root_dir+\"/test\")\n",
        "\n",
        "\n",
        "os.mkdir(root_dir+\"/train/covid\")\n",
        "os.mkdir(root_dir+\"/test/covid\")\n",
        "\n",
        "os.mkdir(root_dir+\"/train/viral\")\n",
        "os.mkdir(root_dir+\"/test/viral\")\n",
        "\n",
        "os.mkdir(root_dir+\"/train/normal\")\n",
        "os.mkdir(root_dir+\"/test/normal\")\n",
        "\n",
        "os.mkdir(root_dir+\"/train/opacity\")\n",
        "os.mkdir(root_dir+\"/test/opacity\")\n"
      ],
      "id": "domestic-rental",
      "execution_count": 18,
      "outputs": []
    },
    {
      "cell_type": "code",
      "metadata": {
        "id": "reasonable-commander"
      },
      "source": [
        "#creamos la función que hará el split de nuestros conjuntos\n",
        "def split_dataset(df,test_size,random_state = 101):\n",
        "  sss = StratifiedShuffleSplit(n_splits=1, test_size=test_size, random_state=random_state)#se divide de forma stratificada\n",
        "  df = df.reset_index()\n",
        "  for train_index, test_index in sss.split(df['id'], df['clase']):\n",
        "    X_train, X_test = df['id'][train_index], df['id'][test_index]\n",
        "    y_train, y_test = df['clase'][train_index], df['clase'][test_index]\n",
        "  traindf = pd.concat([X_train, y_train], axis=1)\n",
        "  testdf = pd.concat([X_test, y_test], axis=1)\n",
        "  return traindf,testdf"
      ],
      "id": "reasonable-commander",
      "execution_count": 19,
      "outputs": []
    },
    {
      "cell_type": "code",
      "metadata": {
        "id": "finnish-latex"
      },
      "source": [
        "traindf,testdf = split_dataset(df,test_size = 0.10)"
      ],
      "id": "finnish-latex",
      "execution_count": 20,
      "outputs": []
    },
    {
      "cell_type": "code",
      "metadata": {
        "colab": {
          "base_uri": "https://localhost:8080/"
        },
        "id": "consecutive-centre",
        "outputId": "5917d1c6-a299-404d-ab49-bf983204fc57"
      },
      "source": [
        "print(traindf['clase'].value_counts())"
      ],
      "id": "consecutive-centre",
      "execution_count": 21,
      "outputs": [
        {
          "output_type": "stream",
          "text": [
            "normal     4154\n",
            "opacity    4154\n",
            "covid      3254\n",
            "viral      1211\n",
            "Name: clase, dtype: int64\n"
          ],
          "name": "stdout"
        }
      ]
    },
    {
      "cell_type": "code",
      "metadata": {
        "colab": {
          "base_uri": "https://localhost:8080/"
        },
        "id": "assured-lyric",
        "outputId": "8bc0216b-41d7-48de-f813-2c74dd5fd63b"
      },
      "source": [
        "print(testdf['clase'].value_counts())\n"
      ],
      "id": "assured-lyric",
      "execution_count": 22,
      "outputs": [
        {
          "output_type": "stream",
          "text": [
            "opacity    462\n",
            "normal     462\n",
            "covid      362\n",
            "viral      134\n",
            "Name: clase, dtype: int64\n"
          ],
          "name": "stdout"
        }
      ]
    },
    {
      "cell_type": "code",
      "metadata": {
        "colab": {
          "base_uri": "https://localhost:8080/"
        },
        "id": "collected-radiation",
        "outputId": "bc25d7a9-9c09-4e67-fb0d-f583c675e6d0"
      },
      "source": [
        "#visualizamos que todos nuestros conjuntos tienen imagenes diferentes entre ellos \n",
        "repetidos=pd.merge(traindf,testdf,how='left',on=['id'])\n",
        "print(repetidos['clase_y'].unique())\n"
      ],
      "id": "collected-radiation",
      "execution_count": 23,
      "outputs": [
        {
          "output_type": "stream",
          "text": [
            "[nan]\n"
          ],
          "name": "stdout"
        }
      ]
    },
    {
      "cell_type": "code",
      "metadata": {
        "id": "deluxe-equipment"
      },
      "source": [
        "for i in traindf.index:\n",
        "  shutil.copy(root_dir+\"/\"+traindf['id'][i],  root_dir+\"/train/\"+traindf['clase'][i])"
      ],
      "id": "deluxe-equipment",
      "execution_count": 24,
      "outputs": []
    },
    {
      "cell_type": "code",
      "metadata": {
        "id": "optical-dodge"
      },
      "source": [
        "for i in testdf.index:\n",
        "  shutil.copy(root_dir+\"/\"+testdf['id'][i],  root_dir+\"/test/\"+testdf['clase'][i])"
      ],
      "id": "optical-dodge",
      "execution_count": 25,
      "outputs": []
    },
    {
      "cell_type": "code",
      "metadata": {
        "colab": {
          "base_uri": "https://localhost:8080/"
        },
        "id": "racial-communication",
        "outputId": "20a9e581-a743-4e23-d81d-d761649ad9fd"
      },
      "source": [
        "#conteo de ficheros en la clase train\n",
        "tmp=0\n",
        "print(\"Cantidad de datos en Train\")\n",
        "for i in traindf[\"clase\"].unique():\n",
        "  train=len(os.listdir(\"/tmp/COVID-19_Radiography_Dataset/train/\"+i))\n",
        "  print(i,str(train))\n",
        "  tmp=tmp+train\n",
        "print(\"Ficheros en Train: \"+str(tmp))"
      ],
      "id": "racial-communication",
      "execution_count": 26,
      "outputs": [
        {
          "output_type": "stream",
          "text": [
            "Cantidad de datos en Train\n",
            "normal 4154\n",
            "covid 3254\n",
            "opacity 4154\n",
            "viral 1211\n",
            "Ficheros en Train: 12773\n"
          ],
          "name": "stdout"
        }
      ]
    },
    {
      "cell_type": "code",
      "metadata": {
        "colab": {
          "base_uri": "https://localhost:8080/"
        },
        "id": "peaceful-discretion",
        "outputId": "aa69614c-42ba-441f-f957-ef850a1c608d"
      },
      "source": [
        "#conteo de ficheros en la clase test\n",
        "tmp=0\n",
        "print(\"Cantidad de ficheros en Test\")\n",
        "for i in testdf[\"clase\"].unique():\n",
        "  test=len(os.listdir(\"/tmp/COVID-19_Radiography_Dataset/test/\"+i))\n",
        "  print(i,str(test))\n",
        "  tmp=tmp+test\n",
        "print(\"ficheros en Test \"+str(tmp))"
      ],
      "id": "peaceful-discretion",
      "execution_count": 27,
      "outputs": [
        {
          "output_type": "stream",
          "text": [
            "Cantidad de ficheros en Test\n",
            "viral 134\n",
            "opacity 462\n",
            "normal 462\n",
            "covid 362\n",
            "ficheros en Test 1420\n"
          ],
          "name": "stdout"
        }
      ]
    },
    {
      "cell_type": "markdown",
      "metadata": {
        "id": "amazing-voluntary"
      },
      "source": [
        "# Creating Custom Dataset"
      ],
      "id": "amazing-voluntary"
    },
    {
      "cell_type": "code",
      "metadata": {
        "id": "postal-tumor"
      },
      "source": [
        "class ChestXRayDataset(torch.utils.data.Dataset):\n",
        "    def __init__(self, image_dirs, transform):\n",
        "        def get_images(class_name): #Verificar se o aquivo realmente é imagem 'png'\n",
        "            images = [x for x in os.listdir(image_dirs[class_name]) if x.lower().endswith('png')] \n",
        "            print(f'Found {len(images)} {class_name} examples')\n",
        "            return images\n",
        "        \n",
        "        self.images = {}\n",
        "        self.class_names = ['normal', 'viral', 'covid','opacity']\n",
        "        \n",
        "        for c in self.class_names:\n",
        "            self.images[c] = get_images(c)\n",
        "            \n",
        "        self.image_dirs = image_dirs\n",
        "        self.transform = transform\n",
        "          \n",
        "    def __len__(self):\n",
        "        return sum([len(self.images[c]) for c in self.class_names])\n",
        "    \n",
        "    def __getitem__(self, index):\n",
        "        class_name = random.choice(self.class_names)\n",
        "        index = index%len(self.images[class_name])\n",
        "        image_name = self.images[class_name][index]\n",
        "        image_path = os.path.join(self.image_dirs[class_name], image_name)\n",
        "        image = Image.open(image_path).convert('RGB')\n",
        "        return self.transform(image), self.class_names.index(class_name)"
      ],
      "id": "postal-tumor",
      "execution_count": 28,
      "outputs": []
    },
    {
      "cell_type": "markdown",
      "metadata": {
        "id": "literary-passing"
      },
      "source": [
        "# Image Transformations"
      ],
      "id": "literary-passing"
    },
    {
      "cell_type": "code",
      "metadata": {
        "id": "appointed-grave"
      },
      "source": [
        "train_transform = torchvision.transforms.Compose([\n",
        "    torchvision.transforms.Resize(size = (224, 224)),#se transforma el tamano de las imagenes de entrada a 224×224\n",
        "    torchvision.transforms.RandomHorizontalFlip(),#de forma aleatoria se inviert de forma horizontal\n",
        "    torchvision.transforms.ToTensor(),#Se convierte a tensor\n",
        "    torchvision.transforms.Normalize(mean = [0.485, 0.456, 0.406], std = [0.229, 0.224, 0.225])#Media y varianza de imagenet\n",
        "])"
      ],
      "id": "appointed-grave",
      "execution_count": 29,
      "outputs": []
    },
    {
      "cell_type": "code",
      "metadata": {
        "id": "dO-P5KCepW2B"
      },
      "source": [
        "train_transform = torchvision.transforms.Compose([\n",
        "    torchvision.transforms.Resize(size = (224, 224)),\n",
        "    torchvision.transforms.RandomHorizontalFlip(),\n",
        "    torchvision.transforms.ToTensor(),\n",
        "    torchvision.transforms.Normalize(mean = [0.485, 0.456, 0.406],\n",
        "                                     std = [0.229, 0.224, 0.225])\n",
        "])"
      ],
      "id": "dO-P5KCepW2B",
      "execution_count": null,
      "outputs": []
    },
    {
      "cell_type": "code",
      "metadata": {
        "id": "dutch-russia"
      },
      "source": [
        "test_transform = torchvision.transforms.Compose([\n",
        "    torchvision.transforms.Resize(size = (224, 224)),\n",
        "    torchvision.transforms.ToTensor(),\n",
        "    torchvision.transforms.Normalize([0.485, 0.456, 0.406], [0.229, 0.224, 0.225])\n",
        "])"
      ],
      "id": "dutch-russia",
      "execution_count": 30,
      "outputs": []
    },
    {
      "cell_type": "markdown",
      "metadata": {
        "id": "desirable-sandwich"
      },
      "source": [
        "# Prepare Loader"
      ],
      "id": "desirable-sandwich"
    },
    {
      "cell_type": "code",
      "metadata": {
        "id": "treated-mother"
      },
      "source": [
        "train_dirs = {\n",
        "    'normal': '/tmp/COVID-19_Radiography_Dataset/train/normal',\n",
        "    'viral': '/tmp/COVID-19_Radiography_Dataset/train/viral',\n",
        "    'covid': '/tmp/COVID-19_Radiography_Dataset/train/covid',\n",
        "    'opacity': '/tmp/COVID-19_Radiography_Dataset/train/opacity'\n",
        "}"
      ],
      "id": "treated-mother",
      "execution_count": 31,
      "outputs": []
    },
    {
      "cell_type": "code",
      "metadata": {
        "id": "increased-radiation"
      },
      "source": [
        "test_dirs = {\n",
        "    'normal': '/tmp/COVID-19_Radiography_Dataset/test/normal',\n",
        "    'viral': '/tmp/COVID-19_Radiography_Dataset/test/viral',\n",
        "    'covid': '/tmp/COVID-19_Radiography_Dataset/test/covid',\n",
        "    'opacity': '/tmp/COVID-19_Radiography_Dataset/test/opacity'\n",
        "}"
      ],
      "id": "increased-radiation",
      "execution_count": 32,
      "outputs": []
    },
    {
      "cell_type": "code",
      "metadata": {
        "id": "maritime-meeting"
      },
      "source": [
        ""
      ],
      "id": "maritime-meeting",
      "execution_count": null,
      "outputs": []
    },
    {
      "cell_type": "code",
      "metadata": {
        "colab": {
          "base_uri": "https://localhost:8080/"
        },
        "id": "mediterranean-musician",
        "outputId": "6706aa94-4330-4e25-a2e1-8e207f33b4dc"
      },
      "source": [
        "train_dataset = ChestXRayDataset(train_dirs, train_transform)"
      ],
      "id": "mediterranean-musician",
      "execution_count": 33,
      "outputs": [
        {
          "output_type": "stream",
          "text": [
            "Found 4154 normal examples\n",
            "Found 1211 viral examples\n",
            "Found 3254 covid examples\n",
            "Found 4154 opacity examples\n"
          ],
          "name": "stdout"
        }
      ]
    },
    {
      "cell_type": "code",
      "metadata": {
        "colab": {
          "base_uri": "https://localhost:8080/"
        },
        "id": "other-teddy",
        "outputId": "a173c902-29d6-4626-c631-5d18cae2a785"
      },
      "source": [
        "test_dataset = ChestXRayDataset(test_dirs, test_transform)"
      ],
      "id": "other-teddy",
      "execution_count": 34,
      "outputs": [
        {
          "output_type": "stream",
          "text": [
            "Found 462 normal examples\n",
            "Found 134 viral examples\n",
            "Found 362 covid examples\n",
            "Found 462 opacity examples\n"
          ],
          "name": "stdout"
        }
      ]
    },
    {
      "cell_type": "code",
      "metadata": {
        "colab": {
          "base_uri": "https://localhost:8080/"
        },
        "id": "dietary-occasion",
        "outputId": "d5116ddb-aa28-4d36-d471-ff45369d9431"
      },
      "source": [
        "batch_size = 6\n",
        "\n",
        "dl_train = torch.utils.data.DataLoader(train_dataset, batch_size = 6, shuffle = True)\n",
        "dl_test = torch.utils.data.DataLoader(test_dataset, batch_size = 6, shuffle = True)\n",
        "\n",
        "print('Number of training batches', len(dl_train))\n",
        "print('Number of test batches', len(dl_test))"
      ],
      "id": "dietary-occasion",
      "execution_count": 35,
      "outputs": [
        {
          "output_type": "stream",
          "text": [
            "Number of training batches 2129\n",
            "Number of test batches 237\n"
          ],
          "name": "stdout"
        }
      ]
    },
    {
      "cell_type": "code",
      "metadata": {
        "id": "crazy-programmer"
      },
      "source": [
        "class_names = ['normal','viral','covid','opacity']\n",
        "\n",
        "def show_images(images, labels, preds):\n",
        "    plt.figure(figsize=(16, 9))\n",
        "    for i, image in enumerate(images):\n",
        "        plt.subplot(1, 6, i + 1, xticks = [], yticks = [])\n",
        "        image = image.numpy().transpose((1, 2, 0))\n",
        "        mean  = np.array([0.485, 0.456, 0.406])\n",
        "        std   = np.array([0.229, 0.224, 0.225])\n",
        "        image = image*std + mean\n",
        "        image = np.clip(image, 0., 1.)\n",
        "        plt.imshow(image)\n",
        "        col   = 'green'\n",
        "        if preds[i] != labels[i]:\n",
        "            col = 'red'\n",
        "            \n",
        "        plt.xlabel(f'{class_names[int(labels[i].numpy())]}')\n",
        "        plt.ylabel(f'{class_names[int(preds[i].numpy())]}', color = col)\n",
        "    plt.tight_layout()\n",
        "    plt.show()"
      ],
      "id": "crazy-programmer",
      "execution_count": 36,
      "outputs": []
    },
    {
      "cell_type": "code",
      "metadata": {
        "colab": {
          "base_uri": "https://localhost:8080/",
          "height": 210
        },
        "id": "speaking-beijing",
        "outputId": "565bdae0-5721-4ec4-f9b1-37c5f99a78db"
      },
      "source": [
        "images, labels = next(iter(dl_train))\n",
        "show_images(images, labels, labels)"
      ],
      "id": "speaking-beijing",
      "execution_count": 37,
      "outputs": [
        {
          "output_type": "display_data",
          "data": {
            "image/png": "[encoded data removed]",
            "text/plain": [
              "<Figure size 1152x648 with 6 Axes>"
            ]
          },
          "metadata": {
            "tags": []
          }
        }
      ]
    },
    {
      "cell_type": "markdown",
      "metadata": {
        "id": "enabling-corruption"
      },
      "source": [
        "# Creating the Model"
      ],
      "id": "enabling-corruption"
    },
    {
      "cell_type": "code",
      "metadata": {
        "colab": {
          "base_uri": "https://localhost:8080/"
        },
        "id": "CA-ZRBM8IR21",
        "outputId": "f6d5ff2b-a261-4a3d-a473-8ed1a6a9558a"
      },
      "source": [
        "device = ('cuda' if torch.cuda.is_available() else 'cpu')\n",
        "print('Dispositivo disponible:', device)"
      ],
      "id": "CA-ZRBM8IR21",
      "execution_count": 40,
      "outputs": [
        {
          "output_type": "stream",
          "text": [
            "Dispositivo disponible: cuda\n"
          ],
          "name": "stdout"
        }
      ]
    },
    {
      "cell_type": "code",
      "metadata": {
        "colab": {
          "base_uri": "https://localhost:8080/",
          "height": 1000,
          "referenced_widgets": [
            "7aaaaf1996874360ae5995f63bfed952",
            "232dda909f554200b3b51d938cc00ef0",
            "91c97e78cd95472abc1ba59d3eb4818f",
            "30b220dd5a62441181b57948198dcafd",
            "c5db1c36ab634f6980c2edcd836e9f9e",
            "aefe03ca388f4ecf93125194dd30cf44",
            "8845d69020dd45058639facddab87e1f",
            "6948f7476dfd4dd5b94e510e479510a5"
          ]
        },
        "id": "opposite-blackberry",
        "outputId": "1fbee332-2d29-4a9f-a1be-6e79c14cbcf9"
      },
      "source": [
        "gnet = torchvision.models.googlenet(pretrained=True)\n",
        "\n",
        "print(gnet)"
      ],
      "id": "opposite-blackberry",
      "execution_count": 41,
      "outputs": [
        {
          "output_type": "stream",
          "text": [
            "Downloading: \"https://download.pytorch.org/models/googlenet-1378be20.pth\" to /root/.cache/torch/hub/checkpoints/googlenet-1378be20.pth\n"
          ],
          "name": "stderr"
        },
        {
          "output_type": "display_data",
          "data": {
            "application/vnd.jupyter.widget-view+json": {
              "model_id": "7aaaaf1996874360ae5995f63bfed952",
              "version_minor": 0,
              "version_major": 2
            },
            "text/plain": [
              "HBox(children=(FloatProgress(value=0.0, max=52147035.0), HTML(value='')))"
            ]
          },
          "metadata": {
            "tags": []
          }
        },
        {
          "output_type": "stream",
          "text": [
            "\n",
            "GoogLeNet(\n",
            "  (conv1): BasicConv2d(\n",
            "    (conv): Conv2d(3, 64, kernel_size=(7, 7), stride=(2, 2), padding=(3, 3), bias=False)\n",
            "    (bn): BatchNorm2d(64, eps=0.001, momentum=0.1, affine=True, track_running_stats=True)\n",
            "  )\n",
            "  (maxpool1): MaxPool2d(kernel_size=3, stride=2, padding=0, dilation=1, ceil_mode=True)\n",
            "  (conv2): BasicConv2d(\n",
            "    (conv): Conv2d(64, 64, kernel_size=(1, 1), stride=(1, 1), bias=False)\n",
            "    (bn): BatchNorm2d(64, eps=0.001, momentum=0.1, affine=True, track_running_stats=True)\n",
            "  )\n",
            "  (conv3): BasicConv2d(\n",
            "    (conv): Conv2d(64, 192, kernel_size=(3, 3), stride=(1, 1), padding=(1, 1), bias=False)\n",
            "    (bn): BatchNorm2d(192, eps=0.001, momentum=0.1, affine=True, track_running_stats=True)\n",
            "  )\n",
            "  (maxpool2): MaxPool2d(kernel_size=3, stride=2, padding=0, dilation=1, ceil_mode=True)\n",
            "  (inception3a): Inception(\n",
            "    (branch1): BasicConv2d(\n",
            "      (conv): Conv2d(192, 64, kernel_size=(1, 1), stride=(1, 1), bias=False)\n",
            "      (bn): BatchNorm2d(64, eps=0.001, momentum=0.1, affine=True, track_running_stats=True)\n",
            "    )\n",
            "    (branch2): Sequential(\n",
            "      (0): BasicConv2d(\n",
            "        (conv): Conv2d(192, 96, kernel_size=(1, 1), stride=(1, 1), bias=False)\n",
            "        (bn): BatchNorm2d(96, eps=0.001, momentum=0.1, affine=True, track_running_stats=True)\n",
            "      )\n",
            "      (1): BasicConv2d(\n",
            "        (conv): Conv2d(96, 128, kernel_size=(3, 3), stride=(1, 1), padding=(1, 1), bias=False)\n",
            "        (bn): BatchNorm2d(128, eps=0.001, momentum=0.1, affine=True, track_running_stats=True)\n",
            "      )\n",
            "    )\n",
            "    (branch3): Sequential(\n",
            "      (0): BasicConv2d(\n",
            "        (conv): Conv2d(192, 16, kernel_size=(1, 1), stride=(1, 1), bias=False)\n",
            "        (bn): BatchNorm2d(16, eps=0.001, momentum=0.1, affine=True, track_running_stats=True)\n",
            "      )\n",
            "      (1): BasicConv2d(\n",
            "        (conv): Conv2d(16, 32, kernel_size=(3, 3), stride=(1, 1), padding=(1, 1), bias=False)\n",
            "        (bn): BatchNorm2d(32, eps=0.001, momentum=0.1, affine=True, track_running_stats=True)\n",
            "      )\n",
            "    )\n",
            "    (branch4): Sequential(\n",
            "      (0): MaxPool2d(kernel_size=3, stride=1, padding=1, dilation=1, ceil_mode=True)\n",
            "      (1): BasicConv2d(\n",
            "        (conv): Conv2d(192, 32, kernel_size=(1, 1), stride=(1, 1), bias=False)\n",
            "        (bn): BatchNorm2d(32, eps=0.001, momentum=0.1, affine=True, track_running_stats=True)\n",
            "      )\n",
            "    )\n",
            "  )\n",
            "  (inception3b): Inception(\n",
            "    (branch1): BasicConv2d(\n",
            "      (conv): Conv2d(256, 128, kernel_size=(1, 1), stride=(1, 1), bias=False)\n",
            "      (bn): BatchNorm2d(128, eps=0.001, momentum=0.1, affine=True, track_running_stats=True)\n",
            "    )\n",
            "    (branch2): Sequential(\n",
            "      (0): BasicConv2d(\n",
            "        (conv): Conv2d(256, 128, kernel_size=(1, 1), stride=(1, 1), bias=False)\n",
            "        (bn): BatchNorm2d(128, eps=0.001, momentum=0.1, affine=True, track_running_stats=True)\n",
            "      )\n",
            "      (1): BasicConv2d(\n",
            "        (conv): Conv2d(128, 192, kernel_size=(3, 3), stride=(1, 1), padding=(1, 1), bias=False)\n",
            "        (bn): BatchNorm2d(192, eps=0.001, momentum=0.1, affine=True, track_running_stats=True)\n",
            "      )\n",
            "    )\n",
            "    (branch3): Sequential(\n",
            "      (0): BasicConv2d(\n",
            "        (conv): Conv2d(256, 32, kernel_size=(1, 1), stride=(1, 1), bias=False)\n",
            "        (bn): BatchNorm2d(32, eps=0.001, momentum=0.1, affine=True, track_running_stats=True)\n",
            "      )\n",
            "      (1): BasicConv2d(\n",
            "        (conv): Conv2d(32, 96, kernel_size=(3, 3), stride=(1, 1), padding=(1, 1), bias=False)\n",
            "        (bn): BatchNorm2d(96, eps=0.001, momentum=0.1, affine=True, track_running_stats=True)\n",
            "      )\n",
            "    )\n",
            "    (branch4): Sequential(\n",
            "      (0): MaxPool2d(kernel_size=3, stride=1, padding=1, dilation=1, ceil_mode=True)\n",
            "      (1): BasicConv2d(\n",
            "        (conv): Conv2d(256, 64, kernel_size=(1, 1), stride=(1, 1), bias=False)\n",
            "        (bn): BatchNorm2d(64, eps=0.001, momentum=0.1, affine=True, track_running_stats=True)\n",
            "      )\n",
            "    )\n",
            "  )\n",
            "  (maxpool3): MaxPool2d(kernel_size=3, stride=2, padding=0, dilation=1, ceil_mode=True)\n",
            "  (inception4a): Inception(\n",
            "    (branch1): BasicConv2d(\n",
            "      (conv): Conv2d(480, 192, kernel_size=(1, 1), stride=(1, 1), bias=False)\n",
            "      (bn): BatchNorm2d(192, eps=0.001, momentum=0.1, affine=True, track_running_stats=True)\n",
            "    )\n",
            "    (branch2): Sequential(\n",
            "      (0): BasicConv2d(\n",
            "        (conv): Conv2d(480, 96, kernel_size=(1, 1), stride=(1, 1), bias=False)\n",
            "        (bn): BatchNorm2d(96, eps=0.001, momentum=0.1, affine=True, track_running_stats=True)\n",
            "      )\n",
            "      (1): BasicConv2d(\n",
            "        (conv): Conv2d(96, 208, kernel_size=(3, 3), stride=(1, 1), padding=(1, 1), bias=False)\n",
            "        (bn): BatchNorm2d(208, eps=0.001, momentum=0.1, affine=True, track_running_stats=True)\n",
            "      )\n",
            "    )\n",
            "    (branch3): Sequential(\n",
            "      (0): BasicConv2d(\n",
            "        (conv): Conv2d(480, 16, kernel_size=(1, 1), stride=(1, 1), bias=False)\n",
            "        (bn): BatchNorm2d(16, eps=0.001, momentum=0.1, affine=True, track_running_stats=True)\n",
            "      )\n",
            "      (1): BasicConv2d(\n",
            "        (conv): Conv2d(16, 48, kernel_size=(3, 3), stride=(1, 1), padding=(1, 1), bias=False)\n",
            "        (bn): BatchNorm2d(48, eps=0.001, momentum=0.1, affine=True, track_running_stats=True)\n",
            "      )\n",
            "    )\n",
            "    (branch4): Sequential(\n",
            "      (0): MaxPool2d(kernel_size=3, stride=1, padding=1, dilation=1, ceil_mode=True)\n",
            "      (1): BasicConv2d(\n",
            "        (conv): Conv2d(480, 64, kernel_size=(1, 1), stride=(1, 1), bias=False)\n",
            "        (bn): BatchNorm2d(64, eps=0.001, momentum=0.1, affine=True, track_running_stats=True)\n",
            "      )\n",
            "    )\n",
            "  )\n",
            "  (inception4b): Inception(\n",
            "    (branch1): BasicConv2d(\n",
            "      (conv): Conv2d(512, 160, kernel_size=(1, 1), stride=(1, 1), bias=False)\n",
            "      (bn): BatchNorm2d(160, eps=0.001, momentum=0.1, affine=True, track_running_stats=True)\n",
            "    )\n",
            "    (branch2): Sequential(\n",
            "      (0): BasicConv2d(\n",
            "        (conv): Conv2d(512, 112, kernel_size=(1, 1), stride=(1, 1), bias=False)\n",
            "        (bn): BatchNorm2d(112, eps=0.001, momentum=0.1, affine=True, track_running_stats=True)\n",
            "      )\n",
            "      (1): BasicConv2d(\n",
            "        (conv): Conv2d(112, 224, kernel_size=(3, 3), stride=(1, 1), padding=(1, 1), bias=False)\n",
            "        (bn): BatchNorm2d(224, eps=0.001, momentum=0.1, affine=True, track_running_stats=True)\n",
            "      )\n",
            "    )\n",
            "    (branch3): Sequential(\n",
            "      (0): BasicConv2d(\n",
            "        (conv): Conv2d(512, 24, kernel_size=(1, 1), stride=(1, 1), bias=False)\n",
            "        (bn): BatchNorm2d(24, eps=0.001, momentum=0.1, affine=True, track_running_stats=True)\n",
            "      )\n",
            "      (1): BasicConv2d(\n",
            "        (conv): Conv2d(24, 64, kernel_size=(3, 3), stride=(1, 1), padding=(1, 1), bias=False)\n",
            "        (bn): BatchNorm2d(64, eps=0.001, momentum=0.1, affine=True, track_running_stats=True)\n",
            "      )\n",
            "    )\n",
            "    (branch4): Sequential(\n",
            "      (0): MaxPool2d(kernel_size=3, stride=1, padding=1, dilation=1, ceil_mode=True)\n",
            "      (1): BasicConv2d(\n",
            "        (conv): Conv2d(512, 64, kernel_size=(1, 1), stride=(1, 1), bias=False)\n",
            "        (bn): BatchNorm2d(64, eps=0.001, momentum=0.1, affine=True, track_running_stats=True)\n",
            "      )\n",
            "    )\n",
            "  )\n",
            "  (inception4c): Inception(\n",
            "    (branch1): BasicConv2d(\n",
            "      (conv): Conv2d(512, 128, kernel_size=(1, 1), stride=(1, 1), bias=False)\n",
            "      (bn): BatchNorm2d(128, eps=0.001, momentum=0.1, affine=True, track_running_stats=True)\n",
            "    )\n",
            "    (branch2): Sequential(\n",
            "      (0): BasicConv2d(\n",
            "        (conv): Conv2d(512, 128, kernel_size=(1, 1), stride=(1, 1), bias=False)\n",
            "        (bn): BatchNorm2d(128, eps=0.001, momentum=0.1, affine=True, track_running_stats=True)\n",
            "      )\n",
            "      (1): BasicConv2d(\n",
            "        (conv): Conv2d(128, 256, kernel_size=(3, 3), stride=(1, 1), padding=(1, 1), bias=False)\n",
            "        (bn): BatchNorm2d(256, eps=0.001, momentum=0.1, affine=True, track_running_stats=True)\n",
            "      )\n",
            "    )\n",
            "    (branch3): Sequential(\n",
            "      (0): BasicConv2d(\n",
            "        (conv): Conv2d(512, 24, kernel_size=(1, 1), stride=(1, 1), bias=False)\n",
            "        (bn): BatchNorm2d(24, eps=0.001, momentum=0.1, affine=True, track_running_stats=True)\n",
            "      )\n",
            "      (1): BasicConv2d(\n",
            "        (conv): Conv2d(24, 64, kernel_size=(3, 3), stride=(1, 1), padding=(1, 1), bias=False)\n",
            "        (bn): BatchNorm2d(64, eps=0.001, momentum=0.1, affine=True, track_running_stats=True)\n",
            "      )\n",
            "    )\n",
            "    (branch4): Sequential(\n",
            "      (0): MaxPool2d(kernel_size=3, stride=1, padding=1, dilation=1, ceil_mode=True)\n",
            "      (1): BasicConv2d(\n",
            "        (conv): Conv2d(512, 64, kernel_size=(1, 1), stride=(1, 1), bias=False)\n",
            "        (bn): BatchNorm2d(64, eps=0.001, momentum=0.1, affine=True, track_running_stats=True)\n",
            "      )\n",
            "    )\n",
            "  )\n",
            "  (inception4d): Inception(\n",
            "    (branch1): BasicConv2d(\n",
            "      (conv): Conv2d(512, 112, kernel_size=(1, 1), stride=(1, 1), bias=False)\n",
            "      (bn): BatchNorm2d(112, eps=0.001, momentum=0.1, affine=True, track_running_stats=True)\n",
            "    )\n",
            "    (branch2): Sequential(\n",
            "      (0): BasicConv2d(\n",
            "        (conv): Conv2d(512, 144, kernel_size=(1, 1), stride=(1, 1), bias=False)\n",
            "        (bn): BatchNorm2d(144, eps=0.001, momentum=0.1, affine=True, track_running_stats=True)\n",
            "      )\n",
            "      (1): BasicConv2d(\n",
            "        (conv): Conv2d(144, 288, kernel_size=(3, 3), stride=(1, 1), padding=(1, 1), bias=False)\n",
            "        (bn): BatchNorm2d(288, eps=0.001, momentum=0.1, affine=True, track_running_stats=True)\n",
            "      )\n",
            "    )\n",
            "    (branch3): Sequential(\n",
            "      (0): BasicConv2d(\n",
            "        (conv): Conv2d(512, 32, kernel_size=(1, 1), stride=(1, 1), bias=False)\n",
            "        (bn): BatchNorm2d(32, eps=0.001, momentum=0.1, affine=True, track_running_stats=True)\n",
            "      )\n",
            "      (1): BasicConv2d(\n",
            "        (conv): Conv2d(32, 64, kernel_size=(3, 3), stride=(1, 1), padding=(1, 1), bias=False)\n",
            "        (bn): BatchNorm2d(64, eps=0.001, momentum=0.1, affine=True, track_running_stats=True)\n",
            "      )\n",
            "    )\n",
            "    (branch4): Sequential(\n",
            "      (0): MaxPool2d(kernel_size=3, stride=1, padding=1, dilation=1, ceil_mode=True)\n",
            "      (1): BasicConv2d(\n",
            "        (conv): Conv2d(512, 64, kernel_size=(1, 1), stride=(1, 1), bias=False)\n",
            "        (bn): BatchNorm2d(64, eps=0.001, momentum=0.1, affine=True, track_running_stats=True)\n",
            "      )\n",
            "    )\n",
            "  )\n",
            "  (inception4e): Inception(\n",
            "    (branch1): BasicConv2d(\n",
            "      (conv): Conv2d(528, 256, kernel_size=(1, 1), stride=(1, 1), bias=False)\n",
            "      (bn): BatchNorm2d(256, eps=0.001, momentum=0.1, affine=True, track_running_stats=True)\n",
            "    )\n",
            "    (branch2): Sequential(\n",
            "      (0): BasicConv2d(\n",
            "        (conv): Conv2d(528, 160, kernel_size=(1, 1), stride=(1, 1), bias=False)\n",
            "        (bn): BatchNorm2d(160, eps=0.001, momentum=0.1, affine=True, track_running_stats=True)\n",
            "      )\n",
            "      (1): BasicConv2d(\n",
            "        (conv): Conv2d(160, 320, kernel_size=(3, 3), stride=(1, 1), padding=(1, 1), bias=False)\n",
            "        (bn): BatchNorm2d(320, eps=0.001, momentum=0.1, affine=True, track_running_stats=True)\n",
            "      )\n",
            "    )\n",
            "    (branch3): Sequential(\n",
            "      (0): BasicConv2d(\n",
            "        (conv): Conv2d(528, 32, kernel_size=(1, 1), stride=(1, 1), bias=False)\n",
            "        (bn): BatchNorm2d(32, eps=0.001, momentum=0.1, affine=True, track_running_stats=True)\n",
            "      )\n",
            "      (1): BasicConv2d(\n",
            "        (conv): Conv2d(32, 128, kernel_size=(3, 3), stride=(1, 1), padding=(1, 1), bias=False)\n",
            "        (bn): BatchNorm2d(128, eps=0.001, momentum=0.1, affine=True, track_running_stats=True)\n",
            "      )\n",
            "    )\n",
            "    (branch4): Sequential(\n",
            "      (0): MaxPool2d(kernel_size=3, stride=1, padding=1, dilation=1, ceil_mode=True)\n",
            "      (1): BasicConv2d(\n",
            "        (conv): Conv2d(528, 128, kernel_size=(1, 1), stride=(1, 1), bias=False)\n",
            "        (bn): BatchNorm2d(128, eps=0.001, momentum=0.1, affine=True, track_running_stats=True)\n",
            "      )\n",
            "    )\n",
            "  )\n",
            "  (maxpool4): MaxPool2d(kernel_size=2, stride=2, padding=0, dilation=1, ceil_mode=True)\n",
            "  (inception5a): Inception(\n",
            "    (branch1): BasicConv2d(\n",
            "      (conv): Conv2d(832, 256, kernel_size=(1, 1), stride=(1, 1), bias=False)\n",
            "      (bn): BatchNorm2d(256, eps=0.001, momentum=0.1, affine=True, track_running_stats=True)\n",
            "    )\n",
            "    (branch2): Sequential(\n",
            "      (0): BasicConv2d(\n",
            "        (conv): Conv2d(832, 160, kernel_size=(1, 1), stride=(1, 1), bias=False)\n",
            "        (bn): BatchNorm2d(160, eps=0.001, momentum=0.1, affine=True, track_running_stats=True)\n",
            "      )\n",
            "      (1): BasicConv2d(\n",
            "        (conv): Conv2d(160, 320, kernel_size=(3, 3), stride=(1, 1), padding=(1, 1), bias=False)\n",
            "        (bn): BatchNorm2d(320, eps=0.001, momentum=0.1, affine=True, track_running_stats=True)\n",
            "      )\n",
            "    )\n",
            "    (branch3): Sequential(\n",
            "      (0): BasicConv2d(\n",
            "        (conv): Conv2d(832, 32, kernel_size=(1, 1), stride=(1, 1), bias=False)\n",
            "        (bn): BatchNorm2d(32, eps=0.001, momentum=0.1, affine=True, track_running_stats=True)\n",
            "      )\n",
            "      (1): BasicConv2d(\n",
            "        (conv): Conv2d(32, 128, kernel_size=(3, 3), stride=(1, 1), padding=(1, 1), bias=False)\n",
            "        (bn): BatchNorm2d(128, eps=0.001, momentum=0.1, affine=True, track_running_stats=True)\n",
            "      )\n",
            "    )\n",
            "    (branch4): Sequential(\n",
            "      (0): MaxPool2d(kernel_size=3, stride=1, padding=1, dilation=1, ceil_mode=True)\n",
            "      (1): BasicConv2d(\n",
            "        (conv): Conv2d(832, 128, kernel_size=(1, 1), stride=(1, 1), bias=False)\n",
            "        (bn): BatchNorm2d(128, eps=0.001, momentum=0.1, affine=True, track_running_stats=True)\n",
            "      )\n",
            "    )\n",
            "  )\n",
            "  (inception5b): Inception(\n",
            "    (branch1): BasicConv2d(\n",
            "      (conv): Conv2d(832, 384, kernel_size=(1, 1), stride=(1, 1), bias=False)\n",
            "      (bn): BatchNorm2d(384, eps=0.001, momentum=0.1, affine=True, track_running_stats=True)\n",
            "    )\n",
            "    (branch2): Sequential(\n",
            "      (0): BasicConv2d(\n",
            "        (conv): Conv2d(832, 192, kernel_size=(1, 1), stride=(1, 1), bias=False)\n",
            "        (bn): BatchNorm2d(192, eps=0.001, momentum=0.1, affine=True, track_running_stats=True)\n",
            "      )\n",
            "      (1): BasicConv2d(\n",
            "        (conv): Conv2d(192, 384, kernel_size=(3, 3), stride=(1, 1), padding=(1, 1), bias=False)\n",
            "        (bn): BatchNorm2d(384, eps=0.001, momentum=0.1, affine=True, track_running_stats=True)\n",
            "      )\n",
            "    )\n",
            "    (branch3): Sequential(\n",
            "      (0): BasicConv2d(\n",
            "        (conv): Conv2d(832, 48, kernel_size=(1, 1), stride=(1, 1), bias=False)\n",
            "        (bn): BatchNorm2d(48, eps=0.001, momentum=0.1, affine=True, track_running_stats=True)\n",
            "      )\n",
            "      (1): BasicConv2d(\n",
            "        (conv): Conv2d(48, 128, kernel_size=(3, 3), stride=(1, 1), padding=(1, 1), bias=False)\n",
            "        (bn): BatchNorm2d(128, eps=0.001, momentum=0.1, affine=True, track_running_stats=True)\n",
            "      )\n",
            "    )\n",
            "    (branch4): Sequential(\n",
            "      (0): MaxPool2d(kernel_size=3, stride=1, padding=1, dilation=1, ceil_mode=True)\n",
            "      (1): BasicConv2d(\n",
            "        (conv): Conv2d(832, 128, kernel_size=(1, 1), stride=(1, 1), bias=False)\n",
            "        (bn): BatchNorm2d(128, eps=0.001, momentum=0.1, affine=True, track_running_stats=True)\n",
            "      )\n",
            "    )\n",
            "  )\n",
            "  (aux1): None\n",
            "  (aux2): None\n",
            "  (avgpool): AdaptiveAvgPool2d(output_size=(1, 1))\n",
            "  (dropout): Dropout(p=0.2, inplace=False)\n",
            "  (fc): Linear(in_features=1024, out_features=1000, bias=True)\n",
            ")\n"
          ],
          "name": "stdout"
        }
      ]
    },
    {
      "cell_type": "code",
      "metadata": {
        "id": "growing-french"
      },
      "source": [
        "gnet.fc = torch.nn.Linear(in_features = 1024, out_features = 4)\n",
        "gnet = gnet.to(device)\n",
        "loss_fngnet     = torch.nn.CrossEntropyLoss()\n",
        "optimizer_gnet   = torch.optim.Adam(gnet.parameters(), lr = 3e-5)"
      ],
      "id": "growing-french",
      "execution_count": 42,
      "outputs": []
    },
    {
      "cell_type": "code",
      "metadata": {
        "id": "dedicated-moderator"
      },
      "source": [
        "def show_predsgnet():\n",
        "    gnet.eval()\n",
        "    images, labels = next(iter(dl_test))\n",
        "    images = images.to(device)\n",
        "    labels = labels.to(device)\n",
        "    outputs  = gnet(images)\n",
        "    _, preds = torch.max(outputs, 1)\n",
        "    show_images(images.cpu(), labels.cpu(), preds.cpu())"
      ],
      "id": "dedicated-moderator",
      "execution_count": 43,
      "outputs": []
    },
    {
      "cell_type": "code",
      "metadata": {
        "colab": {
          "base_uri": "https://localhost:8080/",
          "height": 265
        },
        "id": "extra-girlfriend",
        "outputId": "f393bad4-dd53-43f9-a6cd-b845058c90bc"
      },
      "source": [
        "show_predsgnet()"
      ],
      "id": "extra-girlfriend",
      "execution_count": 44,
      "outputs": [
        {
          "output_type": "stream",
          "text": [
            "/usr/local/lib/python3.7/dist-packages/torch/nn/functional.py:718: UserWarning: Named tensors and all their associated APIs are an experimental feature and subject to change. Please do not use them for anything important until they are released as stable. (Triggered internally at  /pytorch/c10/core/TensorImpl.h:1156.)\n",
            "  return torch.max_pool2d(input, kernel_size, stride, padding, dilation, ceil_mode)\n"
          ],
          "name": "stderr"
        },
        {
          "output_type": "display_data",
          "data": {
            "image/png": "[encoded data removed]",
            "text/plain": [
              "<Figure size 1152x648 with 6 Axes>"
            ]
          },
          "metadata": {
            "tags": []
          }
        }
      ]
    },
    {
      "cell_type": "code",
      "metadata": {
        "id": "HL9YJjiiHo5q"
      },
      "source": [
        "train_losses, test_losses = [], []\n",
        "def train2(epochs):\n",
        "    print('Starting training..')\n",
        "    \n",
        "    rs = '------------------------------------------------------------------'\n",
        "    print('Epoch    Train-Loss   Train-Acc   Val-Loss    Val-Acc   Best')\n",
        "    print(rs)\n",
        "    for e in range(0, epochs):\n",
        "        print('='*20)\n",
        "        print(f'Starting epoch {e + 1}/{epochs}')\n",
        "        print('='*20)\n",
        "\n",
        "        train_loss = 0.\n",
        "        val_loss = 0.\n",
        "\n",
        "        gnet.train() # set model to training phase\n",
        "\n",
        "        for train_step, (images, labels) in enumerate(dl_train):\n",
        "            images = images.to(device)\n",
        "            labels = labels.to(device)\n",
        "            optimizer_gnet.zero_grad()\n",
        "            outputs = gnet(images)\n",
        "            loss = loss_fngnet(outputs, labels)\n",
        "            loss.backward()\n",
        "            optimizer_gnet.step()\n",
        "            train_loss += loss.item()\n",
        "            if train_step % 20 == 0:\n",
        "                print('Evaluating at step', train_step)\n",
        "\n",
        "                accuracy = 0\n",
        "\n",
        "                gnet.eval() # set model to eval phase\n",
        "\n",
        "                for val_step, (images, labels) in enumerate(dl_test):\n",
        "                    images = images.to(device)\n",
        "                    labels = labels.to(device)\n",
        "                    outputs = gnet(images)\n",
        "                    loss = loss_fngnet(outputs, labels)\n",
        "                    val_loss += loss.item()\n",
        "\n",
        "                    _, preds = torch.max(outputs, 1)\n",
        "                    \n",
        "                    accuracy += torch.sum(preds == labels.data)\n",
        "\n",
        "                val_loss /= (val_step + 1)\n",
        "                train_loss /= (train_step + 1)\n",
        "                accuracy = accuracy/len(test_dataset)\n",
        "                print(f'Validation Loss: {val_loss:.4f}, Accuracy: {accuracy:.4f}')\n",
        "                \n",
        "                train_losses.append(train_loss)\n",
        "                test_losses.append(val_loss)\n",
        "\n",
        "                #show_predsgnet()\n",
        "\n",
        "                gnet.train()\n",
        "\n",
        "                if accuracy >= 0.95:\n",
        "                    print('Performance condition satisfied, stopping..')\n",
        "                    return\n",
        "\n",
        "        train_loss /= (train_step + 1)\n",
        "\n",
        "        print(f'Training Loss: {train_loss:.4f}')\n",
        "    print('Training complete..')"
      ],
      "id": "HL9YJjiiHo5q",
      "execution_count": 45,
      "outputs": []
    },
    {
      "cell_type": "code",
      "metadata": {
        "colab": {
          "base_uri": "https://localhost:8080/"
        },
        "id": "synthetic-territory",
        "outputId": "030168f3-2f2d-404d-9cd3-abc11c91d003"
      },
      "source": [
        "%%time\n",
        "\n",
        "train2(epochs=3)"
      ],
      "id": "synthetic-territory",
      "execution_count": 46,
      "outputs": [
        {
          "output_type": "stream",
          "text": [
            "Starting training..\n",
            "Epoch    Train-Loss   Train-Acc   Val-Loss    Val-Acc   Best\n",
            "------------------------------------------------------------------\n",
            "====================\n",
            "Starting epoch 1/3\n",
            "====================\n",
            "Evaluating at step 0\n",
            "Validation Loss: 1.4093, Accuracy: 0.2697\n",
            "Evaluating at step 20\n",
            "Validation Loss: 1.3319, Accuracy: 0.3049\n",
            "Evaluating at step 40\n",
            "Validation Loss: 1.2078, Accuracy: 0.5000\n",
            "Evaluating at step 60\n",
            "Validation Loss: 1.0473, Accuracy: 0.6725\n",
            "Evaluating at step 80\n",
            "Validation Loss: 0.9303, Accuracy: 0.7092\n",
            "Evaluating at step 100\n",
            "Validation Loss: 0.8718, Accuracy: 0.7289\n",
            "Evaluating at step 120\n",
            "Validation Loss: 0.8264, Accuracy: 0.7331\n",
            "Evaluating at step 140\n",
            "Validation Loss: 0.7718, Accuracy: 0.7408\n",
            "Evaluating at step 160\n",
            "Validation Loss: 0.7515, Accuracy: 0.7310\n",
            "Evaluating at step 180\n",
            "Validation Loss: 0.7183, Accuracy: 0.7542\n",
            "Evaluating at step 200\n",
            "Validation Loss: 0.6819, Accuracy: 0.7577\n",
            "Evaluating at step 220\n",
            "Validation Loss: 0.6872, Accuracy: 0.7620\n",
            "Evaluating at step 240\n",
            "Validation Loss: 0.6221, Accuracy: 0.7845\n",
            "Evaluating at step 260\n",
            "Validation Loss: 0.6062, Accuracy: 0.7838\n",
            "Evaluating at step 280\n",
            "Validation Loss: 0.5726, Accuracy: 0.8056\n",
            "Evaluating at step 300\n",
            "Validation Loss: 0.5580, Accuracy: 0.8113\n",
            "Evaluating at step 320\n",
            "Validation Loss: 0.5649, Accuracy: 0.8106\n",
            "Evaluating at step 340\n",
            "Validation Loss: 0.5456, Accuracy: 0.8035\n",
            "Evaluating at step 360\n",
            "Validation Loss: 0.5229, Accuracy: 0.8190\n",
            "Evaluating at step 380\n",
            "Validation Loss: 0.4881, Accuracy: 0.8218\n",
            "Evaluating at step 400\n",
            "Validation Loss: 0.4975, Accuracy: 0.8239\n",
            "Evaluating at step 420\n",
            "Validation Loss: 0.4931, Accuracy: 0.8232\n",
            "Evaluating at step 440\n",
            "Validation Loss: 0.4902, Accuracy: 0.8148\n",
            "Evaluating at step 460\n",
            "Validation Loss: 0.4712, Accuracy: 0.8310\n",
            "Evaluating at step 480\n",
            "Validation Loss: 0.4469, Accuracy: 0.8430\n",
            "Evaluating at step 500\n",
            "Validation Loss: 0.4417, Accuracy: 0.8430\n",
            "Evaluating at step 520\n",
            "Validation Loss: 0.4516, Accuracy: 0.8437\n",
            "Evaluating at step 540\n",
            "Validation Loss: 0.4049, Accuracy: 0.8592\n",
            "Evaluating at step 560\n",
            "Validation Loss: 0.4152, Accuracy: 0.8655\n",
            "Evaluating at step 580\n",
            "Validation Loss: 0.4091, Accuracy: 0.8669\n",
            "Evaluating at step 600\n",
            "Validation Loss: 0.3746, Accuracy: 0.8789\n",
            "Evaluating at step 620\n",
            "Validation Loss: 0.3543, Accuracy: 0.8880\n",
            "Evaluating at step 640\n",
            "Validation Loss: 0.3637, Accuracy: 0.8824\n",
            "Evaluating at step 660\n",
            "Validation Loss: 0.3233, Accuracy: 0.8908\n",
            "Evaluating at step 680\n",
            "Validation Loss: 0.3690, Accuracy: 0.8775\n",
            "Evaluating at step 700\n",
            "Validation Loss: 0.3559, Accuracy: 0.8852\n",
            "Evaluating at step 720\n",
            "Validation Loss: 0.3306, Accuracy: 0.8923\n",
            "Evaluating at step 740\n",
            "Validation Loss: 0.3036, Accuracy: 0.9007\n",
            "Evaluating at step 760\n",
            "Validation Loss: 0.3226, Accuracy: 0.8810\n",
            "Evaluating at step 780\n",
            "Validation Loss: 0.2963, Accuracy: 0.8894\n",
            "Evaluating at step 800\n",
            "Validation Loss: 0.3044, Accuracy: 0.9007\n",
            "Evaluating at step 820\n",
            "Validation Loss: 0.3074, Accuracy: 0.8972\n",
            "Evaluating at step 840\n",
            "Validation Loss: 0.2964, Accuracy: 0.8958\n",
            "Evaluating at step 860\n",
            "Validation Loss: 0.2752, Accuracy: 0.9085\n",
            "Evaluating at step 880\n",
            "Validation Loss: 0.3025, Accuracy: 0.8824\n",
            "Evaluating at step 900\n",
            "Validation Loss: 0.2987, Accuracy: 0.8901\n",
            "Evaluating at step 920\n",
            "Validation Loss: 0.2731, Accuracy: 0.9063\n",
            "Evaluating at step 940\n",
            "Validation Loss: 0.3076, Accuracy: 0.8937\n",
            "Evaluating at step 960\n",
            "Validation Loss: 0.3098, Accuracy: 0.8859\n",
            "Evaluating at step 980\n",
            "Validation Loss: 0.3134, Accuracy: 0.8803\n",
            "Evaluating at step 1000\n",
            "Validation Loss: 0.2906, Accuracy: 0.8887\n",
            "Evaluating at step 1020\n",
            "Validation Loss: 0.2825, Accuracy: 0.8958\n",
            "Evaluating at step 1040\n",
            "Validation Loss: 0.2972, Accuracy: 0.8930\n",
            "Evaluating at step 1060\n",
            "Validation Loss: 0.2448, Accuracy: 0.9148\n",
            "Evaluating at step 1080\n",
            "Validation Loss: 0.2696, Accuracy: 0.9000\n",
            "Evaluating at step 1100\n",
            "Validation Loss: 0.2789, Accuracy: 0.9007\n",
            "Evaluating at step 1120\n",
            "Validation Loss: 0.2862, Accuracy: 0.8944\n",
            "Evaluating at step 1140\n",
            "Validation Loss: 0.2525, Accuracy: 0.9141\n",
            "Evaluating at step 1160\n",
            "Validation Loss: 0.2615, Accuracy: 0.9120\n",
            "Evaluating at step 1180\n",
            "Validation Loss: 0.2836, Accuracy: 0.9007\n",
            "Evaluating at step 1200\n",
            "Validation Loss: 0.2647, Accuracy: 0.9035\n",
            "Evaluating at step 1220\n",
            "Validation Loss: 0.2659, Accuracy: 0.9162\n",
            "Evaluating at step 1240\n",
            "Validation Loss: 0.2500, Accuracy: 0.9296\n",
            "Evaluating at step 1260\n",
            "Validation Loss: 0.2657, Accuracy: 0.9085\n",
            "Evaluating at step 1280\n",
            "Validation Loss: 0.2647, Accuracy: 0.9148\n",
            "Evaluating at step 1300\n",
            "Validation Loss: 0.2259, Accuracy: 0.9275\n",
            "Evaluating at step 1320\n",
            "Validation Loss: 0.2531, Accuracy: 0.9204\n",
            "Evaluating at step 1340\n",
            "Validation Loss: 0.2983, Accuracy: 0.8845\n",
            "Evaluating at step 1360\n",
            "Validation Loss: 0.2345, Accuracy: 0.9232\n",
            "Evaluating at step 1380\n",
            "Validation Loss: 0.2459, Accuracy: 0.9204\n",
            "Evaluating at step 1400\n",
            "Validation Loss: 0.2404, Accuracy: 0.9134\n",
            "Evaluating at step 1420\n",
            "Validation Loss: 0.2397, Accuracy: 0.9190\n",
            "Evaluating at step 1440\n",
            "Validation Loss: 0.2561, Accuracy: 0.9155\n",
            "Evaluating at step 1460\n",
            "Validation Loss: 0.2617, Accuracy: 0.9099\n",
            "Evaluating at step 1480\n",
            "Validation Loss: 0.2649, Accuracy: 0.9113\n",
            "Evaluating at step 1500\n",
            "Validation Loss: 0.2280, Accuracy: 0.9310\n",
            "Evaluating at step 1520\n",
            "Validation Loss: 0.2232, Accuracy: 0.9310\n",
            "Evaluating at step 1540\n",
            "Validation Loss: 0.2278, Accuracy: 0.9261\n",
            "Evaluating at step 1560\n",
            "Validation Loss: 0.2493, Accuracy: 0.9148\n",
            "Evaluating at step 1580\n",
            "Validation Loss: 0.2133, Accuracy: 0.9352\n",
            "Evaluating at step 1600\n",
            "Validation Loss: 0.2559, Accuracy: 0.9162\n",
            "Evaluating at step 1620\n",
            "Validation Loss: 0.2243, Accuracy: 0.9310\n",
            "Evaluating at step 1640\n",
            "Validation Loss: 0.2344, Accuracy: 0.9239\n",
            "Evaluating at step 1660\n",
            "Validation Loss: 0.2566, Accuracy: 0.9056\n",
            "Evaluating at step 1680\n",
            "Validation Loss: 0.2512, Accuracy: 0.9120\n",
            "Evaluating at step 1700\n",
            "Validation Loss: 0.2298, Accuracy: 0.9239\n",
            "Evaluating at step 1720\n",
            "Validation Loss: 0.2195, Accuracy: 0.9352\n",
            "Evaluating at step 1740\n",
            "Validation Loss: 0.2334, Accuracy: 0.9246\n",
            "Evaluating at step 1760\n",
            "Validation Loss: 0.2334, Accuracy: 0.9232\n",
            "Evaluating at step 1780\n",
            "Validation Loss: 0.2430, Accuracy: 0.9134\n",
            "Evaluating at step 1800\n",
            "Validation Loss: 0.1913, Accuracy: 0.9387\n",
            "Evaluating at step 1820\n",
            "Validation Loss: 0.2281, Accuracy: 0.9225\n",
            "Evaluating at step 1840\n",
            "Validation Loss: 0.2384, Accuracy: 0.9239\n",
            "Evaluating at step 1860\n",
            "Validation Loss: 0.2189, Accuracy: 0.9282\n",
            "Evaluating at step 1880\n",
            "Validation Loss: 0.2426, Accuracy: 0.9141\n",
            "Evaluating at step 1900\n",
            "Validation Loss: 0.2374, Accuracy: 0.9254\n",
            "Evaluating at step 1920\n",
            "Validation Loss: 0.2315, Accuracy: 0.9261\n",
            "Evaluating at step 1940\n",
            "Validation Loss: 0.2052, Accuracy: 0.9289\n",
            "Evaluating at step 1960\n",
            "Validation Loss: 0.1736, Accuracy: 0.9465\n",
            "Evaluating at step 1980\n",
            "Validation Loss: 0.1960, Accuracy: 0.9423\n",
            "Evaluating at step 2000\n",
            "Validation Loss: 0.2135, Accuracy: 0.9282\n",
            "Evaluating at step 2020\n",
            "Validation Loss: 0.1761, Accuracy: 0.9549\n",
            "Performance condition satisfied, stopping..\n",
            "CPU times: user 14min 49s, sys: 15.7 s, total: 15min 5s\n",
            "Wall time: 15min 3s\n"
          ],
          "name": "stdout"
        }
      ]
    },
    {
      "cell_type": "code",
      "metadata": {
        "colab": {
          "base_uri": "https://localhost:8080/",
          "height": 486
        },
        "id": "CMKhOYqkNrfF",
        "outputId": "7bf36890-694b-4e22-cfcf-8419ec3b69c3"
      },
      "source": [
        "fig1, axs = plt.subplots(figsize=(8,8))\n",
        "\n",
        "axs.plot(train_losses, 'b-', label='Train loss')\n",
        "axs.plot(test_losses, 'r-', label='Val loss')\n",
        "\n",
        "\n",
        "axs.set_ylim([0, 3])\n",
        "\n",
        "plt.grid()\n",
        "plt.legend()\n",
        "plt.show()"
      ],
      "id": "CMKhOYqkNrfF",
      "execution_count": 47,
      "outputs": [
        {
          "output_type": "display_data",
          "data": {
            "image/png": "[encoded data removed]",
            "text/plain": [
              "<Figure size 576x576 with 1 Axes>"
            ]
          },
          "metadata": {
            "tags": [],
            "needs_background": "light"
          }
        }
      ]
    },
    {
      "cell_type": "code",
      "metadata": {
        "colab": {
          "base_uri": "https://localhost:8080/",
          "height": 282
        },
        "id": "HR-kkSwqTf9f",
        "outputId": "8d572964-0630-4815-ad42-d7040eb83424"
      },
      "source": [
        "from sklearn.metrics import confusion_matrix\n",
        "\n",
        "# Initialize the prediction and label lists(tensors)\n",
        "predlist=torch.zeros(0,dtype=torch.long)\n",
        "lbllist=torch.zeros(0,dtype=torch.long)\n",
        "\n",
        "gnet.eval()\n",
        "for val_step, (images, labels) in enumerate(dl_test):\n",
        "  images = images.to(device)\n",
        "  labels = labels.to(device)\n",
        "  outputs = gnet(images)\n",
        "\n",
        "  _, preds = torch.max(outputs, 1)\n",
        "  \n",
        "  # Append batch prediction results\n",
        "  predlist=torch.cat([predlist,preds.view(-1).cpu()])\n",
        "  lbllist=torch.cat([lbllist,labels.view(-1).cpu()])\n",
        "\n",
        "conf_mat=confusion_matrix(lbllist.numpy(), predlist.numpy())\n",
        "#print(conf_mat)\n",
        "import seaborn as sns\n",
        "import pandas as pd\n",
        "df_cm = pd.DataFrame(conf_mat, index = class_names,\n",
        "                  columns = class_names)\n",
        "sns.heatmap(df_cm, annot=True,cmap='Blues',fmt=\".0f\")"
      ],
      "id": "HR-kkSwqTf9f",
      "execution_count": 48,
      "outputs": [
        {
          "output_type": "execute_result",
          "data": {
            "text/plain": [
              "<matplotlib.axes._subplots.AxesSubplot at 0x7fb79c08d490>"
            ]
          },
          "metadata": {
            "tags": []
          },
          "execution_count": 48
        },
        {
          "output_type": "display_data",
          "data": {
            "image/png": "[encoded data removed]",
            "text/plain": [
              "<Figure size 432x288 with 2 Axes>"
            ]
          },
          "metadata": {
            "tags": [],
            "needs_background": "light"
          }
        }
      ]
    },
    {
      "cell_type": "code",
      "metadata": {
        "id": "gentle-ireland"
      },
      "source": [
        "torch.save(gnet.state_dict(), '/tmp/COVID-19_Radiography_Dataset/my_gnet.pth')"
      ],
      "id": "gentle-ireland",
      "execution_count": null,
      "outputs": []
    },
    {
      "cell_type": "code",
      "metadata": {
        "colab": {
          "base_uri": "https://localhost:8080/"
        },
        "id": "G2iu5yUMTbbL",
        "outputId": "39d9d721-efc6-45ef-8de5-92d2611d235f"
      },
      "source": [
        "#Cargamos el modelo guardado\n",
        "modelgnet_ = torchvision.models.googlenet(pretrained=True)\n",
        "modelgnet_.fc = torch.nn.Linear(in_features = 1024, out_features = 4)\n",
        "modelgnet_.load_state_dict(torch.load('/tmp/COVID-19_Radiography_Dataset/my_gnet.pth'))"
      ],
      "id": "G2iu5yUMTbbL",
      "execution_count": null,
      "outputs": [
        {
          "output_type": "execute_result",
          "data": {
            "text/plain": [
              "<All keys matched successfully>"
            ]
          },
          "metadata": {
            "tags": []
          },
          "execution_count": 70
        }
      ]
    },
    {
      "cell_type": "code",
      "metadata": {
        "id": "C4r5zuLmV65z"
      },
      "source": [
        "import torchvision.transforms as T\n",
        "def transformar_imagen(name):\n",
        "  '''\n",
        "  Pre procesamiento de la imagen\n",
        "  '''\n",
        "  image = Image.open(name).convert('RGB')\n",
        "\n",
        "  \n",
        "  transf = T.Compose([T.Resize(size = (224, 224)),\n",
        "                      #T.CenterCrop(224),\n",
        "                      T.ToTensor(), # entre 0 y 1\n",
        "                      T.Normalize([0.485,0.456,0.406],[0.229,0.224,0.225])]) # medias y desviacion estandar (Welford's method)\n",
        "  #image = Image.open(name)\n",
        "  # Tamaño (3,224,224) => (1, 3, 224, 224)\n",
        "  return transf(image).unsqueeze(0) # tensor singleton"
      ],
      "id": "C4r5zuLmV65z",
      "execution_count": null,
      "outputs": []
    },
    {
      "cell_type": "code",
      "metadata": {
        "id": "ngEZrcFhVj66"
      },
      "source": [
        "def prediccion2(network, name):\n",
        "  '''\n",
        "  Predicción con grado de confidencia\n",
        "  '''\n",
        "  tensor = transformar_imagen(name)\n",
        "  network.eval()\n",
        "  output = network(tensor)\n",
        "  #output = F.softmax(pred, dim=-1)\n",
        "  _, pred = torch.max(output,1)\n",
        "  #index = str(val.item())\n",
        "  show_images(tensor, pred, pred)\n",
        "  return pred\n",
        "  "
      ],
      "id": "ngEZrcFhVj66",
      "execution_count": null,
      "outputs": []
    },
    {
      "cell_type": "code",
      "metadata": {
        "colab": {
          "base_uri": "https://localhost:8080/",
          "height": 222
        },
        "id": "6aR-KL2zTbqs",
        "outputId": "a167fde3-9918-49d2-f1a6-502d931999d2"
      },
      "source": [
        "pred_gnet = prediccion2(modelgnet_, '/tmp/COVID-19_Radiography_Dataset/test/covid/COVID-1032.png')"
      ],
      "id": "6aR-KL2zTbqs",
      "execution_count": null,
      "outputs": [
        {
          "output_type": "display_data",
          "data": {
            "image/png": "[encoded data removed]",
            "text/plain": [
              "<Figure size 1152x648 with 1 Axes>"
            ]
          },
          "metadata": {
            "tags": []
          }
        }
      ]
    },
    {
      "cell_type": "code",
      "metadata": {
        "colab": {
          "base_uri": "https://localhost:8080/"
        },
        "id": "KMb2xrJUUtU0",
        "outputId": "8cbcd2ad-ef45-440b-e73e-66c945fcc561"
      },
      "source": [
        "print(pred_gnet)               "
      ],
      "id": "KMb2xrJUUtU0",
      "execution_count": null,
      "outputs": [
        {
          "output_type": "stream",
          "text": [
            "tensor([2])\n"
          ],
          "name": "stdout"
        }
      ]
    },
    {
      "cell_type": "code",
      "metadata": {
        "id": "i6D4bXpQZUNa"
      },
      "source": [
        ""
      ],
      "id": "i6D4bXpQZUNa",
      "execution_count": null,
      "outputs": []
    }
  ]
}